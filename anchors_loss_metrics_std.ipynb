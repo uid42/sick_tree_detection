{
 "cells": [
  {
   "cell_type": "code",
   "execution_count": 2,
   "metadata": {},
   "outputs": [],
   "source": [
    "%load_ext autoreload\n",
    "%autoreload 2\n",
    "\n",
    "%matplotlib inline"
   ]
  },
  {
   "cell_type": "markdown",
   "metadata": {},
   "source": [
    "# import"
   ]
  },
  {
   "cell_type": "code",
   "execution_count": 3,
   "metadata": {},
   "outputs": [],
   "source": [
    "# export\n",
    "from exp import nb_resnet_ssd_std"
   ]
  },
  {
   "cell_type": "code",
   "execution_count": 4,
   "metadata": {},
   "outputs": [],
   "source": [
    "# export\n",
    "import sys \n",
    "sys.path.append(\"..\") \n",
    "#from exp import nb_bbox_hw_statistics\n",
    "from detect_symbol.exp import nb_databunch\n",
    "from detect_symbol.exp import nb_init_model\n",
    "from detect_symbol.exp import nb_resnet_ssd\n",
    "from detect_symbol.exp import nb_anchors_loss_metrics"
   ]
  },
  {
   "cell_type": "code",
   "execution_count": 5,
   "metadata": {},
   "outputs": [],
   "source": [
    "# export\n",
    "import torch"
   ]
  },
  {
   "cell_type": "code",
   "execution_count": 6,
   "metadata": {},
   "outputs": [],
   "source": [
    "# export\n",
    "from torch.nn import functional as F"
   ]
  },
  {
   "cell_type": "code",
   "execution_count": 7,
   "metadata": {},
   "outputs": [],
   "source": [
    "# export\n",
    "from torch import tensor"
   ]
  },
  {
   "cell_type": "code",
   "execution_count": 8,
   "metadata": {},
   "outputs": [],
   "source": [
    "from matplotlib import pyplot as plt"
   ]
  },
  {
   "cell_type": "code",
   "execution_count": 9,
   "metadata": {},
   "outputs": [],
   "source": [
    "# export\n",
    "from IPython.core import debugger as idb"
   ]
  },
  {
   "cell_type": "code",
   "execution_count": 10,
   "metadata": {},
   "outputs": [],
   "source": [
    "# export\n",
    "import numpy as np"
   ]
  },
  {
   "cell_type": "code",
   "execution_count": 11,
   "metadata": {},
   "outputs": [],
   "source": [
    "# export\n",
    "import math"
   ]
  },
  {
   "cell_type": "markdown",
   "metadata": {},
   "source": [
    "## functions"
   ]
  },
  {
   "cell_type": "code",
   "execution_count": 12,
   "metadata": {},
   "outputs": [],
   "source": [
    "# export\n",
    "def find_neibs(idx, grids = (49, 49), dis = 1):\n",
    "    '''\n",
    "    找到某个anchor周围相邻的anchors的下标里列表。距离默认1。\n",
    "    这个任务中只有第一层的grids参与，所以只需要第一次的grids的尺寸。\n",
    "    anchor也是1对1的。\n",
    "    参数：\n",
    "        idx：目标anchor在grid anchors(get_grid_anchors返回的gvs)列表中的下标\n",
    "        grids: 尺寸\n",
    "        dis：邻居的距离\n",
    "    返回值：\n",
    "        邻居的下标列表\n",
    "    '''\n",
    "    gh, gw = grids\n",
    "    x = idx % gh\n",
    "    y = idx // gw\n",
    "    ret = []\n",
    "    for nx in range(x - dis, x + dis + 1):\n",
    "        for ny in range(y - dis, y + dis + 1):\n",
    "            if nx >= 0 and ny >= 0 and nx < gw and ny < gh \\\n",
    "                    and not(nx == x and ny == y):\n",
    "                nidx = ny * gw + nx\n",
    "                ret += [nidx]\n",
    "    return ret      \n",
    "                \n",
    "    "
   ]
  },
  {
   "cell_type": "code",
   "execution_count": 13,
   "metadata": {},
   "outputs": [],
   "source": [
    "# export\n",
    "#定义一个新的GridAnchor_Functions，主要是修改get_scroe_hits\n",
    "class GridAnchor_Funcs_std(nb_anchors_loss_metrics.GridAnchor_Funcs):\n",
    "    def __init__(self, fig_hw, grids, device):\n",
    "        anchors = [[(0, 0)]]\n",
    "        gvs,ghs,gws,avs,ahs,aws = nb_anchors_loss_metrics.get_grids_anchors( \\\n",
    "                    fig_hw, grids, anchors)\n",
    "        self.grids = grids\n",
    "        super().__init__(gvs, avs, device)\n",
    "        \n",
    "    #下面的三个函数都用不上了。防止被调用到。\n",
    "    def get_scores_hits(self, gt_bboxs): \n",
    "        assert False, 'deleted'\n",
    "    def b2t(self, gt_bboxs,idx,eps=1):\n",
    "        assert False, 'deleted'\n",
    "    def t2b(self,t,idx,eps=1):\n",
    "        assert False, 'deleted'\n",
    "        \n",
    "    def get_hits(self, gt_bboxs): \n",
    "        # ground truch bbox center x,y\n",
    "        gt_cx = gt_bboxs[:,[0,2]].mean(-1)\n",
    "        gt_cy = gt_bboxs[:,[1,3]].mean(-1)\n",
    "\n",
    "        # 判断目标bbox的中心落在哪个cell内\n",
    "        hits = ((gt_cx[:,None] >= self.gvs[:,0][None]) &\n",
    "                (gt_cx[:,None] <  self.gvs[:,2][None]) &\n",
    "                (gt_cy[:,None] >= self.gvs[:,1][None]) &\n",
    "                (gt_cy[:,None] <  self.gvs[:,3][None]))\n",
    "        \n",
    "        return hits\n",
    "   \n",
    "    def b2c(self, gt_bboxs,idx,eps=1):\n",
    "        '''\n",
    "        gt_bbox->center        \n",
    "        '''\n",
    "        cx,cy = self.gvs[idx,0],self.gvs[idx,1]\n",
    "        gh,gw = self.ghs[idx],self.gws[idx]\n",
    "        #ph,pw = self.ahs[idx],self.aws[idx]\n",
    "\n",
    "        bx = (gt_bboxs[:,0] + gt_bboxs[:,2])/2 # x of center of box\n",
    "        by = (gt_bboxs[:,1] + gt_bboxs[:,3])/2 # y of center of box\n",
    "        hatsig_tx = (bx - cx)/gh\n",
    "        hatsig_ty = (by - cy)/gw\n",
    "        \n",
    "        sig_tx = (hatsig_tx+0.5*eps)/(1+eps)\n",
    "        sig_ty = (hatsig_ty+0.5*eps)/(1+eps)\n",
    "\n",
    "        tx = torch.log(sig_tx/(1-sig_tx))\n",
    "        ty = torch.log(sig_ty/(1-sig_ty))\n",
    "        \n",
    "        return torch.stack([tx, ty]).t()\n",
    "  \n",
    "    def c2b(self,t,idx,eps=1):\n",
    "        '''\n",
    "        center->bbox.这些bbox都是没有宽高的。也就是后右下角坐标和左上角坐标相同。\n",
    "        '''\n",
    "        cx,cy = self.gvs[idx,0],self.gvs[idx,1]\n",
    "        gh,gw = self.ghs[idx],self.gws[idx]\n",
    "\n",
    "        sig_tx = torch.sigmoid(t[...,0])\n",
    "        sig_ty = torch.sigmoid(t[...,1])\n",
    "        \n",
    "        hatsig_tx = (1+eps)*(sig_tx-0.5) + 0.5\n",
    "        hatsig_ty = (1+eps)*(sig_ty-0.5) + 0.5\n",
    "\n",
    "        bx = hatsig_tx*gw + cx # x of center of box\n",
    "        by = hatsig_ty*gh + cy # y of center of box\n",
    "\n",
    "        res = torch.stack([bx, by, bx, by],dim=0)\n",
    "        res = res.permute(list(range(len(res.shape)))[1:]+[0])\n",
    "        return res\n",
    "    "
   ]
  },
  {
   "cell_type": "code",
   "execution_count": 14,
   "metadata": {},
   "outputs": [],
   "source": [
    "# export\n",
    "def yolo_L_std(pred_batch, *gt_batch, conf_th=0.5,\n",
    "           lambda_cent=1, lambda_pconf=1, lambda_nconf=1, lambda_clas=1, clas_weights=None, gaf):\n",
    "    '''\n",
    "    与detect_symbol里面的yolo_L相比的区别是：\n",
    "        不计算宽高方面的损失\n",
    "        neg_idx要去掉find_neibs返回的discard列表\n",
    "        \n",
    "    clas_weights: \n",
    "    为了解决数据集的imbalance问题，一种方法是在dataloader中使用WeightedRandomSampler，但是这种方法不适用于目标检测问题。\n",
    "    因为，（1）目标检测的label不是一个简单的数值（2）目标检测问题的一张图片可能包括不同类别的多个目标。\n",
    "    所以为了解决目标检测问题中的imbalance问题，我们的方法是在损失函数中使用权重。\n",
    "    为各类别分配权重，各目标对应的损失乘以该目标所属类别的权重。\n",
    "    默认为None，即不使用权重。\n",
    "    若设置非None，则clas_weights应该是一个一维tensor，其长度等于数据集的类别数。\n",
    "    若设置为全1，则相当于不使用权重。\n",
    "    合理的设置应保证所有元素之和等于数据集的类别数，否则相当于对损失函数的整体做了缩放。\n",
    "    '''\n",
    "    clas_loss = 0\n",
    "    cent_loss = 0\n",
    "    pconf_loss = 0\n",
    "    nconf_loss = 0\n",
    "    pos_cnt = 0\n",
    "    neg_cnt = 0\n",
    "    \n",
    "    for pred_txy,pred_conf,pred_clas,gt_bboxs,gt_clas in zip(*pred_batch, *gt_batch):\n",
    "        keep = nb_anchors_loss_metrics.get_y(gt_bboxs)\n",
    "        if keep.numel()==0: \n",
    "            #这时候所有anchor都是negative的。所以空白的也要贡献自己的loss\n",
    "            conf_neg = pred_conf#所有anchor的\n",
    "            nconf_loss += F.binary_cross_entropy_with_logits(conf_neg,torch.zeros_like(conf_neg),reduction='sum')\n",
    "            neg_cnt += len(pred_conf)\n",
    "            continue\n",
    "          \n",
    "        gt_bboxs = gt_bboxs[keep]\n",
    "        gt_clas = gt_clas[keep]\n",
    "        \n",
    "        gt_bboxs = (gt_bboxs + 1) / 2\n",
    "        gt_clas = gt_clas - 1 # the databunch add a 'background' class to classes[0], but we don't want that,so gt_clas-1\n",
    "        \n",
    "        if clas_weights is not None: ws = clas_weights[gt_clas]\n",
    "        else: ws = None\n",
    "        \n",
    "        hits = gaf.get_hits(gt_bboxs)\n",
    "        idx = idx_fromHits(hits)\n",
    "        \n",
    "        # classification loss\n",
    "        pred_clas = pred_clas[idx]\n",
    "        clas_loss += F.cross_entropy(pred_clas, gt_clas, weight=clas_weights, reduction='sum')\n",
    "        \n",
    "        # bbox center loss\n",
    "        gt_t = gaf.b2c(gt_bboxs,idx,eps=1)\n",
    "        pred_txy = pred_txy[idx]\n",
    "        if ws is not None:\n",
    "            cent_loss += ((gt_t[...,:2]-pred_txy)*ws[...,None]).abs().sum()\n",
    "        else:\n",
    "            cent_loss += (gt_t[...,:2]-pred_txy).abs().sum()\n",
    "        \n",
    "        # positive confidence loss\n",
    "        conf_pos = pred_conf[idx]\n",
    "        if ws is not None: \n",
    "            pconf_loss += F.binary_cross_entropy_with_logits(conf_pos,torch.ones_like(conf_pos),weight=ws[...,None],reduction='sum')\n",
    "        else: \n",
    "            pconf_loss += F.binary_cross_entropy_with_logits(conf_pos,torch.ones_like(conf_pos),reduction='sum')\n",
    "\n",
    "        #positive\n",
    "        tmp = (hits * 1).max(dim=0)[0]\n",
    "        \n",
    "        #取得命中的anchor周围的anchor的下标立标\n",
    "        discards = []\n",
    "        for hidx in idx:\n",
    "            neibs = find_neibs(hidx, gaf.grids[0], dis = 1)            \n",
    "            for i in neibs:\n",
    "                discards += [i]\n",
    "        #把周围的邻居加进来，剩下的就是negative了\n",
    "        tmp[discards] = 1\n",
    "         \n",
    "        neg_idx = torch.where(tmp==0)[0] # 如果没有，该anchor是negative anchor\n",
    "        \n",
    "        conf_neg = pred_conf[neg_idx]\n",
    "        nconf_loss += F.binary_cross_entropy_with_logits(conf_neg,torch.zeros_like(conf_neg),reduction='sum')\n",
    "        \n",
    "        pos_cnt += len(idx)\n",
    "        neg_cnt += len(neg_idx)\n",
    "        \n",
    "    \n",
    "    if pos_cnt > 0:#测试的极端情况碰到都是空白的。只有nconf_loss在前面计算了。\n",
    "        clas_loss  = lambda_clas  * clas_loss  /pos_cnt\n",
    "        cent_loss  = lambda_cent  * cent_loss  /pos_cnt\n",
    "        pconf_loss = lambda_pconf * pconf_loss /pos_cnt\n",
    "    nconf_loss = lambda_nconf * nconf_loss /neg_cnt\n",
    "    \n",
    "    return clas_loss + cent_loss + pconf_loss + nconf_loss\n",
    "\n"
   ]
  },
  {
   "cell_type": "code",
   "execution_count": 63,
   "metadata": {},
   "outputs": [],
   "source": [
    "# export\n",
    "def bbox2c(b):\n",
    "    '''\n",
    "    将bbox的（左上x，左上y，右下x，右下y）表示变为（中心x，中心y）表示\n",
    "    '''\n",
    "    cx = b[...,[0,2]].mean(-1)[...,None]\n",
    "    cy = b[...,[1,3]].mean(-1)[...,None]\n",
    "    \n",
    "    return torch.cat([cx,cy],dim=-1)"
   ]
  },
  {
   "cell_type": "code",
   "execution_count": 16,
   "metadata": {},
   "outputs": [],
   "source": [
    "# export\n",
    "def idx_fromHits(hits):\n",
    "    idx = (hits * 1).max(1)[1]\n",
    "    return idx"
   ]
  },
  {
   "cell_type": "code",
   "execution_count": 17,
   "metadata": {},
   "outputs": [],
   "source": [
    "# export\n",
    "def cent_d_std(pred_batch, *gt_batch, gaf):\n",
    "    '''\n",
    "    bbox center difference\n",
    "    '''\n",
    "    dif = tensor(0.)\n",
    "    cnt = tensor(0.)\n",
    "    for pred_txy,gt_bboxs,_ in zip(pred_batch[0], *gt_batch):\n",
    "        keep = nb_anchors_loss_metrics.get_y(gt_bboxs)\n",
    "        if keep.numel()==0: continue\n",
    "          \n",
    "        #pred_t = torch.cat([pred_txy,pred_thw],dim=1)\n",
    "        pred_t = pred_txy\n",
    "        \n",
    "        gt_bboxs = gt_bboxs[keep]\n",
    "        gt_bboxs = (gt_bboxs + 1) / 2\n",
    "        \n",
    "        hits = gaf.get_hits(gt_bboxs)\n",
    "        idx = idx_fromHits(hits)\n",
    "        \n",
    "        pred_t = pred_t[idx]\n",
    "        pred_c = bbox2c(gaf.c2b(pred_t,idx))[...,:2]\n",
    "        gt_c = bbox2c(gt_bboxs)[...,:2]\n",
    "        \n",
    "        tmp = (gt_c - pred_c).abs().sum()\n",
    "        dif += tmp\n",
    "        cnt += len(idx)\n",
    "    \n",
    "    return dif/cnt/2"
   ]
  },
  {
   "cell_type": "markdown",
   "metadata": {},
   "source": [
    "# test"
   ]
  },
  {
   "cell_type": "code",
   "execution_count": null,
   "metadata": {},
   "outputs": [],
   "source": [
    "#get_grid_anchors的生成顺序\n",
    "grids = [(49,49),(25,25),(13,13)]\n",
    "anchors = [[(22,17),(22,37),(43,17),(43,37)],\n",
    "            [(43,77),(83,37),(83,77)],\n",
    "            [(83,162),(162,77),(162,162)]]\n",
    "t = [(x, y, gx, gy, ax, ay) for (gx,gy),ancs in zip(grids,anchors)\n",
    "                                for y in range(gy)\n",
    "                                for x in range(gx)\n",
    "                                for ax,ay in ancs]\n",
    "print(t[:100])"
   ]
  },
  {
   "cell_type": "code",
   "execution_count": null,
   "metadata": {},
   "outputs": [],
   "source": [
    "#测试find_neibs\n",
    "neibs = find_neibs(100, (49, 49))\n",
    "\n",
    "gvs,ghs,gws,avs,ahs,aws = nb_anchors_loss_metrics.get_grids_anchors( \\\n",
    "                                (776,776), [(49,49)], [[(1,1)]])\n",
    "print('邻居', neibs)\n",
    "for idx in neibs:\n",
    "    print(idx, anchors)\n",
    "    print(avs[idx])"
   ]
  },
  {
   "cell_type": "code",
   "execution_count": 60,
   "metadata": {
    "code_folding": []
   },
   "outputs": [],
   "source": [
    "# 获取 grids 和 anchors。anchor大小不重要。可以设置为0\n",
    "gvs,ghs,gws,avs,ahs,aws = nb_anchors_loss_metrics.get_grids_anchors(\n",
    "                                            fig_hw = (776,776),\n",
    "                                            grids = [(49,49)],\n",
    "                                            anchors = [[(0,0)]])"
   ]
  },
  {
   "cell_type": "code",
   "execution_count": 59,
   "metadata": {},
   "outputs": [
    {
     "data": {
      "text/plain": [
       "(torch.Size([2401, 4]),\n",
       " torch.Size([2401]),\n",
       " torch.Size([2401]),\n",
       " torch.Size([2401, 4]),\n",
       " torch.Size([2401]),\n",
       " torch.Size([2401]))"
      ]
     },
     "execution_count": 59,
     "metadata": {},
     "output_type": "execute_result"
    }
   ],
   "source": [
    "# 这些变量的尺寸\n",
    "gvs.shape, ghs.shape, gws.shape, avs.shape, ahs.shape, aws.shape"
   ]
  },
  {
   "cell_type": "code",
   "execution_count": 20,
   "metadata": {},
   "outputs": [
    {
     "data": {
      "text/plain": [
       "2401"
      ]
     },
     "execution_count": 20,
     "metadata": {},
     "output_type": "execute_result"
    }
   ],
   "source": [
    "49*49*1  #只有一个anchor"
   ]
  },
  {
   "cell_type": "code",
   "execution_count": 23,
   "metadata": {},
   "outputs": [],
   "source": [
    "device = torch.device('cpu')"
   ]
  },
  {
   "cell_type": "code",
   "execution_count": 24,
   "metadata": {},
   "outputs": [],
   "source": [
    "device_ids = [0]"
   ]
  },
  {
   "cell_type": "code",
   "execution_count": 25,
   "metadata": {},
   "outputs": [],
   "source": [
    "gaf = GridAnchor_Funcs_std(fig_hw = (776,776)\n",
    "                         , grids = [(49,49)]\n",
    "                         , device = device)"
   ]
  },
  {
   "cell_type": "code",
   "execution_count": 26,
   "metadata": {},
   "outputs": [],
   "source": [
    "#先用detect_symbol的数据集测试\n",
    "data = nb_databunch.get_databunch(data_root = '../detect_symbol/data/ds_20200429', bs=4,device=device)\n",
    "x,y = data.one_batch()"
   ]
  },
  {
   "cell_type": "code",
   "execution_count": 27,
   "metadata": {},
   "outputs": [],
   "source": [
    "# get model and load init parameters\n",
    "#用符号检测的数据集测试!!!!!!类别不同!!!!\n",
    "model = nb_resnet_ssd_std.get_resnet18_1ssd_std(num_classes = 17)\n"
   ]
  },
  {
   "cell_type": "code",
   "execution_count": 61,
   "metadata": {},
   "outputs": [],
   "source": [
    "# pred a batch\n",
    "pred = model(x)"
   ]
  },
  {
   "cell_type": "code",
   "execution_count": null,
   "metadata": {},
   "outputs": [],
   "source": []
  },
  {
   "cell_type": "markdown",
   "metadata": {},
   "source": [
    "### find idx of the responsible anchor"
   ]
  },
  {
   "cell_type": "code",
   "execution_count": 32,
   "metadata": {},
   "outputs": [
    {
     "data": {
      "text/plain": [
       "torch.Size([4, 23])"
      ]
     },
     "execution_count": 32,
     "metadata": {},
     "output_type": "execute_result"
    }
   ],
   "source": [
    "y[1].shape"
   ]
  },
  {
   "cell_type": "code",
   "execution_count": 33,
   "metadata": {},
   "outputs": [
    {
     "data": {
      "text/plain": [
       "tensor([0.7368, 0.3055, 0.7770, 0.3483])"
      ]
     },
     "execution_count": 33,
     "metadata": {},
     "output_type": "execute_result"
    }
   ],
   "source": [
    "# 选择一个bbox\n",
    "samp = 1 # samp: sample, get one bbox from this sample\n",
    "bb = (y[0][samp][-1]+1)/2\n",
    "bb"
   ]
  },
  {
   "cell_type": "code",
   "execution_count": 57,
   "metadata": {},
   "outputs": [
    {
     "data": {
      "text/plain": [
       "(tensor([[False, False, False,  ..., False, False, False]]), tensor([821]))"
      ]
     },
     "execution_count": 57,
     "metadata": {},
     "output_type": "execute_result"
    }
   ],
   "source": [
    "# 测试 get_hits 和 idx_fromHits\n",
    "hits= gaf.get_hits(bb.to(device)[None])\n",
    "idx = idx_fromHits(hits)\n",
    "hits, idx"
   ]
  },
  {
   "cell_type": "code",
   "execution_count": 64,
   "metadata": {},
   "outputs": [
    {
     "data": {
      "text/plain": [
       "(37, 16)"
      ]
     },
     "execution_count": 64,
     "metadata": {},
     "output_type": "execute_result"
    }
   ],
   "source": [
    "#中心点坐标\n",
    "cx, cy = (bb[0] + bb[2]) / 2, (bb[1] + bb[3]) / 2\n",
    "#resnet18,49*49\n",
    "cx, cy = int(cx * 49), int(cy * 49)\n",
    "cx, cy"
   ]
  },
  {
   "cell_type": "code",
   "execution_count": 65,
   "metadata": {},
   "outputs": [
    {
     "data": {
      "text/plain": [
       "821"
      ]
     },
     "execution_count": 65,
     "metadata": {},
     "output_type": "execute_result"
    }
   ],
   "source": [
    "#坐在anchor的index\n",
    "16*49+37"
   ]
  },
  {
   "cell_type": "code",
   "execution_count": null,
   "metadata": {},
   "outputs": [],
   "source": []
  },
  {
   "cell_type": "markdown",
   "metadata": {},
   "source": [
    "### losses"
   ]
  },
  {
   "cell_type": "code",
   "execution_count": 37,
   "metadata": {
    "code_folding": []
   },
   "outputs": [],
   "source": [
    "# # classification loss\n",
    "# def dbg():\n",
    "#     import pdb; pdb.set_trace()\n",
    "#     #loss = nb_anchors_loss_metrics.cent_L(pred,*y,gaf=gaf, clas_weights=None)\n",
    "#     loss = yolo_L_std(pred,*y, clas_weights=None,gaf=gaf)\n",
    "#     return loss\n",
    "# loss = dbg()\n",
    "# loss"
   ]
  },
  {
   "cell_type": "code",
   "execution_count": 38,
   "metadata": {},
   "outputs": [
    {
     "data": {
      "text/plain": [
       "tensor(7.3129, grad_fn=<AddBackward0>)"
      ]
     },
     "execution_count": 38,
     "metadata": {},
     "output_type": "execute_result"
    }
   ],
   "source": [
    "# total loss\n",
    "total_loss = yolo_L_std(pred,*y, clas_weights=None,gaf=gaf)\n",
    "total_loss"
   ]
  },
  {
   "cell_type": "markdown",
   "metadata": {},
   "source": [
    "### bbox center difference"
   ]
  },
  {
   "cell_type": "code",
   "execution_count": 40,
   "metadata": {
    "scrolled": false
   },
   "outputs": [
    {
     "data": {
      "text/plain": [
       "tensor(0.0091, grad_fn=<DivBackward0>)"
      ]
     },
     "execution_count": 40,
     "metadata": {},
     "output_type": "execute_result"
    }
   ],
   "source": [
    "cent_d_std(pred,*y,gaf=gaf)"
   ]
  },
  {
   "cell_type": "markdown",
   "metadata": {},
   "source": [
    "# export"
   ]
  },
  {
   "cell_type": "code",
   "execution_count": 108,
   "metadata": {
    "scrolled": true
   },
   "outputs": [
    {
     "name": "stdout",
     "output_type": "stream",
     "text": [
      "Converted anchors_loss_metrics_std.ipynb to exp/anchors_loss_metrics_std.py\r\n"
     ]
    }
   ],
   "source": [
    "!python notebook2script.py --fname 'anchors_loss_metrics_std.ipynb' --outputDir './exp/'"
   ]
  },
  {
   "cell_type": "code",
   "execution_count": null,
   "metadata": {},
   "outputs": [],
   "source": []
  }
 ],
 "metadata": {
  "kernelspec": {
   "display_name": "Python 3",
   "language": "python",
   "name": "python3"
  }
 },
 "nbformat": 4,
 "nbformat_minor": 2
}
