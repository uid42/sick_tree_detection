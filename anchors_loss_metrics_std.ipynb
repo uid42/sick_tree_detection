{
 "cells": [
  {
   "cell_type": "code",
   "execution_count": null,
   "metadata": {},
   "outputs": [],
   "source": [
    "%load_ext autoreload\n",
    "%autoreload 2\n",
    "\n",
    "%matplotlib inline"
   ]
  },
  {
   "cell_type": "markdown",
   "metadata": {},
   "source": [
    "# import"
   ]
  },
  {
   "cell_type": "code",
   "execution_count": null,
   "metadata": {},
   "outputs": [],
   "source": [
    "from exp import nb_resnet_ssd_std"
   ]
  },
  {
   "cell_type": "code",
   "execution_count": null,
   "metadata": {},
   "outputs": [],
   "source": [
    "import sys \n",
    "sys.path.append(\"..\") \n",
    "#from exp import nb_bbox_hw_statistics\n",
    "from detect_symbol.exp import nb_databunch\n",
    "from detect_symbol.exp import nb_init_model\n",
    "from detect_symbol.exp import nb_resnet_ssd\n",
    "from detect_symbol.exp import nb_anchors_loss_metrics"
   ]
  },
  {
   "cell_type": "code",
   "execution_count": null,
   "metadata": {},
   "outputs": [],
   "source": [
    "# export\n",
    "import torch"
   ]
  },
  {
   "cell_type": "code",
   "execution_count": null,
   "metadata": {},
   "outputs": [],
   "source": [
    "# export\n",
    "from torch.nn import functional as F"
   ]
  },
  {
   "cell_type": "code",
   "execution_count": null,
   "metadata": {},
   "outputs": [],
   "source": [
    "# export\n",
    "from torch import tensor"
   ]
  },
  {
   "cell_type": "code",
   "execution_count": null,
   "metadata": {},
   "outputs": [],
   "source": [
    "from matplotlib import pyplot as plt"
   ]
  },
  {
   "cell_type": "code",
   "execution_count": null,
   "metadata": {},
   "outputs": [],
   "source": [
    "# export\n",
    "from IPython.core import debugger as idb"
   ]
  },
  {
   "cell_type": "code",
   "execution_count": null,
   "metadata": {},
   "outputs": [],
   "source": [
    "# export\n",
    "import numpy as np"
   ]
  },
  {
   "cell_type": "code",
   "execution_count": null,
   "metadata": {},
   "outputs": [],
   "source": [
    "# export\n",
    "import math"
   ]
  },
  {
   "cell_type": "markdown",
   "metadata": {},
   "source": [
    "## functions"
   ]
  },
  {
   "cell_type": "code",
   "execution_count": null,
   "metadata": {},
   "outputs": [],
   "source": [
    "def find_neibs(idx, grids = (49, 49), dis = 1, dbg = None):\n",
    "    '''\n",
    "    找到某个anchor周围相邻的anchors的下标里列表。距离默认1。\n",
    "    这个任务中只有第一层的grids参与，所以只需要第一次的grids的尺寸。\n",
    "    anchor也是1对1的。\n",
    "    参数：\n",
    "        idx：目标anchor在grid anchors(get_grid_anchors返回的gvs)列表中的下标\n",
    "        grids: 尺寸\n",
    "        dis：邻居的距离\n",
    "    返回值：\n",
    "        邻居的下标列表\n",
    "    '''\n",
    "    gh, gw = grids\n",
    "    x = idx % gh\n",
    "    y = idx // gw\n",
    "    ret = []\n",
    "    for nx in range(x - dis, x + dis + 1):\n",
    "        for ny in range(y - dis, y + dis + 1):\n",
    "            if nx >= 0 and ny >= 0 and nx < gw and ny < gh \\\n",
    "                    and not(nx == x and ny == y):\n",
    "                nidx = ny * gw + nx\n",
    "                if dbg:\n",
    "                    print(x, y, nx, ny, nidx)\n",
    "                ret += [nidx]\n",
    "    return ret      \n",
    "                \n",
    "    "
   ]
  },
  {
   "cell_type": "code",
   "execution_count": null,
   "metadata": {},
   "outputs": [],
   "source": [
    "# export\n",
    "#定义一个新的GridAnchor_Functions，主要是修改get_scroe_hits\n",
    "class GridAnchor_Funcs_std(nb_anchors_loss_metrics.GridAnchor_Funcs):\n",
    "    def __init__(self, fig_hw, grids, device):\n",
    "        anchors = [[(0, 0)]]\n",
    "        gvs,ghs,gws,avs,ahs,aws = nb_anchors_loss_metrics.get_grids_anchors( \\\n",
    "                    fig_hw, grids, anchors)\n",
    "        self.grids = grids\n",
    "        super().__init__(gvs, avs, device)\n",
    "        \n",
    "    def get_scores_hits(self, gt_bboxs): \n",
    "        # ground truch bbox center x,y\n",
    "        gt_cx = gt_bboxs[:,[0,2]].mean(-1)\n",
    "        gt_cy = gt_bboxs[:,[1,3]].mean(-1)\n",
    "\n",
    "        # 判断目标bbox的中心落在哪个cell内\n",
    "        hits = ((gt_cx[:,None] >= self.gvs[:,0][None]) &\n",
    "                (gt_cx[:,None] <  self.gvs[:,2][None]) &\n",
    "                (gt_cy[:,None] >= self.gvs[:,1][None]) &\n",
    "                (gt_cy[:,None] <  self.gvs[:,3][None]))\n",
    "        \n",
    "        # 在的就是1，不在就是0\n",
    "        scores = hits * 1\n",
    "        \n",
    "        return scores,hits\n",
    "    \n",
    "    \n",
    "    def t2b(self,t,idx,eps=1):\n",
    "        cx,cy = self.gvs[idx,0],self.gvs[idx,1]\n",
    "        gh,gw = self.ghs[idx],self.gws[idx]\n",
    "        ph,pw = self.ahs[idx],self.aws[idx]\n",
    "\n",
    "        sig_tx = torch.sigmoid(t[...,0])\n",
    "        sig_ty = torch.sigmoid(t[...,1])\n",
    "        #anchor可以设置1或者0，对应的数据集里面的也应该设置对应的值\n",
    "        #或者干脆没有宽高信息\n",
    "        exp_th = torch.zeros(idx.numel())\n",
    "        exp_tw = torch.zeros(idx.numel())\n",
    "\n",
    "        hatsig_tx = (1+eps)*(sig_tx-0.5) + 0.5\n",
    "        hatsig_ty = (1+eps)*(sig_ty-0.5) + 0.5\n",
    "\n",
    "        bx = hatsig_tx*gw + cx # x of center of box\n",
    "        by = hatsig_ty*gh + cy # y of center of box\n",
    "\n",
    "        bh = ph * exp_th    # height of box\n",
    "        bw = pw * exp_tw    # width of box\n",
    "\n",
    "        tl_x = bx - bh/2 # x of top-left corner of box\n",
    "        tl_y = by - bw/2 # y of top-left corner of box \n",
    "        br_x = bx + bh/2 # x of bottom-right corner of box\n",
    "        br_y = by + bw/2 # y of bottom-right corner of box\n",
    "\n",
    "        res = torch.stack([tl_x, tl_y, br_x, br_y],dim=0)\n",
    "        res = res.permute(list(range(len(res.shape)))[1:]+[0])\n",
    "        return res\n",
    "    \n",
    "    def b2t(self, b,idx,eps=1):\n",
    "        cx,cy = self.gvs[idx,0],self.gvs[idx,1]\n",
    "        gh,gw = self.ghs[idx],self.gws[idx]\n",
    "        ph,pw = self.ahs[idx],self.aws[idx]\n",
    "\n",
    "        bx = (b[:,0] + b[:,2])/2 # x of center of box\n",
    "        by = (b[:,1] + b[:,3])/2 # y of center of box\n",
    "        bh = b[:,2] - b[:,0]     # height of box\n",
    "        bw = b[:,3] - b[:,1]     # width of box\n",
    "\n",
    "        hatsig_tx = (bx - cx)/gh\n",
    "        hatsig_ty = (by - cy)/gw\n",
    "        #anchor可以设置1或者0，对应的数据集里面的也应该设置对应的值\n",
    "        #或者干脆没有宽高信息\n",
    "        #exp_th = torch.zeros(idx.numel())\n",
    "        #exp_tw = torch.zeros(idx.numel())\n",
    "\n",
    "        sig_tx = (hatsig_tx+0.5*eps)/(1+eps)\n",
    "        sig_ty = (hatsig_ty+0.5*eps)/(1+eps)\n",
    "\n",
    "        tx = torch.log(sig_tx/(1-sig_tx))\n",
    "        ty = torch.log(sig_ty/(1-sig_ty))\n",
    "        #th = torch.log(exp_th)\n",
    "        #tw = torch.log(exp_tw)\n",
    "        th = torch.zeros(idx.numel())\n",
    "        tw = torch.zeros(idx.numel())\n",
    "\n",
    "        return torch.stack([tx, ty, th, tw]).t()\n",
    "    "
   ]
  },
  {
   "cell_type": "code",
   "execution_count": null,
   "metadata": {},
   "outputs": [],
   "source": [
    "# export\n",
    "def yolo_L_std(pred_batch, *gt_batch, conf_th=0.5,\n",
    "           lambda_cent=1, lambda_pconf=1, lambda_nconf=1, lambda_clas=1, clas_weights=None, gaf):\n",
    "    '''\n",
    "    与detect_symbol里面的yolo_L相比的区别是：\n",
    "        不计算宽高方面的损失\n",
    "        neg_idx要去掉find_neibs返回的discard列表\n",
    "        \n",
    "    clas_weights: \n",
    "    为了解决数据集的imbalance问题，一种方法是在dataloader中使用WeightedRandomSampler，但是这种方法不适用于目标检测问题。\n",
    "    因为，（1）目标检测的label不是一个简单的数值（2）目标检测问题的一张图片可能包括不同类别的多个目标。\n",
    "    所以为了解决目标检测问题中的imbalance问题，我们的方法是在损失函数中使用权重。\n",
    "    为各类别分配权重，各目标对应的损失乘以该目标所属类别的权重。\n",
    "    默认为None，即不使用权重。\n",
    "    若设置非None，则clas_weights应该是一个一维tensor，其长度等于数据集的类别数。\n",
    "    若设置为全1，则相当于不使用权重。\n",
    "    合理的设置应保证所有元素之和等于数据集的类别数，否则相当于对损失函数的整体做了缩放。\n",
    "    '''\n",
    "    clas_loss = 0\n",
    "    cent_loss = 0\n",
    "    pconf_loss = 0\n",
    "    nconf_loss = 0\n",
    "    pos_cnt = 0\n",
    "    neg_cnt = 0\n",
    "    \n",
    "    for pred_txy,pred_conf,pred_clas,gt_bboxs,gt_clas in zip(*pred_batch, *gt_batch):\n",
    "        keep = nb_anchors_loss_metrics.get_y(gt_bboxs)\n",
    "        if keep.numel()==0: continue\n",
    "          \n",
    "        gt_bboxs = gt_bboxs[keep]\n",
    "        gt_clas = gt_clas[keep]\n",
    "        \n",
    "        gt_bboxs = (gt_bboxs + 1) / 2\n",
    "        gt_clas = gt_clas - 1 # the databunch add a 'background' class to classes[0], but we don't want that,so gt_clas-1\n",
    "        \n",
    "        if clas_weights is not None: ws = clas_weights[gt_clas]\n",
    "        else: ws = None\n",
    "        \n",
    "        scores,hits = gaf.get_scores_hits(gt_bboxs)\n",
    "        idx = nb_anchors_loss_metrics.idx_fromScoresHits(scores,hits)\n",
    "        \n",
    "        # classification loss\n",
    "        pred_clas = pred_clas[idx]\n",
    "        clas_loss += F.cross_entropy(pred_clas, gt_clas, weight=clas_weights, reduction='sum')\n",
    "        #import pdb; pdb.set_trace()\n",
    "        # bbox center loss\n",
    "        gt_t = gaf.b2t(gt_bboxs,idx,eps=1)\n",
    "        pred_txy = pred_txy[idx]\n",
    "        if ws is not None:\n",
    "            cent_loss += ((gt_t[...,:2]-pred_txy)*ws[...,None]).abs().sum()\n",
    "        else:\n",
    "            cent_loss += (gt_t[...,:2]-pred_txy).abs().sum()\n",
    "        \n",
    "        # positive confidence loss\n",
    "        conf_pos = pred_conf[idx]\n",
    "        if ws is not None: \n",
    "            pconf_loss += F.binary_cross_entropy_with_logits(conf_pos,torch.ones_like(conf_pos),weight=ws[...,None],reduction='sum')\n",
    "        else: \n",
    "            pconf_loss += F.binary_cross_entropy_with_logits(conf_pos,torch.ones_like(conf_pos),reduction='sum')\n",
    "        #import pdb; pdb.set_trace()\n",
    "        # negative conficence loss\n",
    "        scores[range(0,len(idx)),idx] = conf_th + 1 # 强制责任anchor的得分好于threshold\n",
    "        \n",
    "        #这里把邻居也的conf也调高。后面就被过滤掉了\n",
    "        #scores[range(0,len(discards)),discards] = conf_th + 1\n",
    "                \n",
    "        tmp = scores>conf_th # 判断各得分是否好于threshold\n",
    "        tmp = tmp.max(dim=0)[0] # 各anchor是否有任意一个好于threshold的得分\n",
    "        \n",
    "        #取得命中的anchor周围的anchor的下标立标\n",
    "        discards = []\n",
    "        #print('tofind', idx)\n",
    "        for hidx in idx:\n",
    "            #gaf.grids:[(49,49)]\n",
    "            #print('finding', hidx)\n",
    "            neibs = find_neibs(hidx, gaf.grids[0], dis = 1)            \n",
    "            for i in neibs:\n",
    "                discards += [i]\n",
    "        #print('discards:', discards)\n",
    "        #import pdb; pdb.set_trace()        \n",
    "        tmp[discards] = 1\n",
    "         \n",
    "        neg_idx = torch.where(tmp==0)[0] # 如果没有，该anchor是negative anchor\n",
    "        \n",
    "        conf_neg = pred_conf[neg_idx]\n",
    "        nconf_loss += F.binary_cross_entropy_with_logits(conf_neg,torch.zeros_like(conf_neg),reduction='sum')\n",
    "        \n",
    "        pos_cnt += len(idx)\n",
    "        neg_cnt += len(neg_idx)\n",
    "        \n",
    "    clas_loss  = lambda_clas  * clas_loss  /pos_cnt\n",
    "    cent_loss  = lambda_cent  * cent_loss  /pos_cnt\n",
    "    pconf_loss = lambda_pconf * pconf_loss /pos_cnt\n",
    "    nconf_loss = lambda_nconf * nconf_loss /neg_cnt\n",
    "    print('yolo_l', clas_loss, cent_loss, pconf_loss, nconf_loss)\n",
    "    \n",
    "    return clas_loss + cent_loss + pconf_loss + nconf_loss\n"
   ]
  },
  {
   "cell_type": "code",
   "execution_count": null,
   "metadata": {},
   "outputs": [],
   "source": [
    "# export\n",
    "def bbox2chw_std(b):\n",
    "    '''\n",
    "    将bbox的（左上x，左上y，右下x，右下y）表示变为（中心x，中心y，高，宽）表示\n",
    "    '''\n",
    "    cx = b[...,[0,2]].mean(-1)[...,None]\n",
    "    cy = b[...,[1,3]].mean(-1)[...,None]\n",
    "    \n",
    "    h = torch.zeros_like(cx)\n",
    "    w = torch.zeros_like(cx)\n",
    "    \n",
    "    return torch.cat([cx,cy,h,w],dim=-1)"
   ]
  },
  {
   "cell_type": "code",
   "execution_count": null,
   "metadata": {},
   "outputs": [],
   "source": [
    "# export\n",
    "def cent_d_std(pred_batch, *gt_batch, gaf):\n",
    "    #import pdb; pdb.set_trace()\n",
    "    dif = tensor(0.)\n",
    "    cnt = tensor(0.)\n",
    "    for pred_txy,gt_bboxs,_ in zip(pred_batch[0], *gt_batch):\n",
    "        keep = nb_anchors_loss_metrics.get_y(gt_bboxs)\n",
    "        if keep.numel()==0: continue\n",
    "          \n",
    "        #pred_t = torch.cat([pred_txy,pred_thw],dim=1)\n",
    "        pred_t = pred_txy\n",
    "        \n",
    "        gt_bboxs = gt_bboxs[keep]\n",
    "        gt_bboxs = (gt_bboxs + 1) / 2\n",
    "        \n",
    "        scores,hits = gaf.get_scores_hits(gt_bboxs)\n",
    "        idx = nb_anchors_loss_metrics.idx_fromScoresHits(scores,hits)\n",
    "        \n",
    "        pred_t = pred_t[idx]\n",
    "        pred_c = bbox2chw_std(gaf.t2b(pred_t,idx))[...,:2]\n",
    "        gt_c = bbox2chw_std(gt_bboxs)[...,:2]\n",
    "        \n",
    "        tmp = (gt_c - pred_c).abs().sum()\n",
    "        dif += tmp\n",
    "        cnt += len(idx)\n",
    "    \n",
    "    return dif/cnt/2"
   ]
  },
  {
   "cell_type": "markdown",
   "metadata": {},
   "source": [
    "# test"
   ]
  },
  {
   "cell_type": "code",
   "execution_count": null,
   "metadata": {},
   "outputs": [],
   "source": [
    "#get_grid_anchors的生成顺序\n",
    "grids = [(49,49),(25,25),(13,13)]\n",
    "anchors = [[(22,17),(22,37),(43,17),(43,37)],\n",
    "            [(43,77),(83,37),(83,77)],\n",
    "            [(83,162),(162,77),(162,162)]]\n",
    "t = [(x, y, gx, gy, ax, ay) for (gx,gy),ancs in zip(grids,anchors)\n",
    "                                for y in range(gy)\n",
    "                                for x in range(gx)\n",
    "                                for ax,ay in ancs]\n",
    "print(t[:100])"
   ]
  },
  {
   "cell_type": "code",
   "execution_count": null,
   "metadata": {},
   "outputs": [],
   "source": [
    "#测试find_neibs\n",
    "neibs = find_neibs(100, (49, 49))\n",
    "\n",
    "gvs,ghs,gws,avs,ahs,aws = nb_anchors_loss_metrics.get_grids_anchors( \\\n",
    "                                (776,776), [(49,49)], [[(1,1)]])\n",
    "print('邻居', neibs)\n",
    "for idx in neibs:\n",
    "    print(idx, anchors)\n",
    "    print(avs[idx])"
   ]
  },
  {
   "cell_type": "code",
   "execution_count": null,
   "metadata": {
    "code_folding": []
   },
   "outputs": [],
   "source": [
    "#距离之间的事情可以不考虑？先按照resnet18来一个\n",
    "# 获取 grids 和 anchors\n",
    "gvs,ghs,gws,avs,ahs,aws = nb_anchors_loss_metrics.get_grids_anchors(\n",
    "                                            fig_hw = (776,776),\n",
    "                                            grids = [(49,49)],\n",
    "                                            anchors = [[(1,1)]])"
   ]
  },
  {
   "cell_type": "code",
   "execution_count": null,
   "metadata": {},
   "outputs": [],
   "source": [
    "# 这些变量的尺寸\n",
    "gvs.shape, ghs.shape, gws.shape, avs.shape, ahs.shape, aws.shape"
   ]
  },
  {
   "cell_type": "code",
   "execution_count": null,
   "metadata": {},
   "outputs": [],
   "source": [
    "49*49*1  #只有一个anchor"
   ]
  },
  {
   "cell_type": "code",
   "execution_count": null,
   "metadata": {},
   "outputs": [],
   "source": [
    "device = torch.device('cuda')"
   ]
  },
  {
   "cell_type": "code",
   "execution_count": null,
   "metadata": {},
   "outputs": [],
   "source": [
    "device = torch.device('cpu')"
   ]
  },
  {
   "cell_type": "code",
   "execution_count": null,
   "metadata": {},
   "outputs": [],
   "source": [
    "device_ids = [0, 1]"
   ]
  },
  {
   "cell_type": "code",
   "execution_count": null,
   "metadata": {},
   "outputs": [],
   "source": [
    "gaf = GridAnchor_Funcs_std(fig_hw = (776,776)\n",
    "                         , grids = [(49,49)]\n",
    "                         , device = device)"
   ]
  },
  {
   "cell_type": "code",
   "execution_count": null,
   "metadata": {},
   "outputs": [],
   "source": [
    "#先用detect_symbol的数据集测试\n",
    "data = nb_databunch.get_databunch(data_root = '../detect_symbol/data/ds_20200429', bs=4,device=device)\n",
    "x,y = data.one_batch()"
   ]
  },
  {
   "cell_type": "code",
   "execution_count": null,
   "metadata": {},
   "outputs": [],
   "source": [
    "# get model and load init parameters\n",
    "#用符号检测的数据集测试!!!!!!类别不同!!!!\n",
    "model = nb_resnet_ssd_std.get_resnet18_1ssd_std(num_classes = 17)\n",
    "#model.load_state_dict(torch.load('./models/resnet18_ssd_init.pth'));"
   ]
  },
  {
   "cell_type": "code",
   "execution_count": null,
   "metadata": {},
   "outputs": [],
   "source": [
    "# check the statistics of layer outputs\n",
    "#nb_init_model.show_layer_stats(model,x)"
   ]
  },
  {
   "cell_type": "code",
   "execution_count": null,
   "metadata": {},
   "outputs": [],
   "source": [
    "#x = x.to(device)"
   ]
  },
  {
   "cell_type": "code",
   "execution_count": null,
   "metadata": {},
   "outputs": [],
   "source": [
    "# pred a batch\n",
    "\n",
    "pred = model(x)"
   ]
  },
  {
   "cell_type": "code",
   "execution_count": null,
   "metadata": {},
   "outputs": [],
   "source": []
  },
  {
   "cell_type": "markdown",
   "metadata": {},
   "source": [
    "### find idx of the responsible anchor"
   ]
  },
  {
   "cell_type": "code",
   "execution_count": null,
   "metadata": {},
   "outputs": [],
   "source": [
    "y[1].shape"
   ]
  },
  {
   "cell_type": "code",
   "execution_count": null,
   "metadata": {},
   "outputs": [],
   "source": [
    "# 选择一个bbox\n",
    "samp = 1 # samp: sample, get one bbox from this sample\n",
    "bb = (y[0][samp][-1]+1)/2\n",
    "bb"
   ]
  },
  {
   "cell_type": "code",
   "execution_count": null,
   "metadata": {},
   "outputs": [],
   "source": [
    "def dbg():\n",
    "    import pdb; pdb.set_trace()\n",
    "    #gaf = GridAnchor_Funcs_std(fig_hw = (776,776)\n",
    "    #                     , grids = [(49,49)]\n",
    "    #                     , device = device)\n",
    "    scores,hits= gaf.get_scores_hits(bb.to(device)[None])\n",
    "    idx = idx_fromScoresHits(scores,hits)\n",
    "    print(idx)\n",
    "#dbg()    "
   ]
  },
  {
   "cell_type": "code",
   "execution_count": null,
   "metadata": {},
   "outputs": [],
   "source": [
    "# 测试 get_scores_hits 和 idx_fromScoresHits\n",
    "scores,hits= gaf.get_scores_hits(bb.to(device)[None])\n",
    "#idx = idx_fromScoresHits(scores,hits)\n",
    "#idx"
   ]
  },
  {
   "cell_type": "markdown",
   "metadata": {},
   "source": [
    "### losses"
   ]
  },
  {
   "cell_type": "code",
   "execution_count": null,
   "metadata": {
    "code_folding": [],
    "scrolled": false
   },
   "outputs": [],
   "source": [
    "# classification loss\n",
    "def dbg():\n",
    "    import pdb; pdb.set_trace()\n",
    "    loss = nb_anchors_loss_metrics.cent_L(pred,*y,gaf=gaf, clas_weights=None)\n",
    "    return loss\n",
    "loss = dbg()\n",
    "loss"
   ]
  },
  {
   "cell_type": "code",
   "execution_count": null,
   "metadata": {},
   "outputs": [],
   "source": [
    "\n",
    "# classification loss\n",
    "clas_loss = nb_anchors_loss_metrics.clas_L(pred,*y,gaf=gaf, clas_weights=None)\n",
    "clas_loss"
   ]
  },
  {
   "cell_type": "code",
   "execution_count": null,
   "metadata": {
    "code_folding": [],
    "scrolled": true
   },
   "outputs": [],
   "source": [
    "# bbox center loss\n",
    "cent_loss = nb_anchors_loss_metrics.cent_L(pred,*y,gaf=gaf)\n",
    "cent_loss"
   ]
  },
  {
   "cell_type": "code",
   "execution_count": null,
   "metadata": {
    "code_folding": []
   },
   "outputs": [],
   "source": [
    "# positive confidence loss\n",
    "pconf_loss = nb_anchors_loss_metrics.pConf_L(pred,*y,gaf=gaf)\n",
    "pconf_loss"
   ]
  },
  {
   "cell_type": "code",
   "execution_count": null,
   "metadata": {
    "code_folding": []
   },
   "outputs": [],
   "source": [
    "# negative confidence loss\n",
    "nconf_loss = nb_anchors_loss_metrics.nConf_L(pred,*y,gaf=gaf)\n",
    "nconf_loss"
   ]
  },
  {
   "cell_type": "code",
   "execution_count": null,
   "metadata": {
    "code_folding": []
   },
   "outputs": [],
   "source": [
    "# bbox height and width loss\n",
    "#网络输出内容里面不再有宽高，所以这个会异常out of range\n",
    "hw_loss = nb_anchors_loss_metrics.hw_L(pred,*y,gaf=gaf)\n",
    "hw_loss"
   ]
  },
  {
   "cell_type": "code",
   "execution_count": null,
   "metadata": {},
   "outputs": [],
   "source": [
    "type(pred)\n",
    "len(pred)\n",
    "pred[0].shape"
   ]
  },
  {
   "cell_type": "code",
   "execution_count": null,
   "metadata": {},
   "outputs": [],
   "source": [
    "pred[1].shape"
   ]
  },
  {
   "cell_type": "code",
   "execution_count": null,
   "metadata": {},
   "outputs": [],
   "source": [
    "pred[2].shape"
   ]
  },
  {
   "cell_type": "code",
   "execution_count": null,
   "metadata": {},
   "outputs": [],
   "source": [
    "# total loss\n",
    "total_loss = yolo_L_std(pred,*y, clas_weights=None,gaf=gaf)\n",
    "total_loss"
   ]
  },
  {
   "cell_type": "code",
   "execution_count": null,
   "metadata": {},
   "outputs": [],
   "source": [
    "clas_loss+cent_loss+pconf_loss+nconf_loss"
   ]
  },
  {
   "cell_type": "code",
   "execution_count": null,
   "metadata": {},
   "outputs": [],
   "source": [
    "#断言失败.因为nconf_loss去掉了邻居anchor，和原始的nb_anchors_loss_metrics.nConf_L有差别\n",
    "assert (clas_loss+cent_loss+pconf_loss+nconf_loss)==total_loss"
   ]
  },
  {
   "cell_type": "markdown",
   "metadata": {},
   "source": [
    "### bbox center difference"
   ]
  },
  {
   "cell_type": "code",
   "execution_count": null,
   "metadata": {
    "scrolled": false
   },
   "outputs": [],
   "source": [
    "#缺少宽高，异常。待修改\n",
    "#nb_anchors_loss_metrics.cent_d(pred,*y,gaf=gaf)\n",
    "cent_d_std(pred,*y,gaf=gaf)"
   ]
  },
  {
   "cell_type": "code",
   "execution_count": null,
   "metadata": {},
   "outputs": [],
   "source": [
    "#\n",
    "((0.5/49)*49*49+(0.5/25)*25*25+(0.5/13)*13*13)/(49*49+25*25+13*13)"
   ]
  },
  {
   "cell_type": "markdown",
   "metadata": {},
   "source": [
    "# export"
   ]
  },
  {
   "cell_type": "code",
   "execution_count": null,
   "metadata": {
    "scrolled": true
   },
   "outputs": [],
   "source": [
    "!python notebook2script.py --fname 'anchors_loss_metrics_std.ipynb' --outputDir './exp/'"
   ]
  },
  {
   "cell_type": "code",
   "execution_count": null,
   "metadata": {},
   "outputs": [],
   "source": []
  }
 ],
 "metadata": {
  "kernelspec": {
   "display_name": "Python 3",
   "language": "python",
   "name": "python3"
  },
  "language_info": {
   "codemirror_mode": {
    "name": "ipython",
    "version": 3
   },
   "file_extension": ".py",
   "mimetype": "text/x-python",
   "name": "python",
   "nbconvert_exporter": "python",
   "pygments_lexer": "ipython3",
   "version": "3.7.2"
  }
 },
 "nbformat": 4,
 "nbformat_minor": 2
}
