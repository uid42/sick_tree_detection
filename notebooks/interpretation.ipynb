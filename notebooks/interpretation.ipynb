{
 "cells": [
  {
   "cell_type": "code",
   "execution_count": null,
   "metadata": {},
   "outputs": [],
   "source": [
    "%load_ext autoreload\n",
    "%autoreload 2\n",
    "\n",
    "%matplotlib inline"
   ]
  },
  {
   "cell_type": "markdown",
   "metadata": {},
   "source": [
    "# import"
   ]
  },
  {
   "cell_type": "code",
   "execution_count": null,
   "metadata": {},
   "outputs": [],
   "source": [
    "# export\n",
    "from FLAI.detect_symbol.exp import databunch as databunch_detsym\n",
    "from FLAI.detect_symbol.exp import resnet_ssd as resnet_ssd_detsym\n",
    "from FLAI.detect_symbol.exp import anchors_loss_metrics as anchors_loss_metrics_detsym\n",
    "from FLAI.detect_symbol.exp import interpretation as interpretation_detsym"
   ]
  },
  {
   "cell_type": "code",
   "execution_count": null,
   "metadata": {},
   "outputs": [],
   "source": [
    "# export\n",
    "import sys\n",
    "if '..' not in sys.path:\n",
    "    sys.path.append('..')\n",
    "from exp import anchors_loss_metrics\n",
    "from exp import resnet_ssd\n",
    "from exp import databunch"
   ]
  },
  {
   "cell_type": "code",
   "execution_count": null,
   "metadata": {},
   "outputs": [],
   "source": [
    "# export\n",
    "import numpy as np"
   ]
  },
  {
   "cell_type": "code",
   "execution_count": null,
   "metadata": {},
   "outputs": [],
   "source": [
    "# export\n",
    "import torch"
   ]
  },
  {
   "cell_type": "code",
   "execution_count": null,
   "metadata": {},
   "outputs": [],
   "source": [
    "# export\n",
    "from torch import tensor"
   ]
  },
  {
   "cell_type": "code",
   "execution_count": null,
   "metadata": {},
   "outputs": [],
   "source": [
    "# export\n",
    "import torchvision"
   ]
  },
  {
   "cell_type": "code",
   "execution_count": null,
   "metadata": {},
   "outputs": [],
   "source": [
    "# export\n",
    "from fastai.basic_train import Learner"
   ]
  },
  {
   "cell_type": "code",
   "execution_count": null,
   "metadata": {},
   "outputs": [],
   "source": [
    "# export\n",
    "from matplotlib import pyplot as plt"
   ]
  },
  {
   "cell_type": "code",
   "execution_count": null,
   "metadata": {},
   "outputs": [],
   "source": [
    "# export\n",
    "from matplotlib import patches,patheffects"
   ]
  },
  {
   "cell_type": "code",
   "execution_count": null,
   "metadata": {},
   "outputs": [],
   "source": [
    "# export\n",
    "from IPython.core import debugger as idb"
   ]
  },
  {
   "cell_type": "code",
   "execution_count": null,
   "metadata": {},
   "outputs": [],
   "source": [
    "from fastai.vision.image import Image"
   ]
  },
  {
   "cell_type": "code",
   "execution_count": null,
   "metadata": {},
   "outputs": [],
   "source": [
    "from functools import partial"
   ]
  },
  {
   "cell_type": "code",
   "execution_count": null,
   "metadata": {},
   "outputs": [],
   "source": [
    "# export\n",
    "from math import ceil"
   ]
  },
  {
   "cell_type": "code",
   "execution_count": null,
   "metadata": {},
   "outputs": [],
   "source": [
    "# export\n",
    "import pandas as pd"
   ]
  },
  {
   "cell_type": "code",
   "execution_count": null,
   "metadata": {},
   "outputs": [],
   "source": [
    "# export\n",
    "import cv2"
   ]
  },
  {
   "cell_type": "markdown",
   "metadata": {},
   "source": [
    "# functions"
   ]
  },
  {
   "cell_type": "code",
   "execution_count": null,
   "metadata": {},
   "outputs": [],
   "source": [
    "# export\n",
    "def draw_point(ax, b, color='red',lw=2, sz = 3):\n",
    "    x = b[1]\n",
    "    y = b[0]    \n",
    "    patch = ax.add_patch(patches.Rectangle((x,y), sz, sz, fill=True, edgecolor=color, lw=lw))\n",
    "    interpretation_detsym.draw_outline(patch, lw=lw)"
   ]
  },
  {
   "cell_type": "markdown",
   "metadata": {},
   "source": [
    "### show_gt"
   ]
  },
  {
   "cell_type": "code",
   "execution_count": null,
   "metadata": {},
   "outputs": [],
   "source": [
    "def show_gt(x,y):\n",
    "    img = data.denorm(x)[0].permute(1,2,0)\n",
    "\n",
    "    _,ax = plt.subplots(1,1,figsize=(15,15))\n",
    "    ax.imshow(img)\n",
    "    \n",
    "    for bb,cat in zip(y[0][0],y[1][0]):\n",
    "        bb = (bb+1)/2*776\n",
    "        if len(bb) == 4:#ImageBBox\n",
    "            interpretation_detsym.draw_rect(ax,bb,lw=1)\n",
    "            cat = cat-1\n",
    "            clas = classes[cat]\n",
    "            interpretation_detsym.draw_text(ax,bb[[3,0]],clas[:3],sz=10)\n",
    "        else:\n",
    "            draw_point(ax, bb)            "
   ]
  },
  {
   "cell_type": "markdown",
   "metadata": {},
   "source": [
    "### show_gt_anchors"
   ]
  },
  {
   "cell_type": "code",
   "execution_count": null,
   "metadata": {},
   "outputs": [],
   "source": [
    "def show_gt_anchors(x,y,device,n=10):\n",
    "    '根据ground truch找到负责idxs，绘制这些idxs对应的anchor'\n",
    "    _,ax = plt.subplots(1,1,figsize=(20,20))\n",
    "    img = data.denorm(x)[0].permute(1,2,0)\n",
    "    ax.imshow(img)\n",
    "    #import pdb; pdb.set_trace()    \n",
    "    idxs = idx_from_gt(*y,gaf=gaf)\n",
    "    for idx in idxs:\n",
    "        gv = gvs[idx]*x.shape[-1]\n",
    "        interpretation_detsym.draw_rect(ax,gv,lw=1,color='g')\n",
    "        \n",
    "        cx = gv[[0,2]].mean()\n",
    "        cy = gv[[1,3]].mean()\n",
    "        \n",
    "        av = avs[idx]*x.shape[-1]\n",
    "        av = av+tensor([cx,cy,cx,cy]).to(device)\n",
    "        interpretation_detsym.draw_rect(ax,av,lw=1)\n",
    "        \n",
    "\n",
    "        interpretation_detsym.draw_text(ax,av[[3,0]],f'{idx}',sz=10)\n",
    "    return idxs"
   ]
  },
  {
   "cell_type": "markdown",
   "metadata": {},
   "source": [
    "###  idx_from_gt"
   ]
  },
  {
   "cell_type": "code",
   "execution_count": null,
   "metadata": {},
   "outputs": [],
   "source": [
    "def idx_from_gt(*gt_batch, gaf):\n",
    "    loss = 0\n",
    "    cnt = 0\n",
    "    for gt_bboxs in gt_batch[0]:\n",
    "        keep = get_y(gt_bboxs)\n",
    "        if keep.numel()==0: continue\n",
    "          \n",
    "        gt_bboxs = gt_bboxs[keep]\n",
    "        \n",
    "        gt_bboxs = (gt_bboxs + 1) / 2\n",
    "        \n",
    "        scores,hits = gaf.get_scores_hits(gt_bboxs)\n",
    "        idx = idx_fromScoresHits(scores,hits)\n",
    "        \n",
    "        return idx"
   ]
  },
  {
   "cell_type": "code",
   "execution_count": null,
   "metadata": {},
   "outputs": [],
   "source": [
    "def process_netout(txys,cats,confs,gaf):\n",
    "    ts = torch.cat([txys],dim=-1)\n",
    "    boxs = gaf.c2b(ts, torch.arange(start = 0, end = ts.shape[-2], device=ts.device))\n",
    "    \n",
    "    confs = torch.sigmoid(confs).squeeze(-1)\n",
    "    prbs,cats = torch.softmax(cats,dim=-1).max(dim=-1)\n",
    "#     cats = cats + 1\n",
    "    \n",
    "    return boxs,confs,cats,prbs"
   ]
  },
  {
   "cell_type": "code",
   "execution_count": null,
   "metadata": {},
   "outputs": [],
   "source": [
    "def netouts2preds(batchOut,gaf,composeConfPrb=True,filt_thres=0.9,ov_thres=0.2,despiteCat=True):\n",
    "    '''\n",
    "    处理一个batch\n",
    "    '''\n",
    "    batch_boxs = []\n",
    "    batch_confs = []\n",
    "    batch_cats = []\n",
    "    batch_prbs = []\n",
    "    batch_f1s = []\n",
    "    \n",
    "    for txys,confs,cats in zip(batchOut[0].detach(),batchOut[1].detach(),batchOut[2].detach()):\n",
    "        boxs,confs,cats,prbs = process_netout(txys,cats,confs,gaf)\n",
    "        \n",
    "        f1s = 2*confs*prbs/(confs+prbs)\n",
    "        if composeConfPrb:\n",
    "            filt = torch.where(f1s>filt_thres)\n",
    "        else:\n",
    "            filt = torch.where(confs>filt_thres)\n",
    "            \n",
    "        boxs = boxs[filt]\n",
    "        confs = confs[filt]\n",
    "        cats = cats[filt]\n",
    "        prbs = prbs[filt]\n",
    "        f1s = f1s[filt]\n",
    "        \n",
    "        '''\n",
    "        没有宽高。所以根本不需要nms\n",
    "        if composeConfPrb:\n",
    "            keep,cnt = nb_interpretation.nms(boxs, cats, f1s, ov_thres=ov_thres, despiteCat=True)\n",
    "        else:\n",
    "            keep,cnt = nb_interpretation.nms(boxs, cats, confs, ov_thres=ov_thres, despiteCat=True)            \n",
    "        keep = keep[:cnt].long()        \n",
    "        boxs = boxs[keep]\n",
    "        confs = confs[keep]\n",
    "        cats = cats[keep]\n",
    "        prbs = prbs[keep]\n",
    "        f1s = f1s[keep]\n",
    "        '''\n",
    "        \n",
    "        batch_boxs += [boxs]\n",
    "        batch_confs += [confs]\n",
    "        batch_cats += [cats]\n",
    "        batch_prbs += [prbs]\n",
    "        batch_f1s += [f1s]\n",
    "        \n",
    "    return batch_boxs, batch_confs, batch_cats, batch_prbs, batch_f1s"
   ]
  },
  {
   "cell_type": "code",
   "execution_count": null,
   "metadata": {},
   "outputs": [],
   "source": [
    "def show_top_pred(x,netOut,n=10, NMS = True, TH = 0.9, bidx = 0, y = None):\n",
    "    '''\n",
    "    根据模型输出，处理得到boxs和confs，按照confs从大到小排序，绘制前n个的box.\n",
    "    x的作用仅是为绘制原图；\n",
    "    '''\n",
    "    BY_PRB = False\n",
    "    _,ax = plt.subplots(1,1,figsize=(30,30))\n",
    "    img = data.denorm(x)[bidx].permute(1,2,0)\n",
    "    #img = x[bidx].permute(1,2,0)\n",
    "    ax.imshow(img)\n",
    "    \n",
    "    txys,confs,cats = netOut[0][bidx].detach(),netOut[1][bidx].detach(),netOut[2][bidx].detach()\n",
    "    #process_netout返回的是坐标。但是后面为了nms需要转换成一个box。所以叫boxs\n",
    "    boxs,confs,cats,prbs = process_netout(txys,cats,confs,gaf)\n",
    "    #转换到点\n",
    "    boxs = boxs * x.shape[-1]\n",
    "    \n",
    "    if NMS:\n",
    "        if not gaf.LblPts:\n",
    "            boxs[:,2] += 16.0  #776/49\n",
    "            boxs[:,3] += 16.0\n",
    "        else:\n",
    "            boxs = torch.cat((boxs, boxs[:,[0,1]] + 16.0), 1)\n",
    "        keep,cnt = interpretation_detsym.nms(boxs, cats, confs, ov_thres=0.2, despiteCat=True)            \n",
    "        keep = keep[:n].long()        \n",
    "        boxs = boxs[keep]\n",
    "        confs = confs[keep]\n",
    "        cats = cats[keep]\n",
    "        prbs = prbs[keep]\n",
    "    \n",
    "    top_idx = confs.sort(descending=True)[1]\n",
    "    if BY_PRB:\n",
    "        top_idx = prbs.sort(descending=True)[1]\n",
    "    \n",
    "    for idx in top_idx[:n]:\n",
    "        #print('show_top_pred', idx)\n",
    "        #print(' ', confs[idx])\n",
    "        if confs[idx] < TH:\n",
    "            continue\n",
    "        bb = boxs[idx]\n",
    "        w, h = 16, 16#776/49\n",
    "        #if not gaf.LblPts:\n",
    "        lw = 1\n",
    "        patch = ax.add_patch(patches.Rectangle((bb[1],bb[0]), w, h\n",
    "                    , fill=False, edgecolor='green', lw=lw))\n",
    "        interpretation_detsym.draw_outline(patch, lw=lw)\n",
    "\n",
    "        clas = classes[cats[idx]]\n",
    "        conf = confs[idx]\n",
    "        prb = prbs[idx]\n",
    "        if not gaf.LblPts:\n",
    "            info = '{}_{}_{:.2f}'.format(idx,clas[:3],conf*100)\n",
    "            if BY_PRB:\n",
    "                info = '{}_{}_{:.2f}'.format(idx,clas[:3],prb*100)\n",
    "            interpretation_detsym.draw_text(ax,bb[[3,0]],info,sz=10)\n",
    "     \n",
    "    #加上ground truth坐标方便查看。\n",
    "    if y is not None:\n",
    "        for bb,cat in zip(y[0][bidx],y[1][bidx]):\n",
    "            if cat != 0:\n",
    "                bb = (bb+1)/2*776\n",
    "                draw_point(ax, bb)\n",
    "    return top_idx[:n]"
   ]
  },
  {
   "cell_type": "code",
   "execution_count": null,
   "metadata": {},
   "outputs": [],
   "source": [
    "def draw_pred(imgfn, x,netOut,n=10, NMS = True, TH = 0.9, bidx = 0, y = None):\n",
    "    '''\n",
    "    把预测的和gt坐标报错到一个图片上\n",
    "    '''\n",
    "    BY_PRB = False\n",
    "    if imgfn is not None:\n",
    "        img = data.denorm(x)[bidx].permute(1,2,0) \n",
    "        #print(type(img))\n",
    "        img = img.numpy() * 255 #np.array([255, 255, 255], np.uint8)\n",
    "        img = img.astype(np.uint8)\n",
    "        img = cv2.cvtColor(img, cv2.COLOR_BGR2RGB)\n",
    "        #print(img)\n",
    "        #cv2.imwrite('tmp.jpg', img)\n",
    "    \n",
    "    txys,confs,cats = netOut[0][bidx].detach(),netOut[1][bidx].detach(),netOut[2][bidx].detach()\n",
    "    #process_netout返回的是坐标。但是后面为了nms需要转换成一个box。所以叫boxs\n",
    "    boxs,confs,cats,prbs = process_netout(txys,cats,confs,gaf)\n",
    "    #转换到点\n",
    "    boxs = boxs * x.shape[-1]\n",
    "    \n",
    "    if NMS:\n",
    "        if not gaf.LblPts:\n",
    "            boxs[:,2] += 16.0  #776/49\n",
    "            boxs[:,3] += 16.0\n",
    "        else:\n",
    "            boxs = torch.cat((boxs, boxs[:,[0,1]] + 16.0), 1)\n",
    "        keep,cnt = interpretation_detsym.nms(boxs, cats, confs, ov_thres=0.2, despiteCat=True)            \n",
    "        keep = keep[:n].long()        \n",
    "        boxs = boxs[keep]\n",
    "        confs = confs[keep]\n",
    "        cats = cats[keep]\n",
    "        prbs = prbs[keep]\n",
    "    \n",
    "    top_idx = confs.sort(descending=True)[1]\n",
    "    if BY_PRB:\n",
    "        top_idx = prbs.sort(descending=True)[1]\n",
    "    \n",
    "    for idx in top_idx[:n]:\n",
    "        #print('show_top_pred', idx)\n",
    "        #print(' ', confs[idx])\n",
    "        if confs[idx] < TH:\n",
    "            continue\n",
    "        bb = boxs[idx]\n",
    "        w, h = 16, 16#776/49\n",
    "        #if not gaf.LblPts:\n",
    "        lw = 1\n",
    "        if imgfn is not None:\n",
    "            cv2.rectangle(img, (bb[1], bb[0]), (bb[1] + 16, bb[0] + 16), (0, 255, 0), 1)\n",
    "        \n",
    "        clas = classes[cats[idx]]\n",
    "        conf = confs[idx]\n",
    "        prb = prbs[idx]\n",
    "        \n",
    "     \n",
    "    #加上ground truth坐标方便查看。\n",
    "    if y is not None and imgfn is not None:\n",
    "        for bb,cat in zip(y[0][bidx],y[1][bidx]):\n",
    "            if cat != 0:\n",
    "                bb = (bb+1)/2*776\n",
    "                cv2.rectangle(img, (bb[1], bb[0]), (bb[1] + 5, bb[0] + 5), (0, 0, 255), 2)\n",
    "    if imgfn is not None:\n",
    "        cv2.imwrite(imgfn, img)\n",
    "    \n",
    "    return top_idx[:n], boxs, confs, cats, prbs"
   ]
  },
  {
   "cell_type": "code",
   "execution_count": null,
   "metadata": {},
   "outputs": [],
   "source": [
    "#从detect_symbol拷贝过来的\n",
    "def show_top_pred_detsym(x,netOut,n=10,bidx = 0):\n",
    "    '''\n",
    "    根据模型输出，处理得到boxs和confs，按照confs从大到小排序，绘制前n个的box.\n",
    "    x的作用仅是为绘制原图；\n",
    "    '''\n",
    "    _,ax = plt.subplots(1,1,figsize=(20,20))\n",
    "    img = data.denorm(x)[bidx].permute(1,2,0)\n",
    "    ax.imshow(img)\n",
    "    \n",
    "    txys,confs,cats,thws = netOut[0][bidx].detach(),netOut[1][bidx].detach(),netOut[2][0].detach(),netOut[3][bidx].detach() \n",
    "    boxs,confs,cats,prbs = interpretation_detsym.process_netout(txys,thws,cats,confs,gaf)\n",
    "    \n",
    "    NMS = True\n",
    "    if NMS:\n",
    "        keep,cnt = interpretation_detsym.nms(boxs, cats, confs, ov_thres=0.2, despiteCat=True)            \n",
    "        keep = keep[:n].long()        \n",
    "        boxs = boxs[keep]\n",
    "        confs = confs[keep]\n",
    "        cats = cats[keep]\n",
    "        prbs = prbs[keep]\n",
    "        thws = thws[keep]\n",
    "        \n",
    "    top_idx = confs.sort(descending=True)[1]\n",
    "    for idx in top_idx[:n]:\n",
    "        bb = boxs[idx]*x.shape[-1]\n",
    "        interpretation_detsym.draw_rect(ax,bb,lw=1)\n",
    "\n",
    "        clas = classes[cats[idx]]\n",
    "        conf = confs[idx]\n",
    "        info = '{}_{}_{:.2f}'.format(idx,clas[:3],conf*100)\n",
    "        interpretation_detsym.draw_text(ax,bb[[3,0]],info,sz=10)\n",
    "    return top_idx[:n]"
   ]
  },
  {
   "cell_type": "markdown",
   "metadata": {},
   "source": [
    "# test"
   ]
  },
  {
   "cell_type": "markdown",
   "metadata": {},
   "source": [
    "## 准备好learner"
   ]
  },
  {
   "cell_type": "code",
   "execution_count": null,
   "metadata": {},
   "outputs": [],
   "source": [
    "device = torch.device('cuda', 1)\n",
    "device = torch.device('cpu')"
   ]
  },
  {
   "cell_type": "code",
   "execution_count": null,
   "metadata": {},
   "outputs": [],
   "source": [
    "device_ids = [1]"
   ]
  },
  {
   "cell_type": "markdown",
   "metadata": {},
   "source": [
    "### 用正式的数据集"
   ]
  },
  {
   "cell_type": "code",
   "execution_count": null,
   "metadata": {},
   "outputs": [],
   "source": [
    "data = databunch.get_databunch(device = device, bs = 16)\n",
    "x,y = data.one_batch()"
   ]
  },
  {
   "cell_type": "code",
   "execution_count": null,
   "metadata": {},
   "outputs": [],
   "source": [
    "gaf = anchors_loss_metrics.GridAnchor_Funcs(fig_hw = (776,776)\n",
    "                         , grids = [(49,49)]\n",
    "                         , device = device, LblPts = True)\n",
    "gvs, avs = gaf.gvs, gaf.avs"
   ]
  },
  {
   "cell_type": "code",
   "execution_count": null,
   "metadata": {},
   "outputs": [],
   "source": [
    "model = resnet_ssd.get_resnet18_1ssd(num_classes = 1)"
   ]
  },
  {
   "cell_type": "code",
   "execution_count": null,
   "metadata": {},
   "outputs": [],
   "source": [
    "learn = Learner(data,model)"
   ]
  },
  {
   "cell_type": "code",
   "execution_count": null,
   "metadata": {},
   "outputs": [],
   "source": [
    "fn = 'run_0'\n",
    "learn.load(fn)"
   ]
  },
  {
   "cell_type": "code",
   "execution_count": null,
   "metadata": {},
   "outputs": [],
   "source": [
    "# 把模型放到device上，如果使用GPU，则设置使用哪几个GPU\n",
    "if hasattr(learn.model, \"module\"): \n",
    "    learn.model = model.module\n",
    "\n",
    "learn.model.to(device);\n",
    "\n",
    "if device.type=='cuda':\n",
    "    learn.model = torch.nn.DataParallel(model,device_ids=device_ids)"
   ]
  },
  {
   "cell_type": "code",
   "execution_count": null,
   "metadata": {},
   "outputs": [],
   "source": [
    "learn.model.eval();"
   ]
  },
  {
   "cell_type": "markdown",
   "metadata": {},
   "source": [
    "## 验证模型的整体表现"
   ]
  },
  {
   "cell_type": "code",
   "execution_count": null,
   "metadata": {},
   "outputs": [],
   "source": [
    "metrics = [partial(anchors_loss_metrics.clas_L,gaf=gaf),\n",
    "           partial(anchors_loss_metrics.cent_L,gaf=gaf),\n",
    "           partial(anchors_loss_metrics.pConf_L,gaf=gaf),\n",
    "           partial(anchors_loss_metrics.nConf_L,gaf=gaf),\n",
    "           partial(anchors_loss_metrics.clas_acc,gaf=gaf),\n",
    "           partial(anchors_loss_metrics.cent_d,gaf=gaf)]\n",
    "\n",
    "learn.loss_func = partial(anchors_loss_metrics.yolo_L, gaf=gaf)\n",
    "\n",
    "#res = learn.validate(data.train_dl,metrics=metrics)\n",
    "#res"
   ]
  },
  {
   "cell_type": "markdown",
   "metadata": {},
   "source": [
    "## 观察"
   ]
  },
  {
   "cell_type": "code",
   "execution_count": null,
   "metadata": {
    "scrolled": true
   },
   "outputs": [],
   "source": [
    "classes = data.train_ds.y.classes[1:]\n",
    "classes"
   ]
  },
  {
   "cell_type": "code",
   "execution_count": null,
   "metadata": {},
   "outputs": [],
   "source": [
    "x,y = next(iter(data.valid_dl))"
   ]
  },
  {
   "cell_type": "code",
   "execution_count": null,
   "metadata": {},
   "outputs": [],
   "source": [
    "x"
   ]
  },
  {
   "cell_type": "code",
   "execution_count": null,
   "metadata": {
    "scrolled": true
   },
   "outputs": [],
   "source": [
    "y"
   ]
  },
  {
   "cell_type": "code",
   "execution_count": null,
   "metadata": {},
   "outputs": [],
   "source": [
    "#show_gt_anchors(x,y, device)\n",
    "show_gt(x,y)"
   ]
  },
  {
   "cell_type": "code",
   "execution_count": null,
   "metadata": {},
   "outputs": [],
   "source": [
    "out = learn.model(x)"
   ]
  },
  {
   "cell_type": "code",
   "execution_count": null,
   "metadata": {},
   "outputs": [],
   "source": [
    "#显示一个batch里面的第几个结果\n",
    "bidx = 7"
   ]
  },
  {
   "cell_type": "code",
   "execution_count": null,
   "metadata": {
    "scrolled": false
   },
   "outputs": [],
   "source": [
    "top_idx=show_top_pred(x,out,20, bidx = bidx, y = y)\n",
    "bidx += 1"
   ]
  },
  {
   "cell_type": "code",
   "execution_count": null,
   "metadata": {},
   "outputs": [],
   "source": [
    "y[1][7]"
   ]
  },
  {
   "cell_type": "code",
   "execution_count": null,
   "metadata": {},
   "outputs": [],
   "source": [
    "def dbg():\n",
    "    import pdb;pdb.set_trace()\n",
    "    top_idx=show_top_pred(x,out,20, bidx = bidx, y = y)\n",
    "dbg()"
   ]
  },
  {
   "cell_type": "code",
   "execution_count": null,
   "metadata": {},
   "outputs": [],
   "source": [
    "top_idx"
   ]
  },
  {
   "cell_type": "code",
   "execution_count": null,
   "metadata": {},
   "outputs": [],
   "source": []
  },
  {
   "cell_type": "code",
   "execution_count": null,
   "metadata": {},
   "outputs": [],
   "source": [
    "#批量把结果保存成图片看一下\n",
    "bt = 0\n",
    "for x, y in data.valid_dl:\n",
    "    out = learn.model(x)\n",
    "    for bidx in range(len(y)):\n",
    "        imgfn = 'mark_%03d_%03d.jpg' % (bt, bidx)\n",
    "        print(imgfn)\n",
    "        \n",
    "        draw_pred(imgfn, x,out,20, bidx = bidx, y = y)\n",
    "    bt += 1\n",
    "        "
   ]
  },
  {
   "cell_type": "markdown",
   "metadata": {},
   "source": [
    "### 统计一下错误的数量"
   ]
  },
  {
   "cell_type": "code",
   "execution_count": 204,
   "metadata": {},
   "outputs": [
    {
     "data": {
      "text/plain": [
       "LabelList (600 items)\n",
       "x: ObjectItemList_PtLbl\n",
       "Image (3, 776, 776),Image (3, 776, 776),Image (3, 776, 776),Image (3, 776, 776),Image (3, 776, 776)\n",
       "y: ObjectCategoryList_PtLbl\n",
       "ImageLPts (776, 776),ImageLPts (776, 776),ImageLPts (776, 776),ImageLPts (776, 776),ImageLPts (776, 776)\n",
       "Path: ds_20200818"
      ]
     },
     "execution_count": 204,
     "metadata": {},
     "output_type": "execute_result"
    }
   ],
   "source": [
    "data.valid_ds"
   ]
  },
  {
   "cell_type": "code",
   "execution_count": null,
   "metadata": {},
   "outputs": [],
   "source": [
    "TH = 0.9\n",
    "SZ = 776\n",
    "bt = 0\n",
    "\n",
    "less, more, gttotal, predtotal, mispred, multipred = 0, 0, 0, 0, 0, 0\n",
    "cnt = 0\n",
    "for x, y in data.valid_dl:\n",
    "    out = learn.model(x)\n",
    "    for bidx in range(len(x)):\n",
    "        idxs, coords, confs, cats, prbs = draw_pred(None, x,out,20, bidx = bidx, y = y)\n",
    "        gt = y[1][bidx].sum()\n",
    "        pred = (confs[:len(idxs)] > TH).sum()\n",
    "        #统计预测的目标多余和少于gt的数量,分开统计的。\n",
    "        if gt > pred:\n",
    "            less += gt - pred\n",
    "        if gt < pred:\n",
    "            more += pred - gt\n",
    "            \n",
    "        gtcoords = (y[0][bidx][torch.where(y[1][bidx] > 0)[0].tolist()] + 1.0) / 2.0 * 776\n",
    "        #返回的是一个anchorbox的大小的box，左上角是坐标\n",
    "        coords = coords[:, :2]\n",
    "        prdcoords = coords[torch.where(confs > TH)]\n",
    "        for gtc in gtcoords:\n",
    "            #print('gtc',gtc, prdcoords - gtc\n",
    "            #      , ((prdcoords - gtc).abs().sum(dim=0) < 16).sum())\n",
    "            m = ((prdcoords - gtc).abs().sum(dim=1) < 16).sum()\n",
    "            if m < 1:\n",
    "                mispred += 1\n",
    "                print('mispred', bidx, mispred, m, gtcoords, prdcoords, '\\n|', gtc, (prdcoords - gtc).abs())\n",
    "            if m > 1:\n",
    "                multipred += m - 1\n",
    "                print('multipred', bidx, mispred, m, gtcoords, prdcoords, '\\n|', gtc, (prdcoords - gtc).abs())\n",
    "            \n",
    "        gttotal += gt\n",
    "        predtotal += pred\n",
    "        cnt += 1\n",
    "        print('>>>', cnt, gttotal, predtotal, less, more, mispred, multipred)\n",
    "        #if cnt==8:\n",
    "        #    show_top_pred(x,out,20, bidx = bidx, y = y)\n",
    "            #print(idxs)\n",
    "    #显示一下进度\n",
    "    print(cnt, gttotal, predtotal, less, more, multipred)\n",
    "    #break\n",
    "\n",
    "#结果6个值分别是：gt总数，预测到的总数，每次预测少于gt的差值累计\n",
    "#，每次预测多余gt的差值累计, 没有匹配到的gt的数量\n",
    "#，一个gt附近有多个预测结果的多出来的数量，也就是nms没有抑制掉的数量,这个值少于more的值\n",
    "gttotal, predtotal, less, more, mispred, multipred\n",
    "        "
   ]
  },
  {
   "cell_type": "markdown",
   "metadata": {},
   "source": [
    "#### 对valid_dl的统计结果\n",
    "(tensor(1294), tensor(1378), 0, tensor(84), 0, tensor(42))\n",
    "没有漏掉的gt点，但是有误识别的。"
   ]
  },
  {
   "cell_type": "code",
   "execution_count": null,
   "metadata": {},
   "outputs": [],
   "source": []
  },
  {
   "cell_type": "code",
   "execution_count": null,
   "metadata": {},
   "outputs": [],
   "source": [
    "def dbg():\n",
    "    import pdb;pdb.set_trace()\n",
    "    \n",
    "    idxs, coords, confs, cats, prbs = draw_pred(None, x,out,20, bidx = bidx, y = y)\n",
    "dbg()    "
   ]
  },
  {
   "cell_type": "code",
   "execution_count": null,
   "metadata": {},
   "outputs": [],
   "source": []
  },
  {
   "cell_type": "code",
   "execution_count": null,
   "metadata": {},
   "outputs": [],
   "source": []
  },
  {
   "cell_type": "code",
   "execution_count": null,
   "metadata": {},
   "outputs": [],
   "source": [
    "#看看训练曲线.detect_symbol数据集的\n",
    "df = pd.read_csv('../detect_symbol/data/ds_20200429/csv_log/run_0.csv')\n",
    "print(df)\n",
    "plt.plot(df.train_loss)\n",
    "\n",
    "#plt.ylim((0.,0.1))    \n",
    "plt.xlabel('iteration')    \n",
    "plt.ylabel('mask_iou')\n",
    "\n",
    "plt.legend()\n",
    "plt.show()            \n",
    "#df           "
   ]
  },
  {
   "cell_type": "code",
   "execution_count": null,
   "metadata": {},
   "outputs": [],
   "source": []
  },
  {
   "cell_type": "code",
   "execution_count": null,
   "metadata": {
    "scrolled": false
   },
   "outputs": [],
   "source": [
    "def dbg():    \n",
    "    import pdb; pdb.set_trace()    \n",
    "    pout = process_netout(out[0].detach(), out[2].detach(), out[1].detach(), gaf)\n",
    "\n",
    "#pout = dbg()  "
   ]
  },
  {
   "cell_type": "markdown",
   "metadata": {},
   "source": [
    "### detect_symbol的数据集测试"
   ]
  },
  {
   "cell_type": "code",
   "execution_count": null,
   "metadata": {},
   "outputs": [],
   "source": [
    "data = databunch_detsym.get_databunch(data_root = '../../detect_symbol/data/ds_20200429', bs=8, device=device)\n",
    "x,y = data.one_batch()"
   ]
  },
  {
   "cell_type": "code",
   "execution_count": null,
   "metadata": {},
   "outputs": [],
   "source": [
    "gaf = anchors_loss_metrics.GridAnchor_Funcs(fig_hw = (776,776)\n",
    "                         , grids = [(49,49)]\n",
    "                         , device = device, LblPts = False)\n",
    "gvs, avs = gaf.gvs, gaf.avs"
   ]
  },
  {
   "cell_type": "code",
   "execution_count": null,
   "metadata": {},
   "outputs": [],
   "source": [
    "model = resnet_ssd.get_resnet18_1ssd(num_classes = 17)"
   ]
  },
  {
   "cell_type": "code",
   "execution_count": null,
   "metadata": {},
   "outputs": [],
   "source": [
    "learn = Learner(data,model)"
   ]
  },
  {
   "cell_type": "code",
   "execution_count": null,
   "metadata": {},
   "outputs": [],
   "source": [
    "fn = '/home/dev/jupyter/detect_symbol/data/ds_20200429/models/run_0_std'\n",
    "learn.load(fn)"
   ]
  },
  {
   "cell_type": "markdown",
   "metadata": {},
   "source": [
    "## 用之前的detect_symbol的结果对比一下"
   ]
  },
  {
   "cell_type": "code",
   "execution_count": null,
   "metadata": {},
   "outputs": [],
   "source": [
    "if True:\n",
    "    device = torch.device('cuda', 0)\n",
    "    gvs,_,_,avs,_,_ = anchors_loss_metrics_detsym.get_ga666()\n",
    "    gaf = anchors_loss_metrics_detsym.GridAnchor_Funcs(gvs,avs,device)\n",
    "    #model = resnet_ssd_detsym.get_resnet34_1ssd()\n",
    "    model = resnet_ssd_detsym.ResNetIsh_1SSD(block=torchvision.models.resnet.BasicBlock,\n",
    "                           layers=[3,4,6,3],\n",
    "                           chs=[64,128,256,512],\n",
    "                           strides=[1,2,2,2],\n",
    "                           pred_layerIds=[1,2,3],\n",
    "                           num_anchors=6,\n",
    "                           neck_block=resnet_ssd_detsym.cnv1x1_bn_relu,\n",
    "                           head_chin=256,\n",
    "                           head_block=resnet_ssd_detsym.ssd_block,\n",
    "                           num_classes=17)\n",
    "    learn = Learner(data,model)\n",
    "    with open('../detect_symbol/run_log/20200429/run_0.pth','rb') as f:\n",
    "        learn.load(f)\n",
    "    if hasattr(learn.model, \"module\"): \n",
    "        learn.model = model.module\n",
    "    learn.model.to(device);\n",
    "    if device.type=='cuda':\n",
    "        learn.model = torch.nn.DataParallel(model,device_ids=[0])\n",
    "    learn.model.eval();\n",
    "    netOut = learn.model(x)\n",
    "    top_idx=show_top_pred_detsym(x,netOut,20,bidx=bidx)"
   ]
  },
  {
   "cell_type": "markdown",
   "metadata": {},
   "source": [
    "## detect_symbol的resnt18+ssd的网络只保留了一个anchor，看一下训练效果"
   ]
  },
  {
   "cell_type": "code",
   "execution_count": null,
   "metadata": {},
   "outputs": [],
   "source": [
    "s = torch.load('../../detect_symbol/data/ds_20200429/models/run_0_detsym.pth')\n",
    "print(s['model'].keys())"
   ]
  },
  {
   "cell_type": "code",
   "execution_count": null,
   "metadata": {},
   "outputs": [],
   "source": [
    "x,y = next(iter(data.valid_dl))"
   ]
  },
  {
   "cell_type": "code",
   "execution_count": null,
   "metadata": {},
   "outputs": [],
   "source": [
    "if True:\n",
    "    bidx = 2\n",
    "    \n",
    "    device = torch.device('cuda', 0)\n",
    "    gvs,_,_,avs,_,_ = anchors_loss_metrics_detsym.get_grids_anchors(fig_hw = (776,776),\n",
    "                    grids = [(49,49)],\n",
    "                    anchors = [[(1, 1)]])\n",
    "    gaf = anchors_loss_metrics_detsym.GridAnchor_Funcs(gvs,avs,device)\n",
    "    model = resnet_ssd_detsym.ResNetIsh_1SSD(block=torchvision.models.resnet.BasicBlock,\n",
    "                   layers=[2,2,2],\n",
    "                   chs=[64,128,256],\n",
    "                   strides=[1,2,2],\n",
    "                   pred_layerIds=[2],\n",
    "                   num_anchors=1,\n",
    "                   neck_block=resnet_ssd_detsym.cnv1x1_bn_relu,\n",
    "                   head_chin=256,\n",
    "                   head_block=resnet_ssd_detsym.ssd_block,\n",
    "                   num_classes=17)\n",
    "    learn = Learner(data,model)\n",
    "    with open('../../detect_symbol/data/ds_20200429/models/run_0_detsym.pth','rb') as f:\n",
    "        learn.load(f)\n",
    "    if hasattr(learn.model, \"module\"): \n",
    "        learn.model = model.module\n",
    "    learn.model.to(device);\n",
    "    if device.type=='cuda':\n",
    "        learn.model = torch.nn.DataParallel(model,device_ids=[0])\n",
    "    learn.model.eval();\n",
    "    netOut = learn.model(x)\n",
    "    top_idx=show_top_pred_detsym(x,netOut,20,bidx=bidx)"
   ]
  },
  {
   "cell_type": "markdown",
   "metadata": {},
   "source": [
    "# export"
   ]
  },
  {
   "cell_type": "code",
   "execution_count": null,
   "metadata": {
    "scrolled": true
   },
   "outputs": [],
   "source": [
    "!python notebook2script.py --fname 'interpretation.ipynb' --outputDir '../exp/'"
   ]
  },
  {
   "cell_type": "code",
   "execution_count": null,
   "metadata": {},
   "outputs": [],
   "source": []
  }
 ],
 "metadata": {
  "kernelspec": {
   "display_name": "Python 3",
   "language": "python",
   "name": "python3"
  },
  "language_info": {
   "codemirror_mode": {
    "name": "ipython",
    "version": 3
   },
   "file_extension": ".py",
   "mimetype": "text/x-python",
   "name": "python",
   "nbconvert_exporter": "python",
   "pygments_lexer": "ipython3",
   "version": "3.7.2"
  }
 },
 "nbformat": 4,
 "nbformat_minor": 2
}
