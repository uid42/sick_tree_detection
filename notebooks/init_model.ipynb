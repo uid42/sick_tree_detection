{
 "cells": [
  {
   "cell_type": "code",
   "execution_count": null,
   "metadata": {},
   "outputs": [],
   "source": [
    "%load_ext autoreload\n",
    "%autoreload 2\n",
    "\n",
    "%matplotlib inline"
   ]
  },
  {
   "cell_type": "markdown",
   "metadata": {},
   "source": [
    "# import"
   ]
  },
  {
   "cell_type": "code",
   "execution_count": 1,
   "metadata": {},
   "outputs": [],
   "source": [
    "# export \n",
    "import sys \n",
    "if '..' not in sys.path:\n",
    "    sys.path.append('..')\n",
    "from exp import resnet_ssd"
   ]
  },
  {
   "cell_type": "code",
   "execution_count": 2,
   "metadata": {},
   "outputs": [],
   "source": [
    "# export\n",
    "from FLAI.detect_symbol.exp import databunch as databunch_detsym\n",
    "from FLAI.detect_symbol.exp import init_model as init_model_detsym"
   ]
  },
  {
   "cell_type": "code",
   "execution_count": 3,
   "metadata": {},
   "outputs": [],
   "source": [
    "# export\n",
    "import sys\n",
    "if '..' not in sys.path:\n",
    "    sys.path.append('..')\n",
    "from exp import databunch"
   ]
  },
  {
   "cell_type": "code",
   "execution_count": 4,
   "metadata": {},
   "outputs": [],
   "source": [
    "# export\n",
    "from fastai.basic_train import Learner,DatasetType"
   ]
  },
  {
   "cell_type": "code",
   "execution_count": 5,
   "metadata": {},
   "outputs": [],
   "source": [
    "# export\n",
    "from fastai.callbacks.hooks import Hook,Hooks"
   ]
  },
  {
   "cell_type": "code",
   "execution_count": 6,
   "metadata": {},
   "outputs": [],
   "source": [
    "# export\n",
    "from torch import nn"
   ]
  },
  {
   "cell_type": "code",
   "execution_count": 7,
   "metadata": {},
   "outputs": [],
   "source": [
    "# export\n",
    "import torch"
   ]
  },
  {
   "cell_type": "code",
   "execution_count": 8,
   "metadata": {},
   "outputs": [],
   "source": [
    "from IPython.core import debugger as idb"
   ]
  },
  {
   "cell_type": "code",
   "execution_count": 9,
   "metadata": {},
   "outputs": [],
   "source": [
    "# export\n",
    "from fastprogress.fastprogress import progress_bar"
   ]
  },
  {
   "cell_type": "code",
   "execution_count": 10,
   "metadata": {},
   "outputs": [],
   "source": [
    "# export\n",
    "import re"
   ]
  },
  {
   "cell_type": "markdown",
   "metadata": {},
   "source": [
    "# functions"
   ]
  },
  {
   "cell_type": "markdown",
   "metadata": {},
   "source": [
    "# test"
   ]
  },
  {
   "cell_type": "code",
   "execution_count": 12,
   "metadata": {},
   "outputs": [],
   "source": [
    "device = torch.device('cuda')"
   ]
  },
  {
   "cell_type": "code",
   "execution_count": 13,
   "metadata": {},
   "outputs": [],
   "source": [
    "#先用detect_symbol的数据集测试\n",
    "data_detsym = databunch_detsym.get_databunch(data_root = '../../detect_symbol/data/ds_20200429', bs=8, device=device)\n",
    "x,y = data_detsym.one_batch()"
   ]
  },
  {
   "cell_type": "code",
   "execution_count": 16,
   "metadata": {},
   "outputs": [],
   "source": [
    "data = databunch.get_databunch(data_root = './ds_20200818', bs=16, device=device)\n",
    "x,y = data.one_batch()"
   ]
  },
  {
   "cell_type": "markdown",
   "metadata": {},
   "source": [
    "### resnet18_ssd"
   ]
  },
  {
   "cell_type": "code",
   "execution_count": null,
   "metadata": {},
   "outputs": [],
   "source": [
    "model = resnet_ssd.get_resnet18_1ssd(num_classes = 17)"
   ]
  },
  {
   "cell_type": "code",
   "execution_count": null,
   "metadata": {},
   "outputs": [],
   "source": [
    "# check layer output stats before runtime init.\n",
    "init_model_detsym.show_layer_stats(model,x)"
   ]
  },
  {
   "cell_type": "code",
   "execution_count": null,
   "metadata": {},
   "outputs": [],
   "source": [
    "# runtime init\n",
    "init_model_detsym.runtime_init_linear(model, x, init_model_detsym.hook_init);"
   ]
  },
  {
   "cell_type": "code",
   "execution_count": null,
   "metadata": {
    "code_folding": []
   },
   "outputs": [],
   "source": [
    "# check layer output stats after runtime init\n",
    "init_model_detsym.show_layer_stats(model,x)"
   ]
  },
  {
   "cell_type": "code",
   "execution_count": null,
   "metadata": {},
   "outputs": [],
   "source": [
    "# 因为runtime_init耗时较长，保存初始化后的模型，方便快速调用\n",
    "# torch.save(model.state_dict(), './models/resnet18_ssd_init.pth') # 只在要保存初始化模型时运行该行代码"
   ]
  },
  {
   "cell_type": "markdown",
   "metadata": {},
   "source": [
    "### resnet18_1ssd"
   ]
  },
  {
   "cell_type": "code",
   "execution_count": null,
   "metadata": {},
   "outputs": [],
   "source": [
    "#符号检测的17种符号！！！\n",
    "#model = resnet_ssd.get_resnet18_1ssd(num_classes = 17)"
   ]
  },
  {
   "cell_type": "code",
   "execution_count": 17,
   "metadata": {},
   "outputs": [],
   "source": [
    "model = resnet_ssd.get_resnet18_1ssd(num_classes = 1)"
   ]
  },
  {
   "cell_type": "markdown",
   "metadata": {},
   "source": [
    "#### LSUV"
   ]
  },
  {
   "cell_type": "code",
   "execution_count": 18,
   "metadata": {},
   "outputs": [
    {
     "name": "stdout",
     "output_type": "stream",
     "text": [
      "(7, torch.Size([64, 388, 388]), -0.006528593134135008, 0.04469042271375656)\n",
      "(3, torch.Size([64, 194, 194]), -0.3074367642402649, 1.270885944366455)\n",
      "(3, torch.Size([64, 194, 194]), 0.06614367663860321, 0.9619664549827576)\n",
      "(3, torch.Size([64, 194, 194]), 0.0077298651449382305, 1.8441429138183594)\n",
      "(3, torch.Size([64, 194, 194]), 0.06412684172391891, 1.007917046546936)\n",
      "(3, torch.Size([128, 97, 97]), 0.02510482631623745, 1.5859466791152954)\n",
      "(3, torch.Size([128, 97, 97]), -0.03685520216822624, 1.0046296119689941)\n",
      "(1, torch.Size([128, 97, 97]), -0.09126517921686172, 1.644511342048645)\n",
      "(3, torch.Size([128, 97, 97]), 0.05147907882928848, 1.4021588563919067)\n",
      "(3, torch.Size([128, 97, 97]), -0.0015884615713730454, 0.9756810069084167)\n",
      "(3, torch.Size([256, 49, 49]), -0.0397324301302433, 1.2892857789993286)\n",
      "(3, torch.Size([256, 49, 49]), -0.0283199530094862, 0.9777454137802124)\n",
      "(1, torch.Size([256, 49, 49]), 0.0014692945405840874, 1.311471700668335)\n",
      "(3, torch.Size([256, 49, 49]), 0.045558907091617584, 1.335686445236206)\n",
      "(3, torch.Size([256, 49, 49]), -0.005959136877208948, 0.9888707995414734)\n",
      "(1, torch.Size([256, 49, 49]), 0.07845165580511093, 1.8058819770812988)\n",
      "(3, torch.Size([2, 49, 49]), 5.519903182983398, 10.42310905456543)\n",
      "(3, torch.Size([1, 49, 49]), -14.077861785888672, 13.668933868408203)\n",
      "(3, torch.Size([1, 49, 49]), -6.598188877105713, 12.342301368713379)\n"
     ]
    }
   ],
   "source": [
    "# check layer output stats before runtime init.\n",
    "init_model_detsym.show_layer_stats(model,x)"
   ]
  },
  {
   "cell_type": "code",
   "execution_count": 19,
   "metadata": {},
   "outputs": [
    {
     "data": {
      "text/html": [
       "\n",
       "    <div>\n",
       "        <style>\n",
       "            /* Turns off some styling */\n",
       "            progress {\n",
       "                /* gets rid of default border in Firefox and Opera. */\n",
       "                border: none;\n",
       "                /* Needs to be in here for Safari polyfill so background images work as expected. */\n",
       "                background-size: auto;\n",
       "            }\n",
       "            .progress-bar-interrupted, .progress-bar-interrupted::-webkit-progress-bar {\n",
       "                background: #F44336;\n",
       "            }\n",
       "        </style>\n",
       "      <progress value='19' class='' max='19', style='width:300px; height:20px; vertical-align: middle;'></progress>\n",
       "      100.00% [19/19 00:22<00:00 runing init]\n",
       "    </div>\n",
       "    "
      ],
      "text/plain": [
       "<IPython.core.display.HTML object>"
      ]
     },
     "metadata": {},
     "output_type": "display_data"
    }
   ],
   "source": [
    "# runtime init\n",
    "init_model_detsym.runtime_init_linear(model, x, init_model_detsym.hook_init);"
   ]
  },
  {
   "cell_type": "code",
   "execution_count": 20,
   "metadata": {},
   "outputs": [
    {
     "name": "stdout",
     "output_type": "stream",
     "text": [
      "(7, torch.Size([64, 388, 388]), -0.06209127977490425, 1.0)\n",
      "(3, torch.Size([64, 194, 194]), -0.023548142984509468, 1.0)\n",
      "(3, torch.Size([64, 194, 194]), 0.02986021898686886, 1.0)\n",
      "(3, torch.Size([64, 194, 194]), 0.05027669668197632, 1.0)\n",
      "(3, torch.Size([64, 194, 194]), 0.046196553856134415, 1.0)\n",
      "(3, torch.Size([128, 97, 97]), 0.0028898846358060837, 1.0)\n",
      "(3, torch.Size([128, 97, 97]), -0.021662622690200806, 1.0)\n",
      "(1, torch.Size([128, 97, 97]), -0.004570108372718096, 0.9999999403953552)\n",
      "(3, torch.Size([128, 97, 97]), 0.018538953736424446, 0.9999999403953552)\n",
      "(3, torch.Size([128, 97, 97]), -0.06961742043495178, 1.0)\n",
      "(3, torch.Size([256, 49, 49]), -0.009937639348208904, 1.0)\n",
      "(3, torch.Size([256, 49, 49]), 0.04513965919613838, 0.9999999403953552)\n",
      "(1, torch.Size([256, 49, 49]), 0.0022508588153868914, 1.0)\n",
      "(3, torch.Size([256, 49, 49]), 0.02029108814895153, 1.0)\n",
      "(3, torch.Size([256, 49, 49]), -0.01066808495670557, 1.0)\n",
      "(1, torch.Size([256, 49, 49]), 0.058665208518505096, 1.0)\n",
      "(3, torch.Size([2, 49, 49]), -0.2942117750644684, 1.0)\n",
      "(3, torch.Size([1, 49, 49]), -0.13929763436317444, 1.0)\n",
      "(3, torch.Size([1, 49, 49]), 0.3504595160484314, 1.0)\n"
     ]
    }
   ],
   "source": [
    "# check layer output stats after runtime init\n",
    "init_model_detsym.show_layer_stats(model,x)"
   ]
  },
  {
   "cell_type": "code",
   "execution_count": 21,
   "metadata": {},
   "outputs": [],
   "source": [
    "# 因为runtime_init耗时较长，保存初始化后的模型，方便快速调用\n",
    "#torch.save(model.state_dict(), './models/resnet18_1ssd_init.pth') # 只在要保存初始化模型时运行该行代码"
   ]
  },
  {
   "cell_type": "markdown",
   "metadata": {},
   "source": [
    "#### init_to_pretrained"
   ]
  },
  {
   "cell_type": "code",
   "execution_count": 22,
   "metadata": {},
   "outputs": [],
   "source": [
    "pdict = torch.load('../../detect_symbol/models/pytorch_pretrained/resnet18-5c106cde.pth')"
   ]
  },
  {
   "cell_type": "code",
   "execution_count": 23,
   "metadata": {},
   "outputs": [],
   "source": [
    "# 将模型中与 resnet18 对应的部分的参数从预训练模型加载\n",
    "link_names = [(r'^conv1',        'conv1'),\n",
    "               (r'^bn1',          'bn1'),\n",
    "               (r'^res_blocks.0', 'layer1'),\n",
    "               (r'^res_blocks.1', 'layer2'),\n",
    "               (r'^res_blocks.2', 'layer3'),\n",
    "               (r'^res_blocks.3', 'layer4')]\n",
    "init_model_detsym.init_to_pretrained(model, pdict, link_names)"
   ]
  },
  {
   "cell_type": "code",
   "execution_count": 24,
   "metadata": {},
   "outputs": [
    {
     "name": "stdout",
     "output_type": "stream",
     "text": [
      "(7, torch.Size([64, 388, 388]), 0.002718508243560791, 0.19889268279075623)\n",
      "(3, torch.Size([64, 194, 194]), -1.0356876850128174, 1.1808650493621826)\n",
      "(3, torch.Size([64, 194, 194]), -0.07255039364099503, 0.45597755908966064)\n",
      "(3, torch.Size([64, 194, 194]), -0.7321603894233704, 1.1958472728729248)\n",
      "(3, torch.Size([64, 194, 194]), -0.04721229150891304, 0.37332046031951904)\n",
      "(3, torch.Size([128, 97, 97]), -0.3559102416038513, 1.064697504043579)\n",
      "(3, torch.Size([128, 97, 97]), -0.21354509890079498, 0.35384541749954224)\n",
      "(1, torch.Size([128, 97, 97]), -0.0739346593618393, 0.4490340054035187)\n",
      "(3, torch.Size([128, 97, 97]), -0.3113606870174408, 0.5742048025131226)\n",
      "(3, torch.Size([128, 97, 97]), -0.061193183064460754, 0.22838985919952393)\n",
      "(3, torch.Size([256, 49, 49]), -0.3419056832790375, 0.5534995794296265)\n",
      "(3, torch.Size([256, 49, 49]), -0.14468617737293243, 0.34792420268058777)\n",
      "(1, torch.Size([256, 49, 49]), -0.047240301966667175, 0.1430220603942871)\n",
      "(3, torch.Size([256, 49, 49]), -0.40989696979522705, 0.4961717128753662)\n",
      "(3, torch.Size([256, 49, 49]), -0.08116158843040466, 0.18097271025180817)\n",
      "(1, torch.Size([256, 49, 49]), 0.006101582664996386, 0.1772753894329071)\n",
      "(3, torch.Size([2, 49, 49]), -0.3301672041416168, 1.0453145503997803)\n",
      "(3, torch.Size([1, 49, 49]), -0.16688136756420135, 0.9558685421943665)\n",
      "(3, torch.Size([1, 49, 49]), 0.3022124469280243, 0.9410385489463806)\n"
     ]
    }
   ],
   "source": [
    "# check layer output stats before runtime init.\n",
    "init_model_detsym.show_layer_stats(model,x)"
   ]
  },
  {
   "cell_type": "code",
   "execution_count": 25,
   "metadata": {},
   "outputs": [],
   "source": [
    "#torch.save(model.state_dict(), './models/pretrained_res18_1ssd.pth') # 只在要保存初始化模型时运行该行代码"
   ]
  },
  {
   "cell_type": "markdown",
   "metadata": {},
   "source": [
    "## 测试加载之前detect_symbol的训练状态"
   ]
  },
  {
   "cell_type": "code",
   "execution_count": null,
   "metadata": {},
   "outputs": [],
   "source": [
    "fn = '../../detect_symbol/data/ds_20200429/models/run_0.pth'\n",
    "fn = '../../detect_symbol_bak20200427/data/ds_20200227/models/run_0.pth'\n",
    "#../detect_symbol/run_log/20200429/run_0.pth\n",
    "#fn = '../detect_symbol/models/resnet18_1ssd_2_init.pth'\n",
    "dic = torch.load(fn)"
   ]
  },
  {
   "cell_type": "code",
   "execution_count": null,
   "metadata": {
    "scrolled": true
   },
   "outputs": [],
   "source": [
    "model2 = resnet_ssd.get_resnet18_1ssd(num_classes = 17)"
   ]
  },
  {
   "cell_type": "code",
   "execution_count": null,
   "metadata": {
    "scrolled": true
   },
   "outputs": [],
   "source": [
    "for n, p in model2.named_parameters():\n",
    "    assert p.data.shape == dic['model'][n].data.shape, '%s:%s!=%s' % (n,p.data.shape, dic['model'][n].data.shape)\n",
    "    print(n, p.data.shape, dic['model'][n].data.shape)\n",
    "    p.data = dic['model'][n].data.to(torch.device('cpu'))\n",
    "    #print(dic['model'][n].shape, p.sum().cpu().detach().numpy())\n",
    "    print(n, p.data.shape, dic['model'][n].data.shape, '====')\n",
    "    \n",
    "    "
   ]
  },
  {
   "cell_type": "markdown",
   "metadata": {},
   "source": [
    "# export"
   ]
  },
  {
   "cell_type": "code",
   "execution_count": 45,
   "metadata": {},
   "outputs": [
    {
     "name": "stdout",
     "output_type": "stream",
     "text": [
      "Converted init_model.ipynb to ../exp/init_model.py\r\n"
     ]
    }
   ],
   "source": [
    "!python ../notebook2script.py --fname 'init_model.ipynb' --outputDir '../exp/'"
   ]
  },
  {
   "cell_type": "code",
   "execution_count": null,
   "metadata": {},
   "outputs": [],
   "source": []
  }
 ],
 "metadata": {
  "kernelspec": {
   "display_name": "Python 3",
   "language": "python",
   "name": "python3"
  },
  "language_info": {
   "codemirror_mode": {
    "name": "ipython",
    "version": 3
   },
   "file_extension": ".py",
   "mimetype": "text/x-python",
   "name": "python",
   "nbconvert_exporter": "python",
   "pygments_lexer": "ipython3",
   "version": "3.7.2"
  }
 },
 "nbformat": 4,
 "nbformat_minor": 2
}
