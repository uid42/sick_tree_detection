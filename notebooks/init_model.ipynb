{
 "cells": [
  {
   "cell_type": "code",
   "execution_count": null,
   "metadata": {},
   "outputs": [],
   "source": [
    "%load_ext autoreload\n",
    "%autoreload 2\n",
    "\n",
    "%matplotlib inline"
   ]
  },
  {
   "cell_type": "markdown",
   "metadata": {},
   "source": [
    "# import"
   ]
  },
  {
   "cell_type": "code",
   "execution_count": null,
   "metadata": {},
   "outputs": [],
   "source": [
    "# export \n",
    "import sys \n",
    "if '..' not in sys.path:\n",
    "    sys.path.append('..')\n",
    "from exp import resnet_ssd"
   ]
  },
  {
   "cell_type": "code",
   "execution_count": null,
   "metadata": {},
   "outputs": [],
   "source": [
    "# export\n",
    "from FLAI.detect_symbol.exp import databunch as databunch_detsym\n",
    "from FLAI.detect_symbol.exp import init_model as init_model_detsym"
   ]
  },
  {
   "cell_type": "code",
   "execution_count": null,
   "metadata": {},
   "outputs": [],
   "source": [
    "# export\n",
    "from fastai.basic_train import Learner,DatasetType"
   ]
  },
  {
   "cell_type": "code",
   "execution_count": null,
   "metadata": {},
   "outputs": [],
   "source": [
    "# export\n",
    "from fastai.callbacks.hooks import Hook,Hooks"
   ]
  },
  {
   "cell_type": "code",
   "execution_count": null,
   "metadata": {},
   "outputs": [],
   "source": [
    "# export\n",
    "from torch import nn"
   ]
  },
  {
   "cell_type": "code",
   "execution_count": null,
   "metadata": {},
   "outputs": [],
   "source": [
    "# export\n",
    "import torch"
   ]
  },
  {
   "cell_type": "code",
   "execution_count": null,
   "metadata": {},
   "outputs": [],
   "source": [
    "from IPython.core import debugger as idb"
   ]
  },
  {
   "cell_type": "code",
   "execution_count": null,
   "metadata": {},
   "outputs": [],
   "source": [
    "# export\n",
    "from fastprogress.fastprogress import progress_bar"
   ]
  },
  {
   "cell_type": "code",
   "execution_count": null,
   "metadata": {},
   "outputs": [],
   "source": [
    "# export\n",
    "import re"
   ]
  },
  {
   "cell_type": "markdown",
   "metadata": {},
   "source": [
    "# functions"
   ]
  },
  {
   "cell_type": "markdown",
   "metadata": {},
   "source": [
    "# test"
   ]
  },
  {
   "cell_type": "code",
   "execution_count": null,
   "metadata": {},
   "outputs": [],
   "source": [
    "device = torch.device('cuda')"
   ]
  },
  {
   "cell_type": "code",
   "execution_count": null,
   "metadata": {},
   "outputs": [],
   "source": [
    "#先用detect_symbol的数据集测试\n",
    "data = databunch_detsym.get_databunch(data_root = '../../detect_symbol/data/ds_20200429', bs=8, device=device)\n",
    "x,y = data.one_batch()"
   ]
  },
  {
   "cell_type": "markdown",
   "metadata": {},
   "source": [
    "### resnet18_ssd"
   ]
  },
  {
   "cell_type": "code",
   "execution_count": null,
   "metadata": {},
   "outputs": [],
   "source": [
    "model = resnet_ssd.get_resnet18_1ssd(num_classes = 17)"
   ]
  },
  {
   "cell_type": "code",
   "execution_count": null,
   "metadata": {},
   "outputs": [],
   "source": [
    "# check layer output stats before runtime init.\n",
    "init_model_detsym.show_layer_stats(model,x)"
   ]
  },
  {
   "cell_type": "code",
   "execution_count": null,
   "metadata": {},
   "outputs": [],
   "source": [
    "# runtime init\n",
    "init_model_detsym.runtime_init_linear(model, x, init_model_detsym.hook_init);"
   ]
  },
  {
   "cell_type": "code",
   "execution_count": null,
   "metadata": {
    "code_folding": []
   },
   "outputs": [],
   "source": [
    "# check layer output stats after runtime init\n",
    "init_model_detsym.show_layer_stats(model,x)"
   ]
  },
  {
   "cell_type": "code",
   "execution_count": null,
   "metadata": {},
   "outputs": [],
   "source": [
    "# 因为runtime_init耗时较长，保存初始化后的模型，方便快速调用\n",
    "# torch.save(model.state_dict(), './models/resnet18_ssd_init.pth') # 只在要保存初始化模型时运行该行代码"
   ]
  },
  {
   "cell_type": "markdown",
   "metadata": {},
   "source": [
    "### resnet18_1ssd"
   ]
  },
  {
   "cell_type": "code",
   "execution_count": null,
   "metadata": {},
   "outputs": [],
   "source": [
    "#符号检测的17种符号！！！\n",
    "model = resnet_ssd.get_resnet18_1ssd(num_classes = 17)"
   ]
  },
  {
   "cell_type": "markdown",
   "metadata": {},
   "source": [
    "#### LSUV"
   ]
  },
  {
   "cell_type": "code",
   "execution_count": null,
   "metadata": {},
   "outputs": [],
   "source": [
    "# check layer output stats before runtime init.\n",
    "init_model_detsym.show_layer_stats(model,x)"
   ]
  },
  {
   "cell_type": "code",
   "execution_count": null,
   "metadata": {},
   "outputs": [],
   "source": [
    "# runtime init\n",
    "init_model_detsym.runtime_init_linear(model, x, init_model_detsym.hook_init);"
   ]
  },
  {
   "cell_type": "code",
   "execution_count": null,
   "metadata": {},
   "outputs": [],
   "source": [
    "# check layer output stats after runtime init\n",
    "init_model_detsym.show_layer_stats(model,x)"
   ]
  },
  {
   "cell_type": "code",
   "execution_count": null,
   "metadata": {},
   "outputs": [],
   "source": [
    "# 因为runtime_init耗时较长，保存初始化后的模型，方便快速调用\n",
    "# torch.save(model.state_dict(), './models/resnet18_1ssd_init.pth') # 只在要保存初始化模型时运行该行代码"
   ]
  },
  {
   "cell_type": "markdown",
   "metadata": {},
   "source": [
    "#### init_to_pretrained"
   ]
  },
  {
   "cell_type": "code",
   "execution_count": null,
   "metadata": {},
   "outputs": [],
   "source": [
    "pdict = torch.load('../../detect_symbol/models/pytorch_pretrained/resnet18-5c106cde.pth')"
   ]
  },
  {
   "cell_type": "code",
   "execution_count": null,
   "metadata": {},
   "outputs": [],
   "source": [
    "# 将模型中与 resnet18 对应的部分的参数从预训练模型加载\n",
    "link_names = [(r'^conv1',        'conv1'),\n",
    "               (r'^bn1',          'bn1'),\n",
    "               (r'^res_blocks.0', 'layer1'),\n",
    "               (r'^res_blocks.1', 'layer2'),\n",
    "               (r'^res_blocks.2', 'layer3'),\n",
    "               (r'^res_blocks.3', 'layer4')]\n",
    "init_model_detsym.init_to_pretrained(model, pdict, link_names)"
   ]
  },
  {
   "cell_type": "code",
   "execution_count": null,
   "metadata": {},
   "outputs": [],
   "source": [
    "# check layer output stats before runtime init.\n",
    "init_model_detsym.show_layer_stats(model,x)"
   ]
  },
  {
   "cell_type": "code",
   "execution_count": null,
   "metadata": {},
   "outputs": [],
   "source": [
    "# torch.save(model.state_dict(), './models/pretrained_res18_1ssd.pth') # 只在要保存初始化模型时运行该行代码"
   ]
  },
  {
   "cell_type": "markdown",
   "metadata": {},
   "source": [
    "## 测试加载之前detect_symbol的训练状态"
   ]
  },
  {
   "cell_type": "code",
   "execution_count": null,
   "metadata": {},
   "outputs": [],
   "source": [
    "fn = '../../detect_symbol/data/ds_20200429/models/run_0.pth'\n",
    "fn = '../../detect_symbol_bak20200427/data/ds_20200227/models/run_0.pth'\n",
    "#../detect_symbol/run_log/20200429/run_0.pth\n",
    "#fn = '../detect_symbol/models/resnet18_1ssd_2_init.pth'\n",
    "dic = torch.load(fn)"
   ]
  },
  {
   "cell_type": "code",
   "execution_count": null,
   "metadata": {
    "scrolled": true
   },
   "outputs": [],
   "source": [
    "model2 = resnet_ssd.get_resnet18_1ssd(num_classes = 17)"
   ]
  },
  {
   "cell_type": "code",
   "execution_count": null,
   "metadata": {
    "scrolled": true
   },
   "outputs": [],
   "source": [
    "for n, p in model2.named_parameters():\n",
    "    assert p.data.shape == dic['model'][n].data.shape, '%s:%s!=%s' % (n,p.data.shape, dic['model'][n].data.shape)\n",
    "    print(n, p.data.shape, dic['model'][n].data.shape)\n",
    "    p.data = dic['model'][n].data.to(torch.device('cpu'))\n",
    "    #print(dic['model'][n].shape, p.sum().cpu().detach().numpy())\n",
    "    print(n, p.data.shape, dic['model'][n].data.shape, '====')\n",
    "    \n",
    "    "
   ]
  },
  {
   "cell_type": "markdown",
   "metadata": {},
   "source": [
    "# export"
   ]
  },
  {
   "cell_type": "code",
   "execution_count": 45,
   "metadata": {},
   "outputs": [
    {
     "name": "stdout",
     "output_type": "stream",
     "text": [
      "Converted init_model.ipynb to ../exp/init_model.py\r\n"
     ]
    }
   ],
   "source": [
    "!python ../notebook2script.py --fname 'init_model.ipynb' --outputDir '../exp/'"
   ]
  },
  {
   "cell_type": "code",
   "execution_count": null,
   "metadata": {},
   "outputs": [],
   "source": []
  }
 ],
 "metadata": {
  "kernelspec": {
   "display_name": "Python 3",
   "language": "python",
   "name": "python3"
  }
 },
 "nbformat": 4,
 "nbformat_minor": 2
}
