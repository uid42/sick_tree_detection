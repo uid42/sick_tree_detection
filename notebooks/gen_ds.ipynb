{
 "cells": [
  {
   "cell_type": "markdown",
   "metadata": {},
   "source": [
    "# import "
   ]
  },
  {
   "cell_type": "code",
   "execution_count": null,
   "metadata": {},
   "outputs": [],
   "source": [
    "import cv2"
   ]
  },
  {
   "cell_type": "code",
   "execution_count": null,
   "metadata": {},
   "outputs": [],
   "source": [
    "import random"
   ]
  },
  {
   "cell_type": "code",
   "execution_count": null,
   "metadata": {},
   "outputs": [],
   "source": [
    "import os"
   ]
  },
  {
   "cell_type": "code",
   "execution_count": null,
   "metadata": {},
   "outputs": [],
   "source": [
    "from fastprogress.fastprogress import progress_bar"
   ]
  },
  {
   "cell_type": "code",
   "execution_count": null,
   "metadata": {},
   "outputs": [],
   "source": [
    "import numpy as np"
   ]
  },
  {
   "cell_type": "code",
   "execution_count": null,
   "metadata": {},
   "outputs": [],
   "source": [
    "from scipy.ndimage.interpolation import map_coordinates"
   ]
  },
  {
   "cell_type": "code",
   "execution_count": null,
   "metadata": {},
   "outputs": [],
   "source": [
    "from scipy.ndimage.filters import gaussian_filter"
   ]
  },
  {
   "cell_type": "code",
   "execution_count": null,
   "metadata": {},
   "outputs": [],
   "source": [
    "from PIL import Image"
   ]
  },
  {
   "cell_type": "code",
   "execution_count": null,
   "metadata": {},
   "outputs": [],
   "source": [
    "from matplotlib import pyplot as plt"
   ]
  },
  {
   "cell_type": "code",
   "execution_count": null,
   "metadata": {},
   "outputs": [],
   "source": [
    "from fastprogress.fastprogress import progress_bar"
   ]
  },
  {
   "cell_type": "markdown",
   "metadata": {},
   "source": [
    "# functions"
   ]
  },
  {
   "cell_type": "code",
   "execution_count": null,
   "metadata": {},
   "outputs": [],
   "source": [
    "# export\n",
    "# 修改PIL对图片像素的限制\n",
    "# opencv需要修改源代码才能修改此限制，所以我们用PIL\n",
    "Image.MAX_IMAGE_PIXELS = None"
   ]
  },
  {
   "cell_type": "code",
   "execution_count": null,
   "metadata": {},
   "outputs": [],
   "source": [
    "# export\n",
    "#留个边\n",
    "EDGE = 30"
   ]
  },
  {
   "cell_type": "code",
   "execution_count": null,
   "metadata": {},
   "outputs": [],
   "source": [
    "# export\n",
    "def gen_datasets(src, output_subimg_path = '../data/dataset_20200818'\n",
    "                 , output_ds_csv_fn = 'gends.csv', DSSIZE = 10000\n",
    "                 , BLANKP = 0.2, DSIMGW = 512, DSIMGH = 512):\n",
    "    '''\n",
    "    生成数据集\n",
    "    参数：\n",
    "        src: 数据源，元祖列表，元祖内容分别是图片的带路径的完整文件名和label文件名\n",
    "        output_subimg_path: 生成图片的保存路径\n",
    "        output_ds_csv_fn: csv文件名，默认保存在output_subimg_path，也可带相对路径\n",
    "        DSSIZE：总的数据集的数量\n",
    "        BLANKP：没有目标的占比\n",
    "        DSIMGW、DSIMGH：图片宽高\n",
    "    结果：\n",
    "        1、True/False 成功失败\n",
    "        2、错误信息（失败时）/数据集的描述信息（成功时）\n",
    "            数据集描述信息：\n",
    "            {\n",
    "                image: 生成的图片文件名list。\n",
    "                pos：list，每个元素与image一一对应，是病害点的坐标(x,y)\n",
    "                tag：list，每个元素与image一一对应，是图片中包含的符号在原始大图上的位置信息列表。\n",
    "            }\n",
    "    '''\n",
    "    imgs = []\n",
    "    allpts = []#记录所有的点和所在图片序号\n",
    "    lbls = []\n",
    "    for it in src:\n",
    "        imgfn = it[0]\n",
    "        lblfn = it[1]\n",
    "        img = Image.open(it[0])\n",
    "        img = np.asarray(img)\n",
    "        #img = img[...,[2,1,0]]#后面保存的时候转一下\n",
    "        lbl = Image.open(it[1])\n",
    "        lbl = np.asarray(lbl)\n",
    "        pts = np.where(lbl > 0)\n",
    "        for idx in range(len(pts[0])):\n",
    "            y, x = pts[0][idx], pts[1][idx]\n",
    "            allpts += [(len(imgs), (x, y))]\n",
    "        imgs += [img]\n",
    "        lbls += [lbl]\n",
    "        \n",
    "    rets = {'image': [], 'pos': [], 'tag': []}\n",
    "    pbar = progress_bar(range(DSSIZE))\n",
    "    pbar.comment = '生成中'\n",
    "    for i in pbar:\n",
    "        #不是空白的\n",
    "        if i < DSSIZE * (1 - BLANKP):\n",
    "            idx = i % len(allpts)\n",
    "            retry_cnt = 0\n",
    "            while True:\n",
    "                dx = random.randint(EDGE, DSIMGW - EDGE)#留个边\n",
    "                dy = random.randint(EDGE, DSIMGH - EDGE)\n",
    "                px, py = allpts[idx][1]\n",
    "                imgidx = allpts[idx][0]\n",
    "                sy = py - dy\n",
    "                sx = px - dx\n",
    "                simg = nimg[sy : sy + DSIMGW, sx : sx + DSIMGH]\n",
    "                simg = simg.copy()\n",
    "                \n",
    "                pos = [(dx, dy)]\n",
    "                tag = ['%d %d %d %d %d' % (imgidx, sx, sy, DSIMGW, DSIMGH)]\n",
    "                #可能区域内还有目标点\n",
    "                cx, cy = sx + DSIMGW // 2, sy + DSIMGH // 2\n",
    "                cnt = 0      \n",
    "                #因为要留边，可能会出现新找到的点正好在留边上，这时要重新来一下\n",
    "                retry = False\n",
    "                for pt in allpts:\n",
    "                    if pt[0] == imgidx:\n",
    "                        x, y = pt[1]                    \n",
    "                        if x == px and y == py:\n",
    "                            continue\n",
    "                        \n",
    "                        if abs(x - cx) < DSIMGW // 2 - EDGE and \\\n",
    "                                abs(y - cy) < DSIMGH // 2 - EDGE:                                \n",
    "                            cnt += 1\n",
    "                            pos += [(x - sx, y - sy)]\n",
    "                            #print(i, idx, pos, sx, sy)\n",
    "                            cv2.circle(simg, (x - sx, y - sy), 10, (0,255,255), -1)\n",
    "                            \n",
    "                        #这个是在留边的范围内。要重新搞一下\n",
    "                        elif abs(x - cx) < DSIMGW // 2 + EDGE and \\\n",
    "                                abs(y - cy) < DSIMGH // 2 + EDGE:\n",
    "                            retry = True\n",
    "                            #print('retry!!!')\n",
    "                            break\n",
    "                if retry:\n",
    "                    #可能一种情况是没法躲开周围的目标点，这时候就死循环了。碰到了再处理\n",
    "                    retry_cnt += 1\n",
    "                    if retry_cnt > 1000:\n",
    "                        assert False, 'retry fail:%d %d %d %d' % (i, idx, sx, sy)\n",
    "                    continue\n",
    "                #assert cnt == 1, 'cnt != 1: %d' % cnt\n",
    "                cv2.circle(simg, (dx, dy), 10, (255,255,255), -1)\n",
    "                #plt.imshow(simg)\n",
    "\n",
    "                fn = os.path.join(output_subimg_path, '%05d.jpg' % i)\n",
    "                simg = simg[...,[2,1,0]]\n",
    "                cv2.imwrite(fn, simg)\n",
    "                rets['image'] += [fn]\n",
    "                rets['pos'] += [pos]\n",
    "                rets['tag'] += [tag]\n",
    "                break\n",
    "        else:\n",
    "            idx = i % len(imgs)\n",
    "            #print(imgs[idx].shape)\n",
    "            h, w, _ = imgs[idx].shape            \n",
    "            while True:             \n",
    "                sx = random.randint(0, w - DSIMGW)\n",
    "                sy = random.randint(0, h - DSIMGH)\n",
    "                cx = sx + DSIMGW // 2\n",
    "                cy = sy + DSIMGH // 2\n",
    "                #确保没有目标点被圈进来\n",
    "                invalid = False\n",
    "                for pt in allpts:\n",
    "                    if pt[0] == idx:\n",
    "                        x, y = pt[1]\n",
    "                        #远离目标点\n",
    "                        if abs(x - cx) < DSIMGW // 2 + EDGE and \\\n",
    "                                abs(y - cy) < DSIMGW // 2 + EDGE:\n",
    "                            invalid = True\n",
    "                            #print('invalid!', cx, cy, pt)\n",
    "                            break\n",
    "                if invalid:\n",
    "                    continue\n",
    "                simg = nimg[sy : sy + DSIMGW, sx : sx + DSIMGH]\n",
    "                simg = simg.copy()\n",
    "                simg = simg[...,[2,1,0]]\n",
    "                fn = os.path.join(output_subimg_path, '%05d_b.jpg' % i)\n",
    "                cv2.imwrite(fn, simg)\n",
    "                rets['image'] += [fn]\n",
    "                rets['pos'] += [(-1, -1)]\n",
    "                rets['tag'] += ['%d %d %d %d %d' % (imgidx, sx, sy, DSIMGW, DSIMGH)]\n",
    "                \n",
    "                #确保一下里面没有包含点\n",
    "                if True:\n",
    "                    slbl = lbls[idx][sy : sy + DSIMGH, sx : sx + DSIMGW]\n",
    "                    tpts = np.where(slbl > 0)\n",
    "                    assert len(tpts[0]) == 0\n",
    "                \n",
    "                break\n",
    "    return rets\n",
    "        \n",
    "        "
   ]
  },
  {
   "cell_type": "markdown",
   "metadata": {},
   "source": [
    "# test"
   ]
  },
  {
   "cell_type": "code",
   "execution_count": null,
   "metadata": {},
   "outputs": [],
   "source": [
    "gen_datasets(src = [('../data/src/1.jpg', '../data/src/label_1.png')]\n",
    "            , output_subimg_path = './ds_20200818' , DSSIZE = 100)"
   ]
  },
  {
   "cell_type": "code",
   "execution_count": null,
   "metadata": {},
   "outputs": [],
   "source": [
    "#lbl = cv2.imread('../data/src/label_1.png')\n",
    "lbl = Image.open('../data/src/label_1.png')"
   ]
  },
  {
   "cell_type": "code",
   "execution_count": null,
   "metadata": {},
   "outputs": [],
   "source": [
    "lbl.height"
   ]
  },
  {
   "cell_type": "code",
   "execution_count": null,
   "metadata": {},
   "outputs": [],
   "source": [
    "nlbl = np.asarray(lbl)\n",
    "nlbl.shape"
   ]
  },
  {
   "cell_type": "code",
   "execution_count": null,
   "metadata": {},
   "outputs": [],
   "source": [
    "pts = np.where(nlbl > 0)\n",
    "pts"
   ]
  },
  {
   "cell_type": "code",
   "execution_count": null,
   "metadata": {},
   "outputs": [],
   "source": [
    "img = Image.open('../data/src/1.jpg')"
   ]
  },
  {
   "cell_type": "code",
   "execution_count": null,
   "metadata": {},
   "outputs": [],
   "source": [
    "nimg = np.asarray(img)\n",
    "nimg = nimg[...,[2,1,0]]"
   ]
  },
  {
   "cell_type": "code",
   "execution_count": null,
   "metadata": {},
   "outputs": [],
   "source": [
    "plt.imshow(nimg)"
   ]
  },
  {
   "cell_type": "code",
   "execution_count": null,
   "metadata": {},
   "outputs": [],
   "source": [
    "x, y = 9046, 16638\n",
    "plt.figure(figsize=(10,10))\n",
    "plt.imshow(nlbl[y : y + 512, x : x  + 512])"
   ]
  },
  {
   "cell_type": "code",
   "execution_count": null,
   "metadata": {},
   "outputs": [],
   "source": [
    "len(pts[0])"
   ]
  },
  {
   "cell_type": "code",
   "execution_count": null,
   "metadata": {},
   "outputs": [],
   "source": [
    "SZ = 512"
   ]
  },
  {
   "cell_type": "code",
   "execution_count": null,
   "metadata": {},
   "outputs": [],
   "source": [
    "EDGE = 30"
   ]
  },
  {
   "cell_type": "code",
   "execution_count": null,
   "metadata": {},
   "outputs": [],
   "source": [
    "CNT = 100"
   ]
  },
  {
   "cell_type": "code",
   "execution_count": null,
   "metadata": {},
   "outputs": [],
   "source": [
    "dir(plt)"
   ]
  },
  {
   "cell_type": "code",
   "execution_count": null,
   "metadata": {},
   "outputs": [],
   "source": [
    "c = 0\n",
    "while c < CNT:\n",
    "    idx = c % len(pts[0])    \n",
    "    dx = random.randint(EDGE, SZ - EDGE)#留个边\n",
    "    dy = random.randint(EDGE, SZ - EDGE)\n",
    "    y, x = pts[0][idx], pts[1][idx]\n",
    "    sy = y - dy\n",
    "    sx = x - dx\n",
    "    print(x, y, dx, dy, sx, sy)\n",
    "    #sx, sy = 7000, 80\n",
    "    simg = nimg[sy : sy + SZ, sx : sx + SZ]\n",
    "    simg = simg.copy()\n",
    "    cv2.circle(simg, (dx, dy), 10, (255,255,255), -1)\n",
    "    plt.imshow(simg)\n",
    "    fn = '%05d.jpg' % c\n",
    "    cv2.imwrite(fn, simg)\n",
    "    c+= 1\n",
    "    \n",
    "    break\n",
    "    "
   ]
  },
  {
   "cell_type": "code",
   "execution_count": null,
   "metadata": {},
   "outputs": [],
   "source": [
    "for i in range(len(pts[0])):\n",
    "    y, x = pts[0][i], pts[1][i]\n",
    "    print(x, y)\n",
    "    T = 500\n",
    "    simg = nimg[y - T : y + T, x - T : x + T]\n",
    "    plt.imshow(simg)\n",
    "    \n",
    "    break"
   ]
  },
  {
   "cell_type": "markdown",
   "metadata": {},
   "source": [
    "# export"
   ]
  },
  {
   "cell_type": "code",
   "execution_count": null,
   "metadata": {},
   "outputs": [],
   "source": []
  }
 ],
 "metadata": {
  "kernelspec": {
   "display_name": "Python 3",
   "language": "python",
   "name": "python3"
  },
  "language_info": {
   "codemirror_mode": {
    "name": "ipython",
    "version": 3
   },
   "file_extension": ".py",
   "mimetype": "text/x-python",
   "name": "python",
   "nbconvert_exporter": "python",
   "pygments_lexer": "ipython3",
   "version": "3.7.2"
  }
 },
 "nbformat": 4,
 "nbformat_minor": 4
}
