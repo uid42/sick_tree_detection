{
 "cells": [
  {
   "cell_type": "markdown",
   "metadata": {},
   "source": [
    "# imports"
   ]
  },
  {
   "cell_type": "code",
   "execution_count": null,
   "metadata": {},
   "outputs": [],
   "source": [
    "%matplotlib inline"
   ]
  },
  {
   "cell_type": "code",
   "execution_count": null,
   "metadata": {},
   "outputs": [],
   "source": [
    "from IPython.core import debugger as idb"
   ]
  },
  {
   "cell_type": "code",
   "execution_count": null,
   "metadata": {},
   "outputs": [],
   "source": [
    "# export\n",
    "import pandas as pd"
   ]
  },
  {
   "cell_type": "code",
   "execution_count": null,
   "metadata": {},
   "outputs": [],
   "source": [
    "# export\n",
    "import re"
   ]
  },
  {
   "cell_type": "code",
   "execution_count": null,
   "metadata": {},
   "outputs": [],
   "source": [
    "# export\n",
    "import numpy as np"
   ]
  },
  {
   "cell_type": "code",
   "execution_count": null,
   "metadata": {},
   "outputs": [],
   "source": [
    "# export\n",
    "from fastai.vision import *"
   ]
  },
  {
   "cell_type": "code",
   "execution_count": null,
   "metadata": {},
   "outputs": [],
   "source": [
    "# export\n",
    "import os"
   ]
  },
  {
   "cell_type": "code",
   "execution_count": null,
   "metadata": {},
   "outputs": [],
   "source": [
    "# export\n",
    "import cv2"
   ]
  },
  {
   "cell_type": "code",
   "execution_count": null,
   "metadata": {},
   "outputs": [],
   "source": [
    "# export\n",
    "from matplotlib import pyplot asr plt"
   ]
  },
  {
   "cell_type": "code",
   "execution_count": null,
   "metadata": {},
   "outputs": [],
   "source": [
    "# export\n",
    "import random"
   ]
  },
  {
   "cell_type": "code",
   "execution_count": null,
   "metadata": {},
   "outputs": [],
   "source": [
    "# export\n",
    "#from FLAI.detect_symbol.exp import databunch as databunch_detsym"
   ]
  },
  {
   "cell_type": "markdown",
   "metadata": {},
   "source": [
    "# functions"
   ]
  },
  {
   "cell_type": "code",
   "execution_count": null,
   "metadata": {},
   "outputs": [],
   "source": [
    "#export\n",
    "pat_coord = re.compile(r'\\d+')\n",
    "#图片在data_root目录下面的image目录里面，数字命名。\n",
    "pat_imgName = re.compile(r'(\\w+/\\d+\\.jpg)$')\n",
    "pat_clas = re.compile(r'\\w+')\n",
    "pat_num = re.compile(r'\\d+')    \n",
    "\n",
    "def get_label_from_df(fn, df, pat_imgName, coord_col, cat_col, asbbox = False):\n",
    "    '''\n",
    "    fn: \n",
    "        file path.\n",
    "    df: \n",
    "        a dataframe stores all the label information, imageName shoud be as index.\n",
    "    repat_imgName: \n",
    "        a regular expression pattern, used to find the imageName from fn, where imageName is stored in df \n",
    "    box_col:\n",
    "        the column name of bounding boxs\n",
    "    cat_col:\n",
    "        the column name of categories\n",
    "    '''\n",
    "    #print('glfd:', type(fn), fn)    \n",
    "    fn = pat_imgName.findall(str(fn))[0]\n",
    "    coords = df.loc[fn,coord_col]\n",
    "    coords = pat_num.findall(coords)\n",
    "    coords = list(map(np.long, coords))\n",
    "    coords = np.array(coords).reshape(-1, 2) * 1.0    \n",
    "    coords = coords.tolist()\n",
    "    \n",
    "    if asbbox:#暂时还沿用之前的bbox的形式。\n",
    "        #import pdb;pdb.set_trace()\n",
    "        ncoords = []\n",
    "        for c in coords:\n",
    "            ncoords += [[c[0], c[1], c[0] + 1, c[1] + 1]]\n",
    "        coords = ncoords\n",
    "    \n",
    "    cats = df.loc[fn,cat_col]\n",
    "    cats = pat_clas.findall(cats)\n",
    "        \n",
    "    return (coords, cats)"
   ]
  },
  {
   "cell_type": "code",
   "execution_count": null,
   "metadata": {
    "scrolled": false
   },
   "outputs": [],
   "source": [
    "def dbg():    \n",
    "    data = PointsItemList.from_folder('./ds_20200818/image').split_by_rand_pct(valid_pct = 0.2)\n",
    "    func = partial(get_label_from_df, df=df, pat_imgName=pat_imgName\n",
    "                   , coord_col='coord', cat_col='clas')\n",
    "    import pdb;pdb.set_trace();\n",
    "    data = data.label_from_func(func=func)\n",
    "    \n",
    "    data = data.databunch(bs=8, device=device, collate_fn=bb_pad_collate)\n",
    "    data = data.normalize(imagenet_stats)\n",
    "    \n",
    "    return data\n",
    "data = dbg()\n",
    "data.show_batch()"
   ]
  },
  {
   "cell_type": "code",
   "execution_count": null,
   "metadata": {},
   "outputs": [],
   "source": [
    "data = PointsItemList.from_folder('./ds_20200818/image').split_by_rand_pct(valid_pct = 0.2)\n",
    "\n",
    "func = partial(get_label_from_df, df=df, pat_imgName=pat_imgName\n",
    "                   , coord_col='coord', cat_col='clas', asbbox = True)\n",
    "data = data.label_from_func(func=func)"
   ]
  },
  {
   "cell_type": "code",
   "execution_count": null,
   "metadata": {},
   "outputs": [],
   "source": [
    "data"
   ]
  },
  {
   "cell_type": "code",
   "execution_count": null,
   "metadata": {},
   "outputs": [],
   "source": [
    "\n",
    "\n",
    "data = data.databunch(bs=8, device=device, collate_fn=bb_pad_collate)\n",
    "data = data.normalize(imagenet_stats)"
   ]
  },
  {
   "cell_type": "code",
   "execution_count": null,
   "metadata": {},
   "outputs": [],
   "source": [
    "data.show_batch()"
   ]
  },
  {
   "cell_type": "code",
   "execution_count": null,
   "metadata": {},
   "outputs": [],
   "source": [
    "data.train_ds"
   ]
  },
  {
   "cell_type": "code",
   "execution_count": null,
   "metadata": {},
   "outputs": [],
   "source": [
    "# export\n",
    "#描述坐标点的东西。\n",
    "def ObjectCategoryList_get(self, i):\n",
    "    return ImagePoints.create(*_get_size(self.x,i), *self.items[i], classes=self.classes, pad_idx=self.pad_idx)\n",
    "#ObjectCategoryList.get = ObjectCategoryList_get"
   ]
  },
  {
   "cell_type": "code",
   "execution_count": null,
   "metadata": {},
   "outputs": [],
   "source": [
    "# export\n",
    "# 这个函数是为了在其它模块的设计时快速构造databunch\n",
    "def get_databunch(data_root='./ds_20200818'\n",
    "        , csv_name='gends.csv', valid_pct=0.2, bs=64, device=torch.device('cpu'), cache=False):\n",
    "    '''\n",
    "    --------------------------------\n",
    "    参数：\n",
    "    -- data_root：数据集的总目录\n",
    "    -- img_path: 图片目录\n",
    "    -- csv_name：存放标注信息的csv文件名，其要符合“对csv的要求”\n",
    "    -- valid_pct：随机分割训练/验证集，该参数指定验证集的比例\n",
    "    -- bs：batch size\n",
    "    -- device：在datalaoder迭代时，dataloader先将batch加载到该device，做batch transform，然后返回。\n",
    "    -- cache：dataset是否将所有图片预缓存入内存\n",
    "    --------------------------------\n",
    "    返回值：\n",
    "    -- 一个databunch对象\n",
    "    --------------------------------\n",
    "    对csv的要求：\n",
    "    1，带index\n",
    "    2，存放图片名的列名称为\"image\"\n",
    "    3，存放位置信息信息的列名称为\"coord\"\n",
    "    4，存放类别信息的列名称为\"clas\"\n",
    "    --------------------------------\n",
    "    '''\n",
    "    data_root = Path(data_root)\n",
    "    csv_name = Path('gends.csv')\n",
    "    # 读入csv，稍作处理，方便get_label函数操作\n",
    "    csv_path = data_root/csv_name\n",
    "    df = pd.read_csv(csv_path,index_col=0)\n",
    "    df = df.set_index('image')\n",
    "\n",
    "    # ItemList\n",
    "    data = ObjectItemList.from_csv(path=data_root, csv_name=csv_name\n",
    "                                   , cols='image')    \n",
    "\n",
    "    # split ItemList to get ItemLists\n",
    "    data = data.split_by_rand_pct(valid_pct=valid_pct)\n",
    "\n",
    "    # label ItemLists to get LabelLists\n",
    "    func = partial(get_label_from_df, df=df, pat_imgName=pat_imgName\n",
    "                   , coord_col='coord', cat_col='clas')\n",
    "    data = data.label_from_func(func=func)\n",
    "\n",
    "    # add transforms\n",
    "#     trn_tfms = [*zoom_crop(scale=(0.9,1.1),do_rand=True,p=1),\n",
    "#                 rot90_affine(use_on_y=True)]\n",
    "#     val_tfms = []\n",
    "#    data = data.transform(tfms=[trn_tfms,val_tfms], tfm_y=True, remove_out=True)\n",
    "    # create DataBunch from LabelLists\n",
    "    data = data.databunch(bs=bs, device=device, collate_fn=bb_pad_collate, num_workers=0)\n",
    "\n",
    "    # normalize\n",
    "    data = data.normalize()\n",
    "    \n",
    "    # 缓存图片\n",
    "    if cache:\n",
    "        data.cache_ds_img()\n",
    "        \n",
    "    return data"
   ]
  },
  {
   "cell_type": "markdown",
   "metadata": {},
   "source": [
    "# test"
   ]
  },
  {
   "cell_type": "code",
   "execution_count": null,
   "metadata": {},
   "outputs": [],
   "source": [
    "# 做些设置\n",
    "data_root = './ds_20200818/'\n",
    "data_root = Path(data_root)\n",
    "\n",
    "csv_name = 'gends.csv'\n",
    "csv_path = data_root/csv_name\n",
    "\n",
    "img_subpath = 'image'\n",
    "img_path = data_root/img_subpath\n",
    "\n",
    "bs = 64\n",
    "\n",
    "\n",
    "device = 'cpu'\n",
    "device = torch.device('cuda')"
   ]
  },
  {
   "cell_type": "code",
   "execution_count": null,
   "metadata": {},
   "outputs": [],
   "source": [
    "# 读入csv，稍作处理，方便get_label函数操作\n",
    "df = pd.read_csv(csv_path,index_col=0)\n",
    "df = df.set_index('image')\n",
    "df.head()"
   ]
  },
  {
   "cell_type": "code",
   "execution_count": null,
   "metadata": {},
   "outputs": [],
   "source": [
    "# ItemList\n",
    "data = ObjectItemList.from_csv(path=data_root, csv_name=csv_name, cols='image')"
   ]
  },
  {
   "cell_type": "code",
   "execution_count": null,
   "metadata": {},
   "outputs": [],
   "source": [
    "# split ItemList to get ItemLists\n",
    "data = data.split_by_rand_pct(valid_pct=0.2)"
   ]
  },
  {
   "cell_type": "code",
   "execution_count": null,
   "metadata": {
    "scrolled": true
   },
   "outputs": [],
   "source": [
    "# def dbg(data):\n",
    "#     import pdb; pdb.set_trace()\n",
    "#     pat_imgName = re.compile(r'(\\w+\\/\\w+\\.jpg)$')\n",
    "#     func = partial(get_label_from_df, df=df, pat_imgName=pat_imgName, pos_col='pos')\n",
    "#     data = data.label_from_func(func=func)\n",
    "# dbg(data)    \n",
    "    "
   ]
  },
  {
   "cell_type": "code",
   "execution_count": null,
   "metadata": {
    "scrolled": true
   },
   "outputs": [],
   "source": [
    "# label ItemLists to get LabelLists\n",
    "func = partial(get_label_from_df, df=df, pat_imgName=pat_imgName, coord_col='coord', cat_col='clas')\n",
    "data = data.label_from_func(func=func)"
   ]
  },
  {
   "cell_type": "code",
   "execution_count": null,
   "metadata": {},
   "outputs": [],
   "source": [
    "data\n"
   ]
  },
  {
   "cell_type": "code",
   "execution_count": null,
   "metadata": {},
   "outputs": [],
   "source": [
    "# # add transforms\n",
    "# trn_tfms = [*zoom_crop(scale=(0.9,1.1),do_rand=True,p=1),\n",
    "#             rot90_affine(use_on_y=True)]\n",
    "# val_tfms = []\n",
    "\n",
    "# data = data.transform(tfms=[trn_tfms,val_tfms], tfm_y=True, remove_out=True)"
   ]
  },
  {
   "cell_type": "code",
   "execution_count": null,
   "metadata": {
    "scrolled": true
   },
   "outputs": [],
   "source": [
    "# create DataBunch from LabelLists\n",
    "data = data.databunch(bs=8, device=device, collate_fn=bb_pad_collate)"
   ]
  },
  {
   "cell_type": "code",
   "execution_count": null,
   "metadata": {},
   "outputs": [],
   "source": [
    "# 归一化\n",
    "# 当bs较大时，可以不必传入stats参数，这是normalize函数内部会取data的一个batch来统计stats，并以此近似整个数据集的stats\n",
    "# 但是当bs较小时，这样做就很不准确，需要先统计整个数据集的stats，在这里作为参数传入\n",
    "data = data.normalize()"
   ]
  },
  {
   "cell_type": "code",
   "execution_count": null,
   "metadata": {},
   "outputs": [],
   "source": [
    "# 缓存图片\n",
    "# data.cache_ds_img()"
   ]
  },
  {
   "cell_type": "code",
   "execution_count": null,
   "metadata": {},
   "outputs": [],
   "source": [
    "data = get_databunch(bs = 16, device = device)"
   ]
  },
  {
   "cell_type": "code",
   "execution_count": null,
   "metadata": {},
   "outputs": [],
   "source": [
    "data.show_batch(rows=3)"
   ]
  },
  {
   "cell_type": "code",
   "execution_count": null,
   "metadata": {},
   "outputs": [],
   "source": [
    "tdl = data.train_dl"
   ]
  },
  {
   "cell_type": "code",
   "execution_count": null,
   "metadata": {},
   "outputs": [],
   "source": [
    "tdldl = tdl.dl"
   ]
  },
  {
   "cell_type": "code",
   "execution_count": null,
   "metadata": {},
   "outputs": [],
   "source": [
    "tdldl.sampler"
   ]
  },
  {
   "cell_type": "code",
   "execution_count": null,
   "metadata": {},
   "outputs": [],
   "source": [
    "# 查看统计信息\n",
    "#databunch_detsym.databunch_statistics(data);"
   ]
  },
  {
   "cell_type": "code",
   "execution_count": null,
   "metadata": {},
   "outputs": [],
   "source": [
    "#lesson3-head-pose.ipynb\n",
    "data = PointsItemList.from_folder('./ds_20200818/image').split_by_rand_pct(valid_pct = 0.2)\n",
    "func = partial(get_label_from_df, df=df, pat_imgName=pat_imgName\n",
    "                   , coord_col='coord', cat_col='clas')\n",
    "data = data.label_from_func(func=func)\n",
    "\n",
    "data = data.databunch(bs=8, device=device, collate_fn=bb_pad_collate)\n",
    "data = data.normalize(imagenet_stats)"
   ]
  },
  {
   "cell_type": "code",
   "execution_count": null,
   "metadata": {},
   "outputs": [],
   "source": [
    "data"
   ]
  },
  {
   "cell_type": "markdown",
   "metadata": {},
   "source": [
    "# export"
   ]
  },
  {
   "cell_type": "code",
   "execution_count": null,
   "metadata": {},
   "outputs": [],
   "source": [
    "!python ../notebook2script.py --fname 'databunch.ipynb' --outputDir '../exp/'"
   ]
  },
  {
   "cell_type": "code",
   "execution_count": null,
   "metadata": {},
   "outputs": [],
   "source": []
  }
 ],
 "metadata": {
  "kernelspec": {
   "display_name": "Python 3",
   "language": "python",
   "name": "python3"
  },
  "language_info": {
   "codemirror_mode": {
    "name": "ipython",
    "version": 3
   },
   "file_extension": ".py",
   "mimetype": "text/x-python",
   "name": "python",
   "nbconvert_exporter": "python",
   "pygments_lexer": "ipython3",
   "version": "3.7.2"
  }
 },
 "nbformat": 4,
 "nbformat_minor": 2
}
