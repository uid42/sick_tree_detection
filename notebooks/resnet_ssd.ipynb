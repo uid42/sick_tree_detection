{
 "cells": [
  {
   "cell_type": "code",
   "execution_count": null,
   "metadata": {},
   "outputs": [],
   "source": [
    "%load_ext autoreload\n",
    "%autoreload 2\n",
    "\n",
    "%matplotlib inline"
   ]
  },
  {
   "cell_type": "markdown",
   "metadata": {},
   "source": [
    "# import"
   ]
  },
  {
   "cell_type": "code",
   "execution_count": null,
   "metadata": {},
   "outputs": [],
   "source": [
    "# export\n",
    "import torchvision"
   ]
  },
  {
   "cell_type": "code",
   "execution_count": null,
   "metadata": {},
   "outputs": [],
   "source": [
    "# export\n",
    "from torch import nn"
   ]
  },
  {
   "cell_type": "code",
   "execution_count": null,
   "metadata": {},
   "outputs": [],
   "source": [
    "# export\n",
    "import torch"
   ]
  },
  {
   "cell_type": "code",
   "execution_count": null,
   "metadata": {},
   "outputs": [],
   "source": [
    "# export\n",
    "import torchvision"
   ]
  },
  {
   "cell_type": "code",
   "execution_count": null,
   "metadata": {},
   "outputs": [],
   "source": [
    "# export\n",
    "from collections import OrderedDict"
   ]
  },
  {
   "cell_type": "code",
   "execution_count": null,
   "metadata": {},
   "outputs": [],
   "source": [
    "# export\n",
    "from IPython.core import debugger as idb"
   ]
  },
  {
   "cell_type": "code",
   "execution_count": null,
   "metadata": {},
   "outputs": [],
   "source": [
    "# export\n",
    "from torchvision.models.resnet import conv1x1"
   ]
  },
  {
   "cell_type": "code",
   "execution_count": null,
   "metadata": {},
   "outputs": [],
   "source": [
    "# export\n",
    "from FLAI.detect_symbol.exp import resnet_ssd as resnet_ssd_detsym"
   ]
  },
  {
   "cell_type": "code",
   "execution_count": null,
   "metadata": {},
   "outputs": [],
   "source": [
    "#测试用，不需要导出\n",
    "from FLAI.detect_symbol.exp import databunch"
   ]
  },
  {
   "cell_type": "markdown",
   "metadata": {},
   "source": [
    "# functions"
   ]
  },
  {
   "cell_type": "markdown",
   "metadata": {},
   "source": [
    "### ssd_block"
   ]
  },
  {
   "cell_type": "code",
   "execution_count": null,
   "metadata": {},
   "outputs": [],
   "source": [
    "# export\n",
    "class ssd_block(nn.Module):\n",
    "    '''\n",
    "    和detect_symbol里面的ssd_block相比只是去掉了宽高相关的部分\n",
    "    '''\n",
    "    def __init__(self, k, nin, n_clas):\n",
    "        '''\n",
    "        ssd头模块，它根据某层的特征图给出bbox预测信息，该模块的输出包含4个部分：\n",
    "        -- loc：bbox中心偏移，2个值\n",
    "        -- conf：目标信心，1个值\n",
    "        -- clas：目标类别，n_clas个值\n",
    "        ----------------------------------------\n",
    "        参数：\n",
    "        -- k：每个grid的anchor数\n",
    "        -- nin：输入特征图通道数\n",
    "        -- n_clas：目标类别数\n",
    "        '''\n",
    "        super().__init__()\n",
    "        self.k = k\n",
    "        self.oconv_loc = nn.Conv2d(nin, 2*k, 3, padding=1) # bbox center\n",
    "        self.oconv_conf = nn.Conv2d(nin, 1*k, 3, padding=1) # confidence\n",
    "        self.oconv_clas = nn.Conv2d(nin, n_clas*k, 3, padding=1) # classification\n",
    "        \n",
    "    def forward(self, x):\n",
    "        return (resnet_ssd_detsym.flatten_grid_anchor(self.oconv_loc(x), self.k),\n",
    "                resnet_ssd_detsym.flatten_grid_anchor(self.oconv_conf(x), self.k),\n",
    "                resnet_ssd_detsym.flatten_grid_anchor(self.oconv_clas(x), self.k)\n",
    "               )"
   ]
  },
  {
   "cell_type": "markdown",
   "metadata": {},
   "source": [
    "### ResNetIsh_SSD"
   ]
  },
  {
   "cell_type": "code",
   "execution_count": null,
   "metadata": {
    "code_folding": [
     79,
     103,
     118
    ]
   },
   "outputs": [],
   "source": [
    "# export\n",
    "class ResNetIsh_SSD(resnet_ssd_detsym.ResNetIsh_SSD):    \n",
    "    def forward(self, x):\n",
    "        outs = self._forward_impl(x)\n",
    "        \n",
    "        locs,confs,clss = [],[],[]\n",
    "        for out in outs:\n",
    "            locs += [out[0]]\n",
    "            confs += [out[1]]\n",
    "            clss += [out[2]]\n",
    "        \n",
    "        return (torch.cat(locs,dim=1),\n",
    "                torch.cat(confs,dim=1),\n",
    "                torch.cat(clss,dim=1)\n",
    "               )"
   ]
  },
  {
   "cell_type": "markdown",
   "metadata": {},
   "source": [
    "### ResNetIsh_1SSD"
   ]
  },
  {
   "cell_type": "code",
   "execution_count": null,
   "metadata": {
    "code_folding": [
     2
    ]
   },
   "outputs": [],
   "source": [
    "# export\n",
    "class ResNetIsh_1SSD(resnet_ssd_detsym.ResNetIsh_1SSD):    \n",
    "    def forward(self, x):\n",
    "        outs = self._forward_impl(x)\n",
    "        \n",
    "        locs,confs,clss = [],[],[]\n",
    "        for out in outs:\n",
    "            locs += [out[0]]\n",
    "            confs += [out[1]]\n",
    "            clss += [out[2]]\n",
    "        \n",
    "        return (torch.cat(locs,dim=1),\n",
    "                torch.cat(confs,dim=1),\n",
    "                torch.cat(clss,dim=1)\n",
    "               )"
   ]
  },
  {
   "cell_type": "code",
   "execution_count": null,
   "metadata": {
    "scrolled": false
   },
   "outputs": [],
   "source": [
    "#export \n",
    "class ResNetIsh_1SSD_fpn(ResNetIsh_1SSD):\n",
    "    '''\n",
    "    带fpn的\n",
    "    '''\n",
    "    def init_fpn(self):\n",
    "        assert len(self.pred_layerIds) > 1\n",
    "        #这个现在固定的就是resnet18用的\n",
    "        self.fpn = torchvision.ops.FeaturePyramidNetwork([256, 512, 1024], 256)\n",
    "        \n",
    "    def _forward_impl(self, x):\n",
    "        # See note [TorchScript super()]\n",
    "        x = self.conv1(x)\n",
    "        x = self.bn1(x)\n",
    "        x = self.relu(x)\n",
    "        x = self.maxpool(x)\n",
    "        \n",
    "        outs = []\n",
    "        input4fpn = OrderedDict()\n",
    "        for i in range(len(self.res_blocks)):\n",
    "            x = self.res_blocks[i](x)\n",
    "            if i in self.pred_layerIds:\n",
    "                #>>>>>>>>>>>>>>>>>>>>>>>>>>>>>>>\n",
    "#                 outs += [self.neck_blocks[i-self.pred_layerIds[0]](x)]\n",
    "                ################################\n",
    "                if self.fpn is None:#没有fpn，直接用neck_block\n",
    "                    neck_out = self.neck_blocks[i-self.pred_layerIds[0]](x)\n",
    "                    outs += [self.head_block(neck_out)]\n",
    "                else:#如果有fpn跳过neck_block\n",
    "                    key = 'feat%d' % (i-self.pred_layerIds[0])\n",
    "                    input4fpn[key] = x\n",
    "                #<<<<<<<<<<<<<<<<<<<<<<<<<<<<<<<\n",
    "        if self.fpn is not None:\n",
    "            fpnout = self.fpn(input4fpn)\n",
    "            #先只取最终合并完成的那个特征图。这个和之前的只用一层的特征图的行为是一致的\n",
    "            outs += [self.head_block(fpnout['feat0'])]\n",
    "            \n",
    "        return outs"
   ]
  },
  {
   "cell_type": "markdown",
   "metadata": {},
   "source": [
    "## test"
   ]
  },
  {
   "cell_type": "code",
   "execution_count": null,
   "metadata": {
    "code_folding": []
   },
   "outputs": [],
   "source": [
    "data = databunch.get_databunch(data_root='/home/dev/jupyter/detect_symbol/data/ds_20200429/', cache=False)\n",
    "x,y = data.one_batch(denorm=False)\n",
    "\n",
    "num_classes = len(data.train_ds.y.classes)-1"
   ]
  },
  {
   "cell_type": "code",
   "execution_count": null,
   "metadata": {},
   "outputs": [],
   "source": []
  },
  {
   "cell_type": "code",
   "execution_count": null,
   "metadata": {},
   "outputs": [],
   "source": []
  },
  {
   "cell_type": "code",
   "execution_count": null,
   "metadata": {},
   "outputs": [],
   "source": [
    "mt = ResNetIsh_1SSD_fpn(block=torchvision.models.resnet.BasicBlock,\n",
    "                   layers=[2,2,2,2,2],\n",
    "                   chs=[64,128,256,512,1024],\n",
    "                   strides=[1,2,2,2,2],\n",
    "                   pred_layerIds=[2, 3, 4],\n",
    "                   num_anchors=1,\n",
    "                   neck_block=resnet_ssd_detsym.cnv1x1_bn_relu,\n",
    "                   head_chin=256,\n",
    "                   head_block=ssd_block,\n",
    "                   num_classes=num_classes)    \n",
    "mt.init_fpn()\n",
    "mt(x)"
   ]
  },
  {
   "cell_type": "code",
   "execution_count": null,
   "metadata": {},
   "outputs": [],
   "source": [
    "m = get_resnet18_1ssd(layers4fpn = True, num_classes = 17)"
   ]
  },
  {
   "cell_type": "code",
   "execution_count": null,
   "metadata": {},
   "outputs": [],
   "source": []
  },
  {
   "cell_type": "code",
   "execution_count": null,
   "metadata": {},
   "outputs": [],
   "source": [
    "def dbg():\n",
    "    import pdb; pdb.set_trace()\n",
    "    p = m(x)\n",
    "    \n",
    "dbg()    "
   ]
  },
  {
   "cell_type": "code",
   "execution_count": null,
   "metadata": {},
   "outputs": [],
   "source": [
    "p[0].shape\n"
   ]
  },
  {
   "cell_type": "markdown",
   "metadata": {},
   "source": [
    "### ResNetIsh_SSD"
   ]
  },
  {
   "cell_type": "code",
   "execution_count": null,
   "metadata": {
    "code_folding": []
   },
   "outputs": [],
   "source": [
    "# 构建模型\n",
    "m = ResNetIsh_SSD(block=torchvision.models.resnet.BasicBlock,\n",
    "                  layers=[2,2,2],\n",
    "                  chs=[64,128,256],\n",
    "                  strides=[1,2,2],\n",
    "                  pred_layerIds=[2],\n",
    "                  num_anchors=[1],\n",
    "                  pred_block=ssd_block,\n",
    "                  num_classes=16)"
   ]
  },
  {
   "cell_type": "code",
   "execution_count": null,
   "metadata": {
    "code_folding": [
     0
    ]
   },
   "outputs": [],
   "source": [
    "# 跑一个batch\n",
    "pred = m(x)"
   ]
  },
  {
   "cell_type": "code",
   "execution_count": null,
   "metadata": {
    "code_folding": []
   },
   "outputs": [],
   "source": [
    "# 查看输出的形状\n",
    "print(f'type(pred)={type(pred)}')\n",
    "print(f'len(pred)={len(pred)}')\n",
    "\n",
    "print('-----------------------')\n",
    "for p in pred:\n",
    "    print(p.shape)\n",
    "    \n",
    "print('-----------------------')\n",
    "#print(49*49*4+25*25*3+13*13*3)\n",
    "print(49*49*1)"
   ]
  },
  {
   "cell_type": "markdown",
   "metadata": {},
   "source": [
    "### ResNetIsh_1SSD"
   ]
  },
  {
   "cell_type": "code",
   "execution_count": null,
   "metadata": {},
   "outputs": [],
   "source": [
    "num_classes"
   ]
  },
  {
   "cell_type": "code",
   "execution_count": null,
   "metadata": {},
   "outputs": [],
   "source": [
    "# 构建模型。不涉及到hw的事情，去掉后面的层\n",
    "m = ResNetIsh_1SSD(block=torchvision.models.resnet.BasicBlock,\n",
    "                   layers=[2,2,2],\n",
    "                   chs=[64,128,256],\n",
    "                   strides=[1,2,2],\n",
    "                   pred_layerIds=[2],\n",
    "                   num_anchors=1,\n",
    "                   neck_block=resnet_ssd_detsym.cnv1x1_bn_relu,\n",
    "                   head_chin=256,\n",
    "                   head_block=ssd_block,\n",
    "                   num_classes=17)"
   ]
  },
  {
   "cell_type": "code",
   "execution_count": null,
   "metadata": {
    "code_folding": []
   },
   "outputs": [],
   "source": [
    "# 跑一个batch\n",
    "pred = m(x)"
   ]
  },
  {
   "cell_type": "code",
   "execution_count": null,
   "metadata": {
    "code_folding": []
   },
   "outputs": [],
   "source": [
    "# 查看输出的形状\n",
    "print(f'type(pred)={type(pred)}')\n",
    "print(f'len(pred)={len(pred)}')\n",
    "\n",
    "print('-----------------------')\n",
    "for p in pred:\n",
    "    print(p.shape)\n",
    "    \n",
    "print('-----------------------')\n",
    "#print(49*49*4+25*25*4+13*13*4)\n",
    "print(49*49*1)"
   ]
  },
  {
   "cell_type": "code",
   "execution_count": null,
   "metadata": {},
   "outputs": [],
   "source": []
  },
  {
   "cell_type": "markdown",
   "metadata": {},
   "source": [
    "## zip as function"
   ]
  },
  {
   "cell_type": "code",
   "execution_count": null,
   "metadata": {},
   "outputs": [],
   "source": [
    "# export\n",
    "def get_resnet18_1ssd(layers4fpn = False, num_classes = 1):\n",
    "    #layers4fpn是否保留后面的两层给fpn用\n",
    "    if not layers4fpn:\n",
    "        return ResNetIsh_1SSD(block=torchvision.models.resnet.BasicBlock,\n",
    "                   layers=[2,2,2],\n",
    "                   chs=[64,128,256],\n",
    "                   strides=[1,2,2],\n",
    "                   pred_layerIds=[2],\n",
    "                   num_anchors=1,\n",
    "                   neck_block=resnet_ssd_detsym.cnv1x1_bn_relu,\n",
    "                   head_chin=256,\n",
    "                   head_block=ssd_block,\n",
    "                   num_classes=num_classes)\n",
    "    else:\n",
    "        return ResNetIsh_1SSD(block=torchvision.models.resnet.BasicBlock,\n",
    "                   layers=[2,2,2,2,2],\n",
    "                   chs=[64,128,256,512,1024],\n",
    "                   strides=[1,2,2,2,2],\n",
    "                   pred_layerIds=[2, 3, 4],\n",
    "                   num_anchors=1,\n",
    "                   neck_block=resnet_ssd_detsym.cnv1x1_bn_relu,\n",
    "                   head_chin=256,\n",
    "                   head_block=ssd_block,\n",
    "                   num_classes=num_classes)"
   ]
  },
  {
   "cell_type": "code",
   "execution_count": null,
   "metadata": {},
   "outputs": [],
   "source": [
    "# export\n",
    "def get_resnet18_ssd(layers4fpn = False, num_classes = 1):\n",
    "    if not layers4fpn:\n",
    "        return ResNetIsh_SSD(block=torchvision.models.resnet.BasicBlock,\n",
    "                  layers=[2,2,2],\n",
    "                  chs=[64,128,256],\n",
    "                  strides=[1,2,2],\n",
    "                  pred_layerIds=[2],\n",
    "                  num_anchors=[1],\n",
    "                  pred_block=ssd_block,\n",
    "                  num_classes=num_classes)\n",
    "    else:\n",
    "        return ResNetIsh_SSD(block=torchvision.models.resnet.BasicBlock,\n",
    "                  layers=[2,2,2,2,2],\n",
    "                  chs=[64,128,256,512,1024],\n",
    "                  strides=[1,2,2,2,2],\n",
    "                  pred_layerIds=[2, 3, 4],\n",
    "                  num_anchors=[1, 1, 1],\n",
    "                  pred_block=ssd_block,\n",
    "                  num_classes=num_classes)"
   ]
  },
  {
   "cell_type": "code",
   "execution_count": null,
   "metadata": {},
   "outputs": [],
   "source": [
    "get_resnet18_1ssd(layers4fpn = True)"
   ]
  },
  {
   "cell_type": "code",
   "execution_count": null,
   "metadata": {},
   "outputs": [],
   "source": [
    "get_resnet18_1ssd(layers4fpn = False)"
   ]
  },
  {
   "cell_type": "code",
   "execution_count": null,
   "metadata": {},
   "outputs": [],
   "source": [
    "get_resnet18_ssd(layers4fpn = True)"
   ]
  },
  {
   "cell_type": "code",
   "execution_count": null,
   "metadata": {},
   "outputs": [],
   "source": [
    "get_resnet18_ssd(layers4fpn = False)"
   ]
  },
  {
   "cell_type": "code",
   "execution_count": null,
   "metadata": {},
   "outputs": [],
   "source": []
  },
  {
   "cell_type": "code",
   "execution_count": null,
   "metadata": {},
   "outputs": [],
   "source": []
  },
  {
   "cell_type": "code",
   "execution_count": null,
   "metadata": {},
   "outputs": [],
   "source": []
  },
  {
   "cell_type": "code",
   "execution_count": null,
   "metadata": {},
   "outputs": [],
   "source": []
  },
  {
   "cell_type": "markdown",
   "metadata": {},
   "source": []
  },
  {
   "cell_type": "code",
   "execution_count": null,
   "metadata": {},
   "outputs": [],
   "source": [
    "import torchvision"
   ]
  },
  {
   "cell_type": "code",
   "execution_count": null,
   "metadata": {},
   "outputs": [],
   "source": [
    "from torchvision.ops import *"
   ]
  },
  {
   "cell_type": "code",
   "execution_count": null,
   "metadata": {},
   "outputs": [],
   "source": [
    "from collections import *"
   ]
  },
  {
   "cell_type": "code",
   "execution_count": null,
   "metadata": {},
   "outputs": [],
   "source": [
    "import torch"
   ]
  },
  {
   "cell_type": "code",
   "execution_count": null,
   "metadata": {},
   "outputs": [],
   "source": [
    "#feature_pyramid_network.py"
   ]
  },
  {
   "cell_type": "code",
   "execution_count": null,
   "metadata": {},
   "outputs": [],
   "source": [
    "m = torchvision.ops.FeaturePyramidNetwork([10, 20, 30], 5)\n",
    "# get some dummy data\n",
    "x = OrderedDict()\n",
    "x['feat0'] = torch.rand(1, 10, 64, 64)\n",
    "x['feat2'] = torch.rand(1, 20, 16, 16)\n",
    "x['feat3'] = torch.rand(1, 30, 8, 8)\n",
    "#x['feat4'] = torch.rand(1, 20, 8, 8)\n",
    "# compute the FPN on top of x\n",
    "output = m(x)\n",
    "print([(k, v.shape) for k, v in output.items()])"
   ]
  },
  {
   "cell_type": "markdown",
   "metadata": {
    "heading_collapsed": true
   },
   "source": [
    "### tmp"
   ]
  },
  {
   "cell_type": "code",
   "execution_count": null,
   "metadata": {
    "hidden": true
   },
   "outputs": [],
   "source": [
    "model3 = get_resnet18_ssd_std(layers4fpn = True, num_classes = 17)\n",
    "model3"
   ]
  },
  {
   "cell_type": "code",
   "execution_count": null,
   "metadata": {},
   "outputs": [],
   "source": []
  },
  {
   "cell_type": "code",
   "execution_count": null,
   "metadata": {},
   "outputs": [],
   "source": []
  },
  {
   "cell_type": "code",
   "execution_count": null,
   "metadata": {},
   "outputs": [],
   "source": []
  },
  {
   "cell_type": "markdown",
   "metadata": {},
   "source": [
    "# export"
   ]
  },
  {
   "cell_type": "code",
   "execution_count": null,
   "metadata": {
    "scrolled": true
   },
   "outputs": [],
   "source": [
    "!python ../notebook2script.py --fname 'resnet_ssd.ipynb' --outputDir '../exp/'"
   ]
  },
  {
   "cell_type": "code",
   "execution_count": null,
   "metadata": {},
   "outputs": [],
   "source": []
  },
  {
   "cell_type": "code",
   "execution_count": null,
   "metadata": {},
   "outputs": [],
   "source": []
  }
 ],
 "metadata": {
  "kernelspec": {
   "display_name": "Python 3",
   "language": "python",
   "name": "python3"
  },
  "language_info": {
   "codemirror_mode": {
    "name": "ipython",
    "version": 3
   },
   "file_extension": ".py",
   "mimetype": "text/x-python",
   "name": "python",
   "nbconvert_exporter": "python",
   "pygments_lexer": "ipython3",
   "version": "3.7.2"
  }
 },
 "nbformat": 4,
 "nbformat_minor": 2
}
