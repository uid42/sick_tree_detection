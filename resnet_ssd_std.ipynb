{
 "cells": [
  {
   "cell_type": "code",
   "execution_count": 1,
   "metadata": {},
   "outputs": [],
   "source": [
    "%load_ext autoreload\n",
    "%autoreload 2\n",
    "\n",
    "%matplotlib inline"
   ]
  },
  {
   "cell_type": "markdown",
   "metadata": {},
   "source": [
    "# import"
   ]
  },
  {
   "cell_type": "code",
   "execution_count": 2,
   "metadata": {},
   "outputs": [],
   "source": [
    "# export\n",
    "import torchvision"
   ]
  },
  {
   "cell_type": "code",
   "execution_count": 3,
   "metadata": {},
   "outputs": [],
   "source": [
    "# export\n",
    "from torch import nn"
   ]
  },
  {
   "cell_type": "code",
   "execution_count": 4,
   "metadata": {},
   "outputs": [],
   "source": [
    "# export\n",
    "import torch"
   ]
  },
  {
   "cell_type": "code",
   "execution_count": 42,
   "metadata": {},
   "outputs": [],
   "source": [
    "# export\n",
    "import torchvision"
   ]
  },
  {
   "cell_type": "code",
   "execution_count": 41,
   "metadata": {},
   "outputs": [],
   "source": [
    "# export\n",
    "from IPython.core import debugger as idb"
   ]
  },
  {
   "cell_type": "code",
   "execution_count": 40,
   "metadata": {},
   "outputs": [],
   "source": [
    "# export\n",
    "from torchvision.models.resnet import conv1x1"
   ]
  },
  {
   "cell_type": "code",
   "execution_count": 39,
   "metadata": {},
   "outputs": [],
   "source": [
    "# export\n",
    "import sys \n",
    "sys.path.append(\"..\") \n",
    "from detect_symbol.exp import nb_databunch\n",
    "from detect_symbol.exp import nb_resnet_ssd"
   ]
  },
  {
   "cell_type": "markdown",
   "metadata": {},
   "source": [
    "# functions"
   ]
  },
  {
   "cell_type": "markdown",
   "metadata": {},
   "source": [
    "### ssd_block_std"
   ]
  },
  {
   "cell_type": "code",
   "execution_count": 44,
   "metadata": {},
   "outputs": [],
   "source": [
    "# export\n",
    "class ssd_block_std(nn.Module):\n",
    "    '''\n",
    "    和detect_symbol里面的ssd_block相比只是去掉了宽高相关的部分\n",
    "    '''\n",
    "    def __init__(self, k, nin, n_clas):\n",
    "        '''\n",
    "        ssd头模块，它根据某层的特征图给出bbox预测信息，该模块的输出包含4个部分：\n",
    "        -- loc：bbox中心偏移，2个值\n",
    "        -- conf：目标信心，1个值\n",
    "        -- clas：目标类别，n_clas个值\n",
    "        ----------------------------------------\n",
    "        参数：\n",
    "        -- k：每个grid的anchor数\n",
    "        -- nin：输入特征图通道数\n",
    "        -- n_clas：目标类别数\n",
    "        '''\n",
    "        super().__init__()\n",
    "        self.k = k\n",
    "        self.oconv_loc = nn.Conv2d(nin, 2*k, 3, padding=1) # bbox center\n",
    "        self.oconv_conf = nn.Conv2d(nin, 1*k, 3, padding=1) # confidence\n",
    "        self.oconv_clas = nn.Conv2d(nin, n_clas*k, 3, padding=1) # classification\n",
    "        \n",
    "    def forward(self, x):\n",
    "        return (nb_resnet_ssd.flatten_grid_anchor(self.oconv_loc(x), self.k),\n",
    "                nb_resnet_ssd.flatten_grid_anchor(self.oconv_conf(x), self.k),\n",
    "                nb_resnet_ssd.flatten_grid_anchor(self.oconv_clas(x), self.k)\n",
    "               )"
   ]
  },
  {
   "cell_type": "markdown",
   "metadata": {},
   "source": [
    "### ResNetIsh_SSD_std"
   ]
  },
  {
   "cell_type": "code",
   "execution_count": 53,
   "metadata": {
    "code_folding": [
     79,
     103,
     118
    ]
   },
   "outputs": [],
   "source": [
    "# export\n",
    "class ResNetIsh_SSD_std(nb_resnet_ssd.ResNetIsh_SSD):    \n",
    "    def forward(self, x):\n",
    "        #import pdb; pdb.set_trace()\n",
    "        outs = self._forward_impl(x)\n",
    "        \n",
    "        locs,confs,clss = [],[],[]\n",
    "        for out in outs:\n",
    "            locs += [out[0]]\n",
    "            confs += [out[1]]\n",
    "            clss += [out[2]]\n",
    "        \n",
    "        return (torch.cat(locs,dim=1),\n",
    "                torch.cat(confs,dim=1),\n",
    "                torch.cat(clss,dim=1)\n",
    "               )"
   ]
  },
  {
   "cell_type": "markdown",
   "metadata": {},
   "source": [
    "### ResNetIsh_1SSD_std"
   ]
  },
  {
   "cell_type": "code",
   "execution_count": 54,
   "metadata": {
    "code_folding": [
     2
    ]
   },
   "outputs": [],
   "source": [
    "# export\n",
    "class ResNetIsh_1SSD_std(nb_resnet_ssd.ResNetIsh_1SSD):    \n",
    "    def forward(self, x):\n",
    "        #import pdb; pdb.set_trace()\n",
    "        outs = self._forward_impl(x)\n",
    "        \n",
    "        locs,confs,clss = [],[],[]\n",
    "        for out in outs:\n",
    "            locs += [out[0]]\n",
    "            confs += [out[1]]\n",
    "            clss += [out[2]]\n",
    "        \n",
    "        return (torch.cat(locs,dim=1),\n",
    "                torch.cat(confs,dim=1),\n",
    "                torch.cat(clss,dim=1)\n",
    "               )"
   ]
  },
  {
   "cell_type": "markdown",
   "metadata": {},
   "source": [
    "## test"
   ]
  },
  {
   "cell_type": "code",
   "execution_count": 20,
   "metadata": {
    "code_folding": []
   },
   "outputs": [],
   "source": [
    "data = nb_databunch.get_databunch(data_root='../detect_symbol/data/ds_20200429/', cache=False)\n",
    "x,y = data.one_batch(denorm=False)\n",
    "\n",
    "num_classes = len(data.train_ds.y.classes)-1"
   ]
  },
  {
   "cell_type": "markdown",
   "metadata": {},
   "source": [
    "### ResNetIsh_SSD_std"
   ]
  },
  {
   "cell_type": "code",
   "execution_count": 21,
   "metadata": {
    "code_folding": []
   },
   "outputs": [],
   "source": [
    "# 构建模型\n",
    "m = ResNetIsh_SSD_std(block=torchvision.models.resnet.BasicBlock,\n",
    "                  layers=[2,2,2],\n",
    "                  chs=[64,128,256],\n",
    "                  strides=[1,2,2],\n",
    "                  pred_layerIds=[2],\n",
    "                  num_anchors=[1],\n",
    "                  pred_block=ssd_block_std,\n",
    "                  num_classes=16)"
   ]
  },
  {
   "cell_type": "code",
   "execution_count": 22,
   "metadata": {
    "code_folding": [
     0
    ]
   },
   "outputs": [
    {
     "name": "stdout",
     "output_type": "stream",
     "text": [
      "> <ipython-input-18-f7285b6be189>(5)forward()\n",
      "-> outs = self._forward_impl(x)\n",
      "(Pdb) c\n"
     ]
    }
   ],
   "source": [
    "# 跑一个batch\n",
    "pred = m(x)"
   ]
  },
  {
   "cell_type": "code",
   "execution_count": 36,
   "metadata": {
    "code_folding": []
   },
   "outputs": [
    {
     "name": "stdout",
     "output_type": "stream",
     "text": [
      "type(pred)=<class 'tuple'>\n",
      "len(pred)=3\n",
      "-----------------------\n",
      "torch.Size([64, 2401, 2])\n",
      "torch.Size([64, 2401, 1])\n",
      "torch.Size([64, 2401, 17])\n",
      "-----------------------\n",
      "2401\n"
     ]
    }
   ],
   "source": [
    "# 查看输出的形状\n",
    "print(f'type(pred)={type(pred)}')\n",
    "print(f'len(pred)={len(pred)}')\n",
    "\n",
    "print('-----------------------')\n",
    "for p in pred:\n",
    "    print(p.shape)\n",
    "    \n",
    "print('-----------------------')\n",
    "#print(49*49*4+25*25*3+13*13*3)\n",
    "print(49*49*1)"
   ]
  },
  {
   "cell_type": "markdown",
   "metadata": {},
   "source": [
    "### ResNetIsh_1SSD_std"
   ]
  },
  {
   "cell_type": "code",
   "execution_count": 24,
   "metadata": {},
   "outputs": [
    {
     "data": {
      "text/plain": [
       "17"
      ]
     },
     "execution_count": 24,
     "metadata": {},
     "output_type": "execute_result"
    }
   ],
   "source": [
    "num_classes"
   ]
  },
  {
   "cell_type": "code",
   "execution_count": 30,
   "metadata": {},
   "outputs": [],
   "source": [
    "# 构建模型。不涉及到hw的事情，去掉后面的层\n",
    "m = ResNetIsh_1SSD_std(block=torchvision.models.resnet.BasicBlock,\n",
    "                   layers=[2,2,2],\n",
    "                   chs=[64,128,256],\n",
    "                   strides=[1,2,2],\n",
    "                   pred_layerIds=[2],\n",
    "                   num_anchors=1,\n",
    "                   neck_block=nb_resnet_ssd.cnv1x1_bn_relu,\n",
    "                   head_chin=256,\n",
    "                   head_block=ssd_block_std,\n",
    "                   num_classes=17)"
   ]
  },
  {
   "cell_type": "code",
   "execution_count": 32,
   "metadata": {
    "code_folding": []
   },
   "outputs": [
    {
     "name": "stdout",
     "output_type": "stream",
     "text": [
      "> <ipython-input-19-3fbddb3b72b6>(5)forward()\n",
      "-> outs = self._forward_impl(x)\n",
      "(Pdb) c\n"
     ]
    }
   ],
   "source": [
    "# 跑一个batch\n",
    "pred = m(x)"
   ]
  },
  {
   "cell_type": "code",
   "execution_count": 35,
   "metadata": {
    "code_folding": []
   },
   "outputs": [
    {
     "name": "stdout",
     "output_type": "stream",
     "text": [
      "type(pred)=<class 'tuple'>\n",
      "len(pred)=3\n",
      "-----------------------\n",
      "torch.Size([64, 2401, 2])\n",
      "torch.Size([64, 2401, 1])\n",
      "torch.Size([64, 2401, 17])\n",
      "-----------------------\n",
      "2401\n"
     ]
    }
   ],
   "source": [
    "# 查看输出的形状\n",
    "print(f'type(pred)={type(pred)}')\n",
    "print(f'len(pred)={len(pred)}')\n",
    "\n",
    "print('-----------------------')\n",
    "for p in pred:\n",
    "    print(p.shape)\n",
    "    \n",
    "print('-----------------------')\n",
    "#print(49*49*4+25*25*4+13*13*4)\n",
    "print(49*49*1)"
   ]
  },
  {
   "cell_type": "code",
   "execution_count": null,
   "metadata": {},
   "outputs": [],
   "source": []
  },
  {
   "cell_type": "markdown",
   "metadata": {},
   "source": [
    "## zip as function"
   ]
  },
  {
   "cell_type": "code",
   "execution_count": 56,
   "metadata": {},
   "outputs": [],
   "source": [
    "# export\n",
    "def get_resnet18_1ssd_std(layers4fpn = False, num_classes = 1):\n",
    "    #layers4fpn是否保留后面的两层给fpn用\n",
    "    if layers4fpn:\n",
    "        return ResNetIsh_1SSD_std(block=torchvision.models.resnet.BasicBlock,\n",
    "                   layers=[2,2,2],\n",
    "                   chs=[64,128,256],\n",
    "                   strides=[1,2,2],\n",
    "                   pred_layerIds=[2],\n",
    "                   num_anchors=[1],\n",
    "                   neck_block=nb_resnet_ssd.cnv1x1_bn_relu,\n",
    "                   head_chin=256,\n",
    "                   head_block=ssd_block_std,\n",
    "                   num_classes=num_classes)\n",
    "    else:\n",
    "        return ResNetIsh_1SSD_std(block=torchvision.models.resnet.BasicBlock,\n",
    "                   layers=[2,2,2,2,2],\n",
    "                   chs=[64,128,256,512,1024],\n",
    "                   strides=[1,2,2,2,2],\n",
    "                   pred_layerIds=[2],\n",
    "                   num_anchors=1,\n",
    "                   neck_block=nb_resnet_ssd.cnv1x1_bn_relu,\n",
    "                   head_chin=256,\n",
    "                   head_block=ssd_block_std,\n",
    "                   num_classes=num_classes)"
   ]
  },
  {
   "cell_type": "code",
   "execution_count": 59,
   "metadata": {},
   "outputs": [],
   "source": [
    "# export\n",
    "def get_resnet18_ssd_std(layers4fpn = False, num_classes = 1):\n",
    "    if layers4fpn:\n",
    "        return ResNetIsh_SSD_std(block=torchvision.models.resnet.BasicBlock,\n",
    "                  layers=[2,2,2],\n",
    "                  chs=[64,128,256],\n",
    "                  strides=[1,2,2],\n",
    "                  pred_layerIds=[2],\n",
    "                  num_anchors=[1],\n",
    "                  pred_block=ssd_block_std,\n",
    "                  num_classes=num_classes)\n",
    "    else:\n",
    "        return ResNetIsh_SSD(block=torchvision.models.resnet.BasicBlock,\n",
    "                  layers=[2,2,2,2,2],\n",
    "                  chs=[64,128,256,512,1024],\n",
    "                  strides=[1,2,2,2,2],\n",
    "                  pred_layerIds=[2],\n",
    "                  num_anchors=1,\n",
    "                  pred_block=nb_resnet_ssd.ssd_block,\n",
    "                  num_classes=num_classes)"
   ]
  },
  {
   "cell_type": "code",
   "execution_count": null,
   "metadata": {},
   "outputs": [],
   "source": [
    "get_resnet18_ssd_std(layers4fpn = True)"
   ]
  },
  {
   "cell_type": "markdown",
   "metadata": {},
   "source": [
    "# export"
   ]
  },
  {
   "cell_type": "code",
   "execution_count": 58,
   "metadata": {
    "scrolled": true
   },
   "outputs": [
    {
     "name": "stdout",
     "output_type": "stream",
     "text": [
      "Converted resnet_ssd_std.ipynb to exp/nb_resnet_ssd_std.py\r\n"
     ]
    }
   ],
   "source": [
    "!python notebook2script.py --fname 'resnet_ssd_std.ipynb' --outputDir './exp/'"
   ]
  },
  {
   "cell_type": "code",
   "execution_count": null,
   "metadata": {},
   "outputs": [],
   "source": []
  }
 ],
 "metadata": {
  "kernelspec": {
   "display_name": "Python 3",
   "language": "python",
   "name": "python3"
  },
  "language_info": {
   "codemirror_mode": {
    "name": "ipython",
    "version": 3
   },
   "file_extension": ".py",
   "mimetype": "text/x-python",
   "name": "python",
   "nbconvert_exporter": "python",
   "pygments_lexer": "ipython3",
   "version": "3.7.2"
  }
 },
 "nbformat": 4,
 "nbformat_minor": 2
}
