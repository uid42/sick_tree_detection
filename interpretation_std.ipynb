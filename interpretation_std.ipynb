{
 "cells": [
  {
   "cell_type": "code",
   "execution_count": null,
   "metadata": {},
   "outputs": [],
   "source": [
    "%load_ext autoreload\n",
    "%autoreload 2\n",
    "\n",
    "%matplotlib inline"
   ]
  },
  {
   "cell_type": "markdown",
   "metadata": {},
   "source": [
    "# import"
   ]
  },
  {
   "cell_type": "code",
   "execution_count": null,
   "metadata": {},
   "outputs": [],
   "source": [
    "from exp import nb_anchors_loss_metrics_std\n",
    "from exp import nb_resnet_ssd_std"
   ]
  },
  {
   "cell_type": "code",
   "execution_count": null,
   "metadata": {},
   "outputs": [],
   "source": [
    "import sys \n",
    "sys.path.append(\"..\") \n",
    "from detect_symbol.exp import nb_databunch\n",
    "from detect_symbol.exp import nb_resnet_ssd\n",
    "from detect_symbol.exp import nb_anchors_loss_metrics"
   ]
  },
  {
   "cell_type": "code",
   "execution_count": null,
   "metadata": {},
   "outputs": [],
   "source": [
    "sys.path.append(\"../detect_symbol\") \n",
    "from detect_symbol.exp import nb_interpretation"
   ]
  },
  {
   "cell_type": "code",
   "execution_count": null,
   "metadata": {},
   "outputs": [],
   "source": [
    "from detect_symbol.exp.nb_anchors_loss_metrics import get_y, idx_fromScoresHits"
   ]
  },
  {
   "cell_type": "code",
   "execution_count": null,
   "metadata": {},
   "outputs": [],
   "source": [
    "from detect_symbol.exp.nb_interpretation import draw_rect, draw_text, draw_outline, idx_from_gt"
   ]
  },
  {
   "cell_type": "code",
   "execution_count": null,
   "metadata": {},
   "outputs": [],
   "source": [
    "# export\n",
    "import torch"
   ]
  },
  {
   "cell_type": "code",
   "execution_count": null,
   "metadata": {},
   "outputs": [],
   "source": [
    "# export\n",
    "from torch import tensor"
   ]
  },
  {
   "cell_type": "code",
   "execution_count": null,
   "metadata": {},
   "outputs": [],
   "source": [
    "from fastai.basic_train import Learner"
   ]
  },
  {
   "cell_type": "code",
   "execution_count": null,
   "metadata": {},
   "outputs": [],
   "source": [
    "# export\n",
    "from matplotlib import pyplot as plt"
   ]
  },
  {
   "cell_type": "code",
   "execution_count": null,
   "metadata": {},
   "outputs": [],
   "source": [
    "# export\n",
    "from matplotlib import patches,patheffects"
   ]
  },
  {
   "cell_type": "code",
   "execution_count": null,
   "metadata": {},
   "outputs": [],
   "source": [
    "# export\n",
    "from IPython.core import debugger as idb"
   ]
  },
  {
   "cell_type": "code",
   "execution_count": null,
   "metadata": {},
   "outputs": [],
   "source": [
    "from fastai.vision.image import Image"
   ]
  },
  {
   "cell_type": "code",
   "execution_count": null,
   "metadata": {},
   "outputs": [],
   "source": [
    "from functools import partial"
   ]
  },
  {
   "cell_type": "code",
   "execution_count": null,
   "metadata": {},
   "outputs": [],
   "source": [
    "# export\n",
    "from math import ceil"
   ]
  },
  {
   "cell_type": "markdown",
   "metadata": {},
   "source": [
    "# functions"
   ]
  },
  {
   "cell_type": "markdown",
   "metadata": {},
   "source": [
    "### show_gt"
   ]
  },
  {
   "cell_type": "code",
   "execution_count": null,
   "metadata": {},
   "outputs": [],
   "source": [
    "def show_gt(x,y):\n",
    "    img = data.denorm(x)[0].permute(1,2,0)\n",
    "\n",
    "    _,ax = plt.subplots(1,1,figsize=(15,15))\n",
    "    ax.imshow(img)\n",
    "    \n",
    "    for bb,cat in zip(y[0][0],y[1][0]):\n",
    "        bb = (bb+1)/2*776\n",
    "        draw_rect(ax,bb,lw=1)\n",
    "        \n",
    "        cat = cat-1\n",
    "        clas = classes[cat]\n",
    "        draw_text(ax,bb[[3,0]],clas[:3],sz=10)"
   ]
  },
  {
   "cell_type": "markdown",
   "metadata": {},
   "source": [
    "### show_gt_anchors"
   ]
  },
  {
   "cell_type": "code",
   "execution_count": null,
   "metadata": {},
   "outputs": [],
   "source": [
    "def show_gt_anchors(x,y,device,n=10):\n",
    "    '根据ground truch找到负责idxs，绘制这些idxs对应的anchor'\n",
    "    _,ax = plt.subplots(1,1,figsize=(20,20))\n",
    "    img = data.denorm(x)[0].permute(1,2,0)\n",
    "    ax.imshow(img)\n",
    "    #import pdb; pdb.set_trace()    \n",
    "    idxs = idx_from_gt(*y,gaf=gaf)\n",
    "    for idx in idxs:\n",
    "        gv = gvs[idx]*x.shape[-1]\n",
    "        draw_rect(ax,gv,lw=1,color='g')\n",
    "        \n",
    "        cx = gv[[0,2]].mean()\n",
    "        cy = gv[[1,3]].mean()\n",
    "        \n",
    "        av = avs[idx]*x.shape[-1]\n",
    "        av = av+tensor([cx,cy,cx,cy]).to(device)\n",
    "        draw_rect(ax,av,lw=1)\n",
    "        \n",
    "\n",
    "        draw_text(ax,av[[3,0]],f'{idx}',sz=10)\n",
    "    return idxs"
   ]
  },
  {
   "cell_type": "markdown",
   "metadata": {
    "heading_collapsed": true
   },
   "source": [
    "###  idx_from_gt"
   ]
  },
  {
   "cell_type": "code",
   "execution_count": null,
   "metadata": {
    "hidden": true
   },
   "outputs": [],
   "source": [
    "def idx_from_gt(*gt_batch, gaf):\n",
    "    loss = 0\n",
    "    cnt = 0\n",
    "    for gt_bboxs in gt_batch[0]:\n",
    "        keep = get_y(gt_bboxs)\n",
    "        if keep.numel()==0: continue\n",
    "          \n",
    "        gt_bboxs = gt_bboxs[keep]\n",
    "        \n",
    "        gt_bboxs = (gt_bboxs + 1) / 2\n",
    "        \n",
    "        scores,hits = gaf.get_scores_hits(gt_bboxs)\n",
    "        idx = idx_fromScoresHits(scores,hits)\n",
    "        \n",
    "        return idx"
   ]
  },
  {
   "cell_type": "markdown",
   "metadata": {},
   "source": [
    "# test"
   ]
  },
  {
   "cell_type": "markdown",
   "metadata": {
    "heading_collapsed": true
   },
   "source": [
    "## 准备好learner"
   ]
  },
  {
   "cell_type": "code",
   "execution_count": null,
   "metadata": {
    "hidden": true
   },
   "outputs": [],
   "source": [
    "device = torch.device('cuda')"
   ]
  },
  {
   "cell_type": "code",
   "execution_count": null,
   "metadata": {
    "hidden": true
   },
   "outputs": [],
   "source": [
    "#先用detect_symbol的数据集测试\n",
    "data = nb_databunch.get_databunch(data_root = '../detect_symbol/data/ds_20200429', bs=4, device=device)\n",
    "x,y = data.one_batch()"
   ]
  },
  {
   "cell_type": "code",
   "execution_count": null,
   "metadata": {
    "hidden": true
   },
   "outputs": [],
   "source": [
    "gaf = nb_anchors_loss_metrics_std.GridAnchor_Funcs_std(fig_hw = (776,776)\n",
    "                         , grids = [(49,49)]\n",
    "                         , device = device)\n",
    "gvs, avs = gaf.gvs, gaf.avs"
   ]
  },
  {
   "cell_type": "code",
   "execution_count": null,
   "metadata": {
    "hidden": true
   },
   "outputs": [],
   "source": [
    "model = nb_resnet_ssd_std.get_resnet18_1ssd_std(num_classes = 17)"
   ]
  },
  {
   "cell_type": "code",
   "execution_count": null,
   "metadata": {
    "hidden": true
   },
   "outputs": [],
   "source": [
    "fn = '../detect_symbol_bak20200427/data/ds_20200227/models/run_0.pth'\n",
    "stat = torch.load(fn)"
   ]
  },
  {
   "cell_type": "code",
   "execution_count": null,
   "metadata": {
    "hidden": true
   },
   "outputs": [],
   "source": [
    "for n, p in model.named_parameters():\n",
    "    print(n, p.shape, p.sum().cpu().detach().numpy(), stat['model'][n].sum().cpu().detach().numpy())\n",
    "    #print(n, p.shape)\n",
    "    p = stat['model'][n]"
   ]
  },
  {
   "cell_type": "code",
   "execution_count": null,
   "metadata": {
    "hidden": true
   },
   "outputs": [],
   "source": [
    "learn = Learner(data,model)"
   ]
  },
  {
   "cell_type": "code",
   "execution_count": null,
   "metadata": {
    "hidden": true
   },
   "outputs": [],
   "source": [
    "# 把模型放到device上，如果使用GPU，则设置使用哪几个GPU\n",
    "if hasattr(learn.model, \"module\"): \n",
    "    learn.model = model.module\n",
    "\n",
    "learn.model.to(device);\n",
    "\n",
    "if device.type=='cuda':\n",
    "    learn.model = torch.nn.DataParallel(model,device_ids=[0,1])"
   ]
  },
  {
   "cell_type": "code",
   "execution_count": null,
   "metadata": {
    "hidden": true
   },
   "outputs": [],
   "source": [
    "learn.model.eval();"
   ]
  },
  {
   "cell_type": "markdown",
   "metadata": {
    "heading_collapsed": true
   },
   "source": [
    "## 验证模型的整体表现"
   ]
  },
  {
   "cell_type": "code",
   "execution_count": null,
   "metadata": {
    "hidden": true
   },
   "outputs": [],
   "source": [
    "data.train_dl.batch_size\n"
   ]
  },
  {
   "cell_type": "code",
   "execution_count": null,
   "metadata": {
    "hidden": true
   },
   "outputs": [],
   "source": [
    "metrics = [partial(nb_anchors_loss_metrics.clas_L,gaf=gaf),\n",
    "           partial(nb_anchors_loss_metrics.cent_L,gaf=gaf),\n",
    "           partial(nb_anchors_loss_metrics.pConf_L,gaf=gaf),\n",
    "           partial(nb_anchors_loss_metrics.nConf_L,gaf=gaf),\n",
    "           partial(nb_anchors_loss_metrics.clas_acc,gaf=gaf),\n",
    "           partial(nb_anchors_loss_metrics_std.cent_d_std,gaf=gaf)]\n",
    "\n",
    "learn.loss_func = partial(nb_anchors_loss_metrics_std.yolo_L_std, gaf=gaf)\n",
    "\n",
    "res = learn.validate(data.train_dl,metrics=metrics)\n",
    "\n",
    "res"
   ]
  },
  {
   "cell_type": "markdown",
   "metadata": {},
   "source": [
    "## 观察"
   ]
  },
  {
   "cell_type": "code",
   "execution_count": null,
   "metadata": {
    "scrolled": true
   },
   "outputs": [],
   "source": [
    "classes = data.train_ds.y.classes[1:]\n",
    "classes"
   ]
  },
  {
   "cell_type": "code",
   "execution_count": null,
   "metadata": {},
   "outputs": [],
   "source": [
    "x,y = next(iter(data.valid_dl))\n",
    "show_gt(x,y)"
   ]
  },
  {
   "cell_type": "code",
   "execution_count": null,
   "metadata": {
    "scrolled": false
   },
   "outputs": [],
   "source": [
    "show_gt_anchors(x,y, device)"
   ]
  },
  {
   "cell_type": "markdown",
   "metadata": {},
   "source": [
    "# export"
   ]
  },
  {
   "cell_type": "code",
   "execution_count": null,
   "metadata": {
    "scrolled": true
   },
   "outputs": [],
   "source": [
    "!python notebook2script.py --fname 'interpretation.ipynb' --outputDir './exp/'"
   ]
  },
  {
   "cell_type": "code",
   "execution_count": null,
   "metadata": {},
   "outputs": [],
   "source": []
  }
 ],
 "metadata": {
  "kernelspec": {
   "display_name": "Python 3",
   "language": "python",
   "name": "python3"
  },
  "language_info": {
   "codemirror_mode": {
    "name": "ipython",
    "version": 3
   },
   "file_extension": ".py",
   "mimetype": "text/x-python",
   "name": "python",
   "nbconvert_exporter": "python",
   "pygments_lexer": "ipython3",
   "version": "3.7.2"
  }
 },
 "nbformat": 4,
 "nbformat_minor": 2
}
