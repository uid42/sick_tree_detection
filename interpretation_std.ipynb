{
 "cells": [
  {
   "cell_type": "code",
   "execution_count": null,
   "metadata": {},
   "outputs": [],
   "source": [
    "%load_ext autoreload\n",
    "%autoreload 2\n",
    "\n",
    "%matplotlib inline"
   ]
  },
  {
   "cell_type": "markdown",
   "metadata": {},
   "source": [
    "# import"
   ]
  },
  {
   "cell_type": "code",
   "execution_count": null,
   "metadata": {},
   "outputs": [],
   "source": [
    "from exp import nb_anchors_loss_metrics_std\n",
    "from exp import nb_resnet_ssd_std"
   ]
  },
  {
   "cell_type": "code",
   "execution_count": null,
   "metadata": {},
   "outputs": [],
   "source": [
    "import sys \n",
    "sys.path.append(\"..\") \n",
    "from detect_symbol.exp import nb_databunch\n",
    "from detect_symbol.exp import nb_resnet_ssd\n",
    "from detect_symbol.exp import nb_anchors_loss_metrics"
   ]
  },
  {
   "cell_type": "code",
   "execution_count": null,
   "metadata": {},
   "outputs": [],
   "source": [
    "sys.path.append(\"../detect_symbol\") \n",
    "from detect_symbol.exp import nb_interpretation"
   ]
  },
  {
   "cell_type": "code",
   "execution_count": null,
   "metadata": {},
   "outputs": [],
   "source": [
    "from detect_symbol.exp.nb_anchors_loss_metrics import get_y, idx_fromScoresHits"
   ]
  },
  {
   "cell_type": "code",
   "execution_count": null,
   "metadata": {},
   "outputs": [],
   "source": [
    "from detect_symbol.exp.nb_interpretation import draw_rect, draw_text, draw_outline"
   ]
  },
  {
   "cell_type": "code",
   "execution_count": null,
   "metadata": {},
   "outputs": [],
   "source": [
    "# export\n",
    "import torch"
   ]
  },
  {
   "cell_type": "code",
   "execution_count": null,
   "metadata": {},
   "outputs": [],
   "source": [
    "# export\n",
    "from torch import tensor"
   ]
  },
  {
   "cell_type": "code",
   "execution_count": null,
   "metadata": {},
   "outputs": [],
   "source": [
    "from fastai.basic_train import Learner"
   ]
  },
  {
   "cell_type": "code",
   "execution_count": null,
   "metadata": {},
   "outputs": [],
   "source": [
    "# export\n",
    "from matplotlib import pyplot as plt"
   ]
  },
  {
   "cell_type": "code",
   "execution_count": null,
   "metadata": {},
   "outputs": [],
   "source": [
    "# export\n",
    "from matplotlib import patches,patheffects"
   ]
  },
  {
   "cell_type": "code",
   "execution_count": null,
   "metadata": {},
   "outputs": [],
   "source": [
    "# export\n",
    "from IPython.core import debugger as idb"
   ]
  },
  {
   "cell_type": "code",
   "execution_count": null,
   "metadata": {},
   "outputs": [],
   "source": [
    "from fastai.vision.image import Image"
   ]
  },
  {
   "cell_type": "code",
   "execution_count": null,
   "metadata": {},
   "outputs": [],
   "source": [
    "from functools import partial"
   ]
  },
  {
   "cell_type": "code",
   "execution_count": null,
   "metadata": {},
   "outputs": [],
   "source": [
    "# export\n",
    "from math import ceil"
   ]
  },
  {
   "cell_type": "markdown",
   "metadata": {},
   "source": [
    "# functions"
   ]
  },
  {
   "cell_type": "markdown",
   "metadata": {},
   "source": [
    "### show_gt"
   ]
  },
  {
   "cell_type": "code",
   "execution_count": null,
   "metadata": {},
   "outputs": [],
   "source": [
    "def show_gt(x,y):\n",
    "    img = data.denorm(x)[0].permute(1,2,0)\n",
    "\n",
    "    _,ax = plt.subplots(1,1,figsize=(15,15))\n",
    "    ax.imshow(img)\n",
    "    \n",
    "    for bb,cat in zip(y[0][0],y[1][0]):\n",
    "        bb = (bb+1)/2*776\n",
    "        draw_rect(ax,bb,lw=1)\n",
    "        \n",
    "        cat = cat-1\n",
    "        clas = classes[cat]\n",
    "        draw_text(ax,bb[[3,0]],clas[:3],sz=10)"
   ]
  },
  {
   "cell_type": "markdown",
   "metadata": {},
   "source": [
    "### show_gt_anchors"
   ]
  },
  {
   "cell_type": "code",
   "execution_count": null,
   "metadata": {},
   "outputs": [],
   "source": [
    "def show_gt_anchors(x,y,device,n=10):\n",
    "    '根据ground truch找到负责idxs，绘制这些idxs对应的anchor'\n",
    "    _,ax = plt.subplots(1,1,figsize=(20,20))\n",
    "    img = data.denorm(x)[0].permute(1,2,0)\n",
    "    ax.imshow(img)\n",
    "    #import pdb; pdb.set_trace()    \n",
    "    idxs = idx_from_gt(*y,gaf=gaf)\n",
    "    for idx in idxs:\n",
    "        gv = gvs[idx]*x.shape[-1]\n",
    "        draw_rect(ax,gv,lw=1,color='g')\n",
    "        \n",
    "        cx = gv[[0,2]].mean()\n",
    "        cy = gv[[1,3]].mean()\n",
    "        \n",
    "        av = avs[idx]*x.shape[-1]\n",
    "        av = av+tensor([cx,cy,cx,cy]).to(device)\n",
    "        draw_rect(ax,av,lw=1)\n",
    "        \n",
    "\n",
    "        draw_text(ax,av[[3,0]],f'{idx}',sz=10)\n",
    "    return idxs"
   ]
  },
  {
   "cell_type": "markdown",
   "metadata": {},
   "source": [
    "###  idx_from_gt"
   ]
  },
  {
   "cell_type": "code",
   "execution_count": null,
   "metadata": {},
   "outputs": [],
   "source": [
    "def idx_from_gt(*gt_batch, gaf):\n",
    "    loss = 0\n",
    "    cnt = 0\n",
    "    for gt_bboxs in gt_batch[0]:\n",
    "        keep = get_y(gt_bboxs)\n",
    "        if keep.numel()==0: continue\n",
    "          \n",
    "        gt_bboxs = gt_bboxs[keep]\n",
    "        \n",
    "        gt_bboxs = (gt_bboxs + 1) / 2\n",
    "        \n",
    "        scores,hits = gaf.get_scores_hits(gt_bboxs)\n",
    "        idx = idx_fromScoresHits(scores,hits)\n",
    "        \n",
    "        return idx"
   ]
  },
  {
   "cell_type": "code",
   "execution_count": null,
   "metadata": {},
   "outputs": [],
   "source": [
    "def process_netout_std(txys,cats,confs,gaf):\n",
    "    ts = torch.cat([txys],dim=-1)\n",
    "    ts2 = torch.cat([txys,txys],dim=-1)\n",
    "    ts.device\n",
    "    boxs = gaf.t2b(ts, torch.arange(start = 0, end = ts.shape[-2], device=ts.device))\n",
    "    \n",
    "    confs = torch.sigmoid(confs).squeeze(-1)\n",
    "    prbs,cats = torch.softmax(cats,dim=-1).max(dim=-1)\n",
    "#     cats = cats + 1\n",
    "    \n",
    "    return boxs,confs,cats,prbs"
   ]
  },
  {
   "cell_type": "code",
   "execution_count": null,
   "metadata": {},
   "outputs": [],
   "source": [
    "def netouts2preds_std(batchOut,gaf,composeConfPrb=True,filt_thres=0.9,ov_thres=0.2,despiteCat=True):\n",
    "    '''\n",
    "    处理一个batch\n",
    "    '''\n",
    "    batch_boxs = []\n",
    "    batch_confs = []\n",
    "    batch_cats = []\n",
    "    batch_prbs = []\n",
    "    batch_f1s = []\n",
    "    \n",
    "    for txys,confs,cats in zip(batchOut[0].detach(),batchOut[1].detach(),batchOut[2].detach()):\n",
    "        boxs,confs,cats,prbs = process_netout_std(txys,cats,confs,gaf)\n",
    "        \n",
    "        f1s = 2*confs*prbs/(confs+prbs)\n",
    "        if composeConfPrb:\n",
    "            filt = torch.where(f1s>filt_thres)\n",
    "        else:\n",
    "            filt = torch.where(confs>filt_thres)\n",
    "            \n",
    "        boxs = boxs[filt]\n",
    "        confs = confs[filt]\n",
    "        cats = cats[filt]\n",
    "        prbs = prbs[filt]\n",
    "        f1s = f1s[filt]\n",
    "        \n",
    "        '''\n",
    "        没有宽高。所以根本不需要nms\n",
    "        if composeConfPrb:\n",
    "            keep,cnt = nb_interpretation.nms(boxs, cats, f1s, ov_thres=ov_thres, despiteCat=True)\n",
    "        else:\n",
    "            keep,cnt = nb_interpretation.nms(boxs, cats, confs, ov_thres=ov_thres, despiteCat=True)            \n",
    "        keep = keep[:cnt].long()        \n",
    "        boxs = boxs[keep]\n",
    "        confs = confs[keep]\n",
    "        cats = cats[keep]\n",
    "        prbs = prbs[keep]\n",
    "        f1s = f1s[keep]\n",
    "        '''\n",
    "        \n",
    "        batch_boxs += [boxs]\n",
    "        batch_confs += [confs]\n",
    "        batch_cats += [cats]\n",
    "        batch_prbs += [prbs]\n",
    "        batch_f1s += [f1s]\n",
    "        \n",
    "    return batch_boxs, batch_confs, batch_cats, batch_prbs, batch_f1s"
   ]
  },
  {
   "cell_type": "code",
   "execution_count": null,
   "metadata": {},
   "outputs": [],
   "source": [
    "def show_top_pred(x,netOut,n=10):\n",
    "    '''\n",
    "    根据模型输出，处理得到boxs和confs，按照confs从大到小排序，绘制前n个的box.\n",
    "    x的作用仅是为绘制原图；\n",
    "    '''\n",
    "    _,ax = plt.subplots(1,1,figsize=(20,20))\n",
    "    img = data.denorm(x)[0].permute(1,2,0)\n",
    "    ax.imshow(img)\n",
    "    \n",
    "    txys,confs,cats = netOut[0][0].detach(),netOut[1][0].detach(),netOut[2][0].detach()\n",
    "    boxs,confs,cats,prbs = process_netout(txys,cats,confs,gaf)\n",
    "    \n",
    "    top_idx = confs.sort(descending=True)[1]\n",
    "    for idx in top_idx[:n]:\n",
    "        bb = boxs[idx]*x.shape[-1]\n",
    "        #draw_rect(ax,bb,lw=1)\n",
    "        w, h = 22, 22\n",
    "        lw = 1\n",
    "        patch = ax.add_patch(patches.Rectangle((bb[1],bb[0]), w, h\n",
    "                    , fill=False, edgecolor='green', lw=lw))\n",
    "        draw_outline(patch, lw=lw)\n",
    "\n",
    "        clas = classes[cats[idx]]\n",
    "        conf = confs[idx]\n",
    "        info = '{}_{}_{:.2f}'.format(idx,clas[:3],conf*100)\n",
    "        draw_text(ax,bb[[3,0]],info,sz=10)\n",
    "    return top_idx[:n]"
   ]
  },
  {
   "cell_type": "markdown",
   "metadata": {},
   "source": [
    "# test"
   ]
  },
  {
   "cell_type": "markdown",
   "metadata": {},
   "source": [
    "## 准备好learner"
   ]
  },
  {
   "cell_type": "code",
   "execution_count": null,
   "metadata": {},
   "outputs": [],
   "source": [
    "device = torch.device('cuda')"
   ]
  },
  {
   "cell_type": "code",
   "execution_count": null,
   "metadata": {},
   "outputs": [],
   "source": [
    "#先用detect_symbol的数据集测试\n",
    "data = nb_databunch.get_databunch(data_root = '../detect_symbol/data/ds_20200429', bs=4, device=device)\n",
    "x,y = data.one_batch()"
   ]
  },
  {
   "cell_type": "code",
   "execution_count": null,
   "metadata": {},
   "outputs": [],
   "source": [
    "gaf = nb_anchors_loss_metrics_std.GridAnchor_Funcs_std(fig_hw = (776,776)\n",
    "                         , grids = [(49,49)]\n",
    "                         , device = device)\n",
    "gvs, avs = gaf.gvs, gaf.avs"
   ]
  },
  {
   "cell_type": "code",
   "execution_count": null,
   "metadata": {},
   "outputs": [],
   "source": [
    "model = nb_resnet_ssd_std.get_resnet18_1ssd_std(num_classes = 17)"
   ]
  },
  {
   "cell_type": "code",
   "execution_count": null,
   "metadata": {},
   "outputs": [],
   "source": [
    "fn = '../detect_symbol_bak20200427/data/ds_20200227/models/run_0.pth'\n",
    "stat = torch.load(fn)"
   ]
  },
  {
   "cell_type": "code",
   "execution_count": null,
   "metadata": {},
   "outputs": [],
   "source": [
    "for n, p in model.named_parameters():\n",
    "    print(n, p.shape, p.sum().cpu().detach().numpy(), stat['model'][n].sum().cpu().detach().numpy())\n",
    "    #print(n, p.shape)\n",
    "    p = stat['model'][n]"
   ]
  },
  {
   "cell_type": "code",
   "execution_count": null,
   "metadata": {},
   "outputs": [],
   "source": [
    "learn = Learner(data,model)"
   ]
  },
  {
   "cell_type": "code",
   "execution_count": null,
   "metadata": {},
   "outputs": [],
   "source": [
    "# 把模型放到device上，如果使用GPU，则设置使用哪几个GPU\n",
    "if hasattr(learn.model, \"module\"): \n",
    "    learn.model = model.module\n",
    "\n",
    "learn.model.to(device);\n",
    "\n",
    "if device.type=='cuda':\n",
    "    learn.model = torch.nn.DataParallel(model,device_ids=[0,1])"
   ]
  },
  {
   "cell_type": "code",
   "execution_count": null,
   "metadata": {},
   "outputs": [],
   "source": [
    "learn.model.eval();"
   ]
  },
  {
   "cell_type": "markdown",
   "metadata": {},
   "source": [
    "## 验证模型的整体表现"
   ]
  },
  {
   "cell_type": "code",
   "execution_count": null,
   "metadata": {},
   "outputs": [],
   "source": [
    "data.train_dl.batch_size\n"
   ]
  },
  {
   "cell_type": "code",
   "execution_count": null,
   "metadata": {},
   "outputs": [],
   "source": [
    "metrics = [partial(nb_anchors_loss_metrics.clas_L,gaf=gaf),\n",
    "           partial(nb_anchors_loss_metrics.cent_L,gaf=gaf),\n",
    "           partial(nb_anchors_loss_metrics.pConf_L,gaf=gaf),\n",
    "           partial(nb_anchors_loss_metrics.nConf_L,gaf=gaf),\n",
    "           partial(nb_anchors_loss_metrics.clas_acc,gaf=gaf),\n",
    "           partial(nb_anchors_loss_metrics_std.cent_d_std,gaf=gaf)]\n",
    "\n",
    "learn.loss_func = partial(nb_anchors_loss_metrics_std.yolo_L_std, gaf=gaf)\n",
    "\n",
    "res = learn.validate(data.train_dl,metrics=metrics)\n",
    "\n",
    "res"
   ]
  },
  {
   "cell_type": "markdown",
   "metadata": {},
   "source": [
    "## 观察"
   ]
  },
  {
   "cell_type": "code",
   "execution_count": null,
   "metadata": {
    "scrolled": true
   },
   "outputs": [],
   "source": [
    "classes = data.train_ds.y.classes[1:]\n",
    "classes"
   ]
  },
  {
   "cell_type": "code",
   "execution_count": null,
   "metadata": {},
   "outputs": [],
   "source": [
    "data.valid_dl.batch_size"
   ]
  },
  {
   "cell_type": "code",
   "execution_count": null,
   "metadata": {},
   "outputs": [],
   "source": [
    "x,y = next(iter(data.valid_dl))\n",
    "show_gt(x,y)"
   ]
  },
  {
   "cell_type": "code",
   "execution_count": null,
   "metadata": {},
   "outputs": [],
   "source": [
    "len(y)"
   ]
  },
  {
   "cell_type": "code",
   "execution_count": null,
   "metadata": {},
   "outputs": [],
   "source": [
    "y[0].shape,y[1].shape"
   ]
  },
  {
   "cell_type": "code",
   "execution_count": null,
   "metadata": {},
   "outputs": [],
   "source": [
    "show_gt_anchors(x,y, device)"
   ]
  },
  {
   "cell_type": "code",
   "execution_count": null,
   "metadata": {},
   "outputs": [],
   "source": [
    "out = learn.model(x)"
   ]
  },
  {
   "cell_type": "code",
   "execution_count": null,
   "metadata": {},
   "outputs": [],
   "source": [
    "out[0].shape, out[1].shape, out[2].shape"
   ]
  },
  {
   "cell_type": "code",
   "execution_count": null,
   "metadata": {
    "scrolled": true
   },
   "outputs": [],
   "source": [
    "def dbg():    \n",
    "    import pdb; pdb.set_trace()    \n",
    "    pout = nb_interpretation.process_netout(out[0].detach(), out[0].detach(), out[2].detach(), out[1].detach(), gaf)\n",
    "dbg()    "
   ]
  },
  {
   "cell_type": "code",
   "execution_count": null,
   "metadata": {},
   "outputs": [],
   "source": [
    "# def dbg():    \n",
    "#     import pdb; pdb.set_trace()    \n",
    "#     t = netouts2preds_std(out, gaf)\n",
    "#     return t\n",
    "# t = dbg()"
   ]
  },
  {
   "cell_type": "code",
   "execution_count": null,
   "metadata": {},
   "outputs": [],
   "source": [
    "#show_gt_anchors(x, [t[0], t[2]], device)"
   ]
  },
  {
   "cell_type": "code",
   "execution_count": null,
   "metadata": {},
   "outputs": [],
   "source": [
    "# def dbg():    \n",
    "#     import pdb; pdb.set_trace() \n",
    "#     show_gt_anchors(x, [t[0], t[2]], device)\n",
    "# dbg()    "
   ]
  },
  {
   "cell_type": "code",
   "execution_count": null,
   "metadata": {},
   "outputs": [],
   "source": [
    "top_idx=show_top_pred(x,out,20)"
   ]
  },
  {
   "cell_type": "code",
   "execution_count": null,
   "metadata": {},
   "outputs": [],
   "source": [
    "top_idx"
   ]
  },
  {
   "cell_type": "code",
   "execution_count": null,
   "metadata": {
    "scrolled": false
   },
   "outputs": [],
   "source": [
    "batch_x = [data.denorm(xx) for xx in x]\n",
    "nb_interpretation.show_batch_pred(batch_x, t[0], t[2], t[1], data.classes)"
   ]
  },
  {
   "cell_type": "code",
   "execution_count": null,
   "metadata": {},
   "outputs": [],
   "source": []
  },
  {
   "cell_type": "code",
   "execution_count": null,
   "metadata": {},
   "outputs": [],
   "source": []
  },
  {
   "cell_type": "code",
   "execution_count": null,
   "metadata": {},
   "outputs": [],
   "source": []
  },
  {
   "cell_type": "code",
   "execution_count": null,
   "metadata": {},
   "outputs": [],
   "source": []
  },
  {
   "cell_type": "code",
   "execution_count": null,
   "metadata": {},
   "outputs": [],
   "source": []
  },
  {
   "cell_type": "code",
   "execution_count": null,
   "metadata": {},
   "outputs": [],
   "source": []
  },
  {
   "cell_type": "code",
   "execution_count": null,
   "metadata": {
    "scrolled": false
   },
   "outputs": [],
   "source": [
    "def dbg():    \n",
    "    import pdb; pdb.set_trace()    \n",
    "    pout = process_netout(out[0].detach(), out[2].detach(), out[1].detach(), gaf)\n",
    "\n",
    "pout = dbg()  "
   ]
  },
  {
   "cell_type": "code",
   "execution_count": null,
   "metadata": {},
   "outputs": [],
   "source": [
    "pout = process_netout(out[0].detach(), out[2].detach(), out[1].detach(), gaf)"
   ]
  },
  {
   "cell_type": "code",
   "execution_count": null,
   "metadata": {},
   "outputs": [],
   "source": [
    "pout[0].shape,pout[1].shape,pout[2].shape,pout[3].shape"
   ]
  },
  {
   "cell_type": "code",
   "execution_count": null,
   "metadata": {},
   "outputs": [],
   "source": [
    "TH = 0.98"
   ]
  },
  {
   "cell_type": "code",
   "execution_count": null,
   "metadata": {},
   "outputs": [],
   "source": [
    "torch.where(pout[1] > TH)[0].shape"
   ]
  },
  {
   "cell_type": "code",
   "execution_count": null,
   "metadata": {},
   "outputs": [],
   "source": [
    "filt = torch.where(pout[1] > TH)"
   ]
  },
  {
   "cell_type": "code",
   "execution_count": null,
   "metadata": {},
   "outputs": [],
   "source": [
    "boxs, confs, cats, prbs = pout[0], pout[1], pout[2], pout[3]"
   ]
  },
  {
   "cell_type": "code",
   "execution_count": null,
   "metadata": {},
   "outputs": [],
   "source": [
    "cats.shape"
   ]
  },
  {
   "cell_type": "code",
   "execution_count": null,
   "metadata": {},
   "outputs": [],
   "source": [
    "boxs = boxs[filt]"
   ]
  },
  {
   "cell_type": "code",
   "execution_count": null,
   "metadata": {},
   "outputs": [],
   "source": [
    "confs = confs[filt]"
   ]
  },
  {
   "cell_type": "code",
   "execution_count": null,
   "metadata": {},
   "outputs": [],
   "source": [
    "torch.min(confs)"
   ]
  },
  {
   "cell_type": "code",
   "execution_count": null,
   "metadata": {},
   "outputs": [],
   "source": [
    "#pout = nb_interpretation.process_netout(out[0].detach(), [], out[2].detach(), out[1].detach(), gaf)"
   ]
  },
  {
   "cell_type": "markdown",
   "metadata": {},
   "source": [
    "# export"
   ]
  },
  {
   "cell_type": "code",
   "execution_count": null,
   "metadata": {
    "scrolled": true
   },
   "outputs": [],
   "source": [
    "!python notebook2script.py --fname 'interpretation_std.ipynb' --outputDir './exp/'"
   ]
  },
  {
   "cell_type": "code",
   "execution_count": null,
   "metadata": {},
   "outputs": [],
   "source": []
  }
 ],
 "metadata": {
  "kernelspec": {
   "display_name": "Python 3",
   "language": "python",
   "name": "python3"
  }
 },
 "nbformat": 4,
 "nbformat_minor": 2
}
